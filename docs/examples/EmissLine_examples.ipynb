{
 "cells": [
  {
   "cell_type": "markdown",
   "metadata": {},
   "source": [
    "# Examples for EmissLine class [v1.1]"
   ]
  },
  {
   "cell_type": "code",
   "execution_count": 1,
   "metadata": {
    "collapsed": true
   },
   "outputs": [],
   "source": [
    "# imports\n",
    "# suppress warnings for these examples\n",
    "import warnings\n",
    "warnings.filterwarnings('ignore')\n",
    "\n",
    "from linetools import spectralline as lsp\n",
    "from linetools import line_utils as ltlu"
   ]
  },
  {
   "cell_type": "markdown",
   "metadata": {},
   "source": [
    "## Generate a line"
   ]
  },
  {
   "cell_type": "code",
   "execution_count": 2,
   "metadata": {
    "collapsed": false
   },
   "outputs": [
    {
     "name": "stdout",
     "output_type": "stream",
     "text": [
      "linetools.lists.parse: Reading linelist --- \n",
      "   /Users/xavier/local/Python/linetools/linetools/data/lines/galaxy_forbidden.ascii\n",
      "linetools.lists.parse: Reading linelist --- \n",
      "   /Users/xavier/local/Python/linetools/linetools/data/lines/galaxy_recomb.ascii\n",
      "linetools.lists.parse: Reading linelist --- \n",
      "   /Users/xavier/local/Python/linetools/linetools/data/lines/galaxy_abs.ascii\n",
      "read_sets: Using set file -- \n",
      "  /Users/xavier/local/Python/linetools/linetools/lists/sets/llist_v1.0.ascii\n"
     ]
    },
    {
     "data": {
      "text/plain": [
       "<EmLine: Halpha, wrest=6564.61 Angstrom>"
      ]
     },
     "execution_count": 2,
     "metadata": {},
     "output_type": "execute_result"
    }
   ],
   "source": [
    "reload(lsp)\n",
    "emisslin = lsp.EmLine('Halpha')\n",
    "emisslin"
   ]
  },
  {
   "cell_type": "markdown",
   "metadata": {},
   "source": [
    "## Data"
   ]
  },
  {
   "cell_type": "code",
   "execution_count": 3,
   "metadata": {
    "collapsed": false
   },
   "outputs": [
    {
     "data": {
      "text/plain": [
       "{'A': <Quantity 0.0 1 / s>,\n",
       " 'Am': masked,\n",
       " 'Ej': <Quantity 0.0 1 / cm>,\n",
       " 'Ek': <Quantity 0.0 1 / cm>,\n",
       " 'Ex': <Quantity 0.0 1 / cm>,\n",
       " 'Jj': masked,\n",
       " 'Jk': masked,\n",
       " 'Ref': u'DESI_NIST_JM',\n",
       " 'Z': 1,\n",
       " 'el': masked,\n",
       " 'f': masked,\n",
       " 'gamma': <Quantity 0.0 1 / s>,\n",
       " 'gj': masked,\n",
       " 'gk': masked,\n",
       " 'group': masked,\n",
       " 'ion': 1,\n",
       " 'mol': masked,\n",
       " 'name': u'Halpha',\n",
       " 'nj': masked,\n",
       " 'nk': masked,\n",
       " 'wrest': <Quantity 6564.613 Angstrom>}"
      ]
     },
     "execution_count": 3,
     "metadata": {},
     "output_type": "execute_result"
    }
   ],
   "source": [
    "emisslin.data"
   ]
  },
  {
   "cell_type": "markdown",
   "metadata": {},
   "source": [
    "## dict"
   ]
  },
  {
   "cell_type": "markdown",
   "metadata": {},
   "source": [
    "### to"
   ]
  },
  {
   "cell_type": "code",
   "execution_count": 4,
   "metadata": {
    "collapsed": false
   },
   "outputs": [
    {
     "data": {
      "text/plain": [
       "{'analy': {u'datafile': u'',\n",
       "  u'do_analysis': 1,\n",
       "  u'flag_kin': 0,\n",
       "  u'name': u'Halpha'},\n",
       " 'attrib': {u'DEC': 0.0,\n",
       "  u'EW': {'unit': u'Angstrom', 'value': 0.0},\n",
       "  u'RA': 0.0,\n",
       "  u'flag_EW': 0,\n",
       "  u'flag_flux': 0,\n",
       "  u'flux': {'unit': u'erg / s', 'value': 0.0},\n",
       "  u'sig_EW': {'unit': u'Angstrom', 'value': 0.0},\n",
       "  u'sig_flux': {'unit': u'erg / s', 'value': 0.0},\n",
       "  u'sig_v': {'unit': u'km / s', 'value': 0.0},\n",
       "  u'sig_z': 0.0,\n",
       "  u'v': {'unit': u'km / s', 'value': 0.0},\n",
       "  u'z': 0.0},\n",
       " 'data': {'A': {'unit': u'1 / s', 'value': 0.0},\n",
       "  'Ej': {'unit': u'1 / cm', 'value': 0.0},\n",
       "  'Ek': {'unit': u'1 / cm', 'value': 0.0},\n",
       "  'Ex': {'unit': u'1 / cm', 'value': 0.0},\n",
       "  'Ref': u'DESI_NIST_JM',\n",
       "  'Z': 1,\n",
       "  'gamma': {'unit': u'1 / s', 'value': 0.0},\n",
       "  'ion': 1,\n",
       "  'name': u'Halpha',\n",
       "  'wrest': {'unit': u'Angstrom', 'value': 6564.613}},\n",
       " 'limits': {u'vlim': {'unit': u'km / s', 'value': [0.0, 0.0]},\n",
       "  u'wvlim': {'unit': u'Angstrom', 'value': [6564.613, 6564.613]},\n",
       "  u'zlim': [0.0, 0.0]},\n",
       " 'ltype': u'Em',\n",
       " 'name': u'Halpha',\n",
       " 'wrest': {'unit': u'Angstrom', 'value': 6564.613}}"
      ]
     },
     "execution_count": 4,
     "metadata": {},
     "output_type": "execute_result"
    }
   ],
   "source": [
    "tmp = emisslin.to_dict()\n",
    "tmp"
   ]
  },
  {
   "cell_type": "markdown",
   "metadata": {},
   "source": [
    "### from "
   ]
  },
  {
   "cell_type": "code",
   "execution_count": 5,
   "metadata": {
    "collapsed": false
   },
   "outputs": [
    {
     "data": {
      "text/plain": [
       "<EmLine: Halpha, wrest=6564.61 Angstrom>"
      ]
     },
     "execution_count": 5,
     "metadata": {},
     "output_type": "execute_result"
    }
   ],
   "source": [
    "reload(lsp)\n",
    "tmp2 = lsp.SpectralLine.from_dict(tmp)\n",
    "tmp2"
   ]
  },
  {
   "cell_type": "markdown",
   "metadata": {},
   "source": [
    "## List of EmissLine objects"
   ]
  },
  {
   "cell_type": "code",
   "execution_count": 6,
   "metadata": {
    "collapsed": false
   },
   "outputs": [
    {
     "ename": "AttributeError",
     "evalue": "'module' object has no attribute 'EmissLine'",
     "output_type": "error",
     "traceback": [
      "\u001b[0;31m---------------------------------------------------------------------------\u001b[0m",
      "\u001b[0;31mAttributeError\u001b[0m                            Traceback (most recent call last)",
      "\u001b[0;32m<ipython-input-6-30b2da4480ad>\u001b[0m in \u001b[0;36m<module>\u001b[0;34m()\u001b[0m\n\u001b[0;32m----> 1\u001b[0;31m \u001b[0memisslines\u001b[0m \u001b[0;34m=\u001b[0m \u001b[0;34m[\u001b[0m\u001b[0memisslin\u001b[0m\u001b[0;34m,\u001b[0m \u001b[0mlsp\u001b[0m\u001b[0;34m.\u001b[0m\u001b[0mEmissLine\u001b[0m\u001b[0;34m(\u001b[0m\u001b[0;34m'Hbeta'\u001b[0m\u001b[0;34m)\u001b[0m\u001b[0;34m]\u001b[0m\u001b[0;34m\u001b[0m\u001b[0m\n\u001b[0m",
      "\u001b[0;31mAttributeError\u001b[0m: 'module' object has no attribute 'EmissLine'"
     ]
    }
   ],
   "source": [
    "emisslines = [emisslin, lsp.EmissLine('Hbeta')]"
   ]
  },
  {
   "cell_type": "markdown",
   "metadata": {},
   "source": [
    "### Parse"
   ]
  },
  {
   "cell_type": "code",
   "execution_count": null,
   "metadata": {
    "collapsed": false
   },
   "outputs": [],
   "source": [
    "wrest_values = ltlu.parse_speclines(emisslines, 'wrest')\n",
    "wrest_values"
   ]
  },
  {
   "cell_type": "markdown",
   "metadata": {},
   "source": [
    "### Transition table"
   ]
  },
  {
   "cell_type": "code",
   "execution_count": null,
   "metadata": {
    "collapsed": false
   },
   "outputs": [],
   "source": [
    "reload(ltlu)\n",
    "tbl = ltlu.transtable_from_speclines(emisslines)\n",
    "tbl"
   ]
  },
  {
   "cell_type": "code",
   "execution_count": null,
   "metadata": {
    "collapsed": true
   },
   "outputs": [],
   "source": []
  }
 ],
 "metadata": {
  "kernelspec": {
   "display_name": "Python 2",
   "language": "python",
   "name": "python2"
  },
  "language_info": {
   "codemirror_mode": {
    "name": "ipython",
    "version": 2
   },
   "file_extension": ".py",
   "mimetype": "text/x-python",
   "name": "python",
   "nbconvert_exporter": "python",
   "pygments_lexer": "ipython2",
   "version": "2.7.11"
  }
 },
 "nbformat": 4,
 "nbformat_minor": 0
}
