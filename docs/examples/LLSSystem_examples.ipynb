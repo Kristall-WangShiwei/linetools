{
 "cells": [
  {
   "cell_type": "markdown",
   "metadata": {},
   "source": [
    "# Examples for the LLSSystem Class (v1.1.1)"
   ]
  },
  {
   "cell_type": "code",
   "execution_count": 1,
   "metadata": {
    "collapsed": true
   },
   "outputs": [],
   "source": [
    "%matplotlib inline"
   ]
  },
  {
   "cell_type": "code",
   "execution_count": 2,
   "metadata": {
    "collapsed": false
   },
   "outputs": [
    {
     "name": "stderr",
     "output_type": "stream",
     "text": [
      "/Users/xavier/anaconda/lib/python2.7/site-packages/matplotlib/__init__.py:872: UserWarning: axes.color_cycle is deprecated and replaced with axes.prop_cycle; please use the latter.\n",
      "  warnings.warn(self.msg_depr % (key, alt_key))\n"
     ]
    }
   ],
   "source": [
    "# imports\n",
    "try:\n",
    "    import seaborn as sns; sns.set_style(\"white\")\n",
    "except:\n",
    "    pass\n",
    "\n",
    "from linetools.spectra.xspectrum1d import XSpectrum1D\n",
    "from linetools.isgm import lls as ltlls"
   ]
  },
  {
   "cell_type": "markdown",
   "metadata": {},
   "source": [
    "## Simple Instantiate"
   ]
  },
  {
   "cell_type": "code",
   "execution_count": 3,
   "metadata": {
    "collapsed": false
   },
   "outputs": [
    {
     "data": {
      "text/plain": [
       "[LLSSystem: 00:00:00 +00:00:00, zabs=2.5, NHI=17.9, tau_LL=5.03537, [Z/H]=0 dex]"
      ]
     },
     "execution_count": 3,
     "metadata": {},
     "output_type": "execute_result"
    }
   ],
   "source": [
    "reload(ltlls)\n",
    "lls = ltlls.LLSSystem((0.*u.deg, 0.*u.deg), 2.5, None, NHI=17.9)\n",
    "lls"
   ]
  },
  {
   "cell_type": "markdown",
   "metadata": {},
   "source": [
    "## Generate/plot a model"
   ]
  },
  {
   "cell_type": "code",
   "execution_count": 4,
   "metadata": {
    "collapsed": false
   },
   "outputs": [
    {
     "name": "stderr",
     "output_type": "stream",
     "text": [
      "WARNING: UnitsWarning: The unit 'Angstrom' has been deprecated in the FITS standard. Suggested: 10**-1 nm. [astropy.units.format.utils]\n",
      "WARNING:astropy:UnitsWarning: The unit 'Angstrom' has been deprecated in the FITS standard. Suggested: 10**-1 nm.\n"
     ]
    },
    {
     "name": "stdout",
     "output_type": "stream",
     "text": [
      "linetools.lists.parse: Reading linelist --- \n",
      "   /Users/xavier/local/Python/linetools/linetools/data/lines/morton03_table2.fits.gz\n",
      "read_sets: Using set file -- \n",
      "  /Users/xavier/local/Python/linetools/linetools/lists/sets/llist_v0.3.ascii\n"
     ]
    }
   ],
   "source": [
    "# Fill HI lines\n",
    "lls.fill_lls_lines()"
   ]
  },
  {
   "cell_type": "code",
   "execution_count": 5,
   "metadata": {
    "collapsed": false
   },
   "outputs": [],
   "source": [
    "# Generate a spectrum\n",
    "wave = np.arange(3000., 6500)\n",
    "npix = len(wave)\n",
    "spec = XSpectrum1D.from_tuple((wave*u.AA,np.ones(npix)))"
   ]
  },
  {
   "cell_type": "code",
   "execution_count": 6,
   "metadata": {
    "collapsed": false
   },
   "outputs": [
    {
     "name": "stderr",
     "output_type": "stream",
     "text": [
      "/Users/xavier/local/Python/linetools/linetools/analysis/voigt.py:177: UserWarning: Using a sub-grid wavelength array because the input array is too coarse.\n",
      "  warnings.warn('Using a sub-grid wavelength array because the input array is too coarse.')\n",
      "/Users/xavier/local/Python/linetools/linetools/analysis/voigt.py:178: UserWarning: Will return values rebinned to the input array.\n",
      "  warnings.warn('Will return values rebinned to the input array.')\n",
      "/Users/xavier/local/Python/linetools/linetools/analysis/voigt.py:213: UserWarning: Rebinned tau back to your input array.  Reconsider input\n",
      "  warnings.warn('Rebinned tau back to your input array.  Reconsider input')\n"
     ]
    },
    {
     "data": {
      "image/png": "[encoded data removed]",
      "text/plain": [
       "<matplotlib.figure.Figure at 0x10f345a90>"
      ]
     },
     "metadata": {},
     "output_type": "display_data"
    }
   ],
   "source": [
    "# Model\n",
    "model = lls.flux_model(spec)\n",
    "model.plot()"
   ]
  },
  {
   "cell_type": "markdown",
   "metadata": {},
   "source": [
    "## From a JXP .dat file \n",
    "\n",
    "(use of these .dat files is no longer recommended)"
   ]
  },
  {
   "cell_type": "code",
   "execution_count": 7,
   "metadata": {
    "collapsed": false
   },
   "outputs": [
    {
     "data": {
      "text/plain": [
       "[LLSSystem: 23:50:57.87 -00:52:09.9, zabs=2.93012, NHI=18.5, tau_LL=20.0462, [Z/H]=0 dex]"
      ]
     },
     "execution_count": 7,
     "metadata": {},
     "output_type": "execute_result"
    }
   ],
   "source": [
    "reload(ltlls)\n",
    "datfil = 'Data/UM184.z2929.dat'\n",
    "lls = ltlls.LLSSystem.from_datfile(dat_file=datfil, tree=os.getenv('LLSTREE'))\n",
    "lls"
   ]
  },
  {
   "cell_type": "code",
   "execution_count": 8,
   "metadata": {
    "collapsed": false
   },
   "outputs": [
    {
     "name": "stdout",
     "output_type": "stream",
     "text": [
      "1\n"
     ]
    },
    {
     "data": {
      "text/plain": [
       "{u'Fe_H': 0.0,\n",
       " u'NH': 0.0,\n",
       " u'NHI': 18.5,\n",
       " u'NHIsig': array([ 1.1,  0.4]),\n",
       " u'NHsig': array([ 0.,  0.]),\n",
       " u'U': 0.0,\n",
       " u'Usig': array([ 0.,  0.]),\n",
       " u'VPFIT_file': u'',\n",
       " u'alpha_H': 0.0,\n",
       " u'bsig': 0.0,\n",
       " u'bval': 0.0,\n",
       " u'clm_file': u'Abund/UM184.z2929_MAGE.clm',\n",
       " u'flg_Fe': 0,\n",
       " u'flg_alpha': 0,\n",
       " u'flg_low': 0,\n",
       " u'logx': 0.0,\n",
       " u'sig_Fe_H': 0.0,\n",
       " u'sig_a_H': 0.0,\n",
       " u'sigx': array([ 0.,  0.]),\n",
       " u'zabs': 2.93}"
      ]
     },
     "execution_count": 8,
     "metadata": {},
     "output_type": "execute_result"
    }
   ],
   "source": [
    "print(lls.nsub)\n",
    "lls.subsys['A']._datdict"
   ]
  },
  {
   "cell_type": "code",
   "execution_count": 9,
   "metadata": {
    "collapsed": false
   },
   "outputs": [
    {
     "data": {
      "text/plain": [
       "OrderedDict([(u'QSO name', u'UM184'),\n",
       "             (u'RA (2000)', u'23:50:57.87'),\n",
       "             (u'DEC (2000)', u'-00:52:09.9'),\n",
       "             (u'QSO zem', u'3.021000'),\n",
       "             (u'flg_QSOmag', u'0'),\n",
       "             (u'QSO Mag', u'0.000000'),\n",
       "             (u'QSO Survey', u'0'),\n",
       "             (u'Survey', u'0.00000'),\n",
       "             (u'Referenc', u''),\n",
       "             (u'SDSS plt,fib,mjd', u'0     0      0'),\n",
       "             (u'zabs', u'2.93012'),\n",
       "             (u'NHI tot', u'18.5000'),\n",
       "             (u'NHI sig', u'1.1000   0.4000'),\n",
       "             (u'NH tot', u'0.0000'),\n",
       "             (u'NH sig', u'0.0000   0.0000'),\n",
       "             (u'vmn,vmx (2f7)', u'0.0    0.0'),\n",
       "             (u'fdelv', u'0.00'),\n",
       "             (u'fmm', u'0.00'),\n",
       "             (u'fedg', u'0.00'),\n",
       "             (u'ftpk', u'0.00'),\n",
       "             (u'flg_M/H', u'0'),\n",
       "             (u'[M/H] ave', u'0.00'),\n",
       "             (u'sig[M/H]', u'0.00'),\n",
       "             (u'flg_D/H', u'0'),\n",
       "             (u'[D/H]', u'0.000000'),\n",
       "             (u'N subsys', u'1'),\n",
       "             (u'Cloudy Grid File', u'dum.fil'),\n",
       "             (u'System A', u'A'),\n",
       "             (u'A zabs', u'2.930000'),\n",
       "             (u'A NHI', u'18.5000'),\n",
       "             (u'A NHIsig', u'1.1000    0.4000'),\n",
       "             (u'A NH', u'0.0000'),\n",
       "             (u'A NHsig', u'0.0000    0.0000'),\n",
       "             (u'A log x', u'0.0000'),\n",
       "             (u'A sigx', u'0.0000    0.0000'),\n",
       "             (u'A b', u'0.0000'),\n",
       "             (u'A bsig', u'0.0000'),\n",
       "             (u'A Abund file', u'Abund/UM184.z2929_MAGE.clm'),\n",
       "             (u'A U', u'0.00'),\n",
       "             (u'A Usig', u'0.0000    0.0000'),\n",
       "             (u'A flg_low', u'0'),\n",
       "             (u'A flg_alpha', u'0'),\n",
       "             (u'A [alpha/H]', u'0.000000'),\n",
       "             (u'A sig[a/H]', u'0.000000'),\n",
       "             (u'A flg_Fe', u'0'),\n",
       "             (u'A [Fe/H]', u'0.000000'),\n",
       "             (u'A sig[Fe/H]', u'0.000000'),\n",
       "             (u'A VPFIT file', u'')])"
      ]
     },
     "execution_count": 9,
     "metadata": {},
     "output_type": "execute_result"
    }
   ],
   "source": [
    "lls._datdict"
   ]
  },
  {
   "cell_type": "markdown",
   "metadata": {},
   "source": [
    "### Load up ions"
   ]
  },
  {
   "cell_type": "code",
   "execution_count": 10,
   "metadata": {
    "collapsed": false
   },
   "outputs": [
    {
     "name": "stdout",
     "output_type": "stream",
     "text": [
      "linetools.lists.parse: Reading linelist --- \n",
      "   /Users/xavier/local/Python/linetools/linetools/data/lines/morton03_table2.fits.gz\n",
      "linetools.lists.parse: Reading linelist --- \n",
      "   /Users/xavier/local/Python/linetools/linetools/data/lines/morton00_table2.fits.gz\n",
      "linetools.lists.parse: Reading linelist --- \n",
      "   /Users/xavier/local/Python/linetools/linetools/data/lines/verner94_tab6.fits"
     ]
    },
    {
     "name": "stderr",
     "output_type": "stream",
     "text": [
      "WARNING: UnitsWarning: '0.1nm' did not parse as fits unit: Numeric factor not supported by FITS [astropy.units.core]\n",
      "WARNING:astropy:UnitsWarning: '0.1nm' did not parse as fits unit: Numeric factor not supported by FITS\n"
     ]
    },
    {
     "name": "stdout",
     "output_type": "stream",
     "text": [
      "\n",
      "linetools.lists.parse: Reading linelist --- \n",
      "   /Users/xavier/local/Python/linetools/linetools/data/lines/EUV_lines.ascii\n",
      "read_sets: Using set file -- \n",
      "  /Users/xavier/local/Python/linetools/linetools/lists/sets/llist_v0.3.ascii\n",
      "WARNING: Using 1250.5780 Angstrom for your input 1250.5840 Angstrom\n",
      "WARNING: Using 1253.8050 Angstrom for your input 1253.8110 Angstrom\n",
      "WARNING: Using 2056.2569 Angstrom for your input 2056.2539 Angstrom\n"
     ]
    }
   ],
   "source": [
    "lls.get_ions(use_clmfile=True)"
   ]
  },
  {
   "cell_type": "code",
   "execution_count": 11,
   "metadata": {
    "collapsed": false
   },
   "outputs": [
    {
     "data": {
      "text/html": [
       "&lt;QTable length=13&gt;\n",
       "<table id=\"table4343188816\">\n",
       "<thead><tr><th>Z</th><th>ion</th><th>A</th><th>Ej</th><th>z</th><th>vmin</th><th>vmax</th><th>flag_N</th><th>logN</th><th>sig_logN</th></tr></thead>\n",
       "<thead><tr><th></th><th></th><th></th><th></th><th></th><th>km / s</th><th>km / s</th><th></th><th></th><th></th></tr></thead>\n",
       "<thead><tr><th>int64</th><th>int64</th><th>int64</th><th>float64</th><th>float64</th><th>float64</th><th>float64</th><th>int64</th><th>float64</th><th>float64</th></tr></thead>\n",
       "<tr><td>6</td><td>1</td><td>0</td><td>0.0</td><td>2.93</td><td>-204.0</td><td>60.0</td><td>3</td><td>13.091</td><td>0.0</td></tr>\n",
       "<tr><td>6</td><td>2</td><td>0</td><td>0.0</td><td>2.93</td><td>-204.0</td><td>60.0</td><td>1</td><td>14.004</td><td>0.038</td></tr>\n",
       "<tr><td>6</td><td>4</td><td>0</td><td>0.0</td><td>2.93</td><td>-204.0</td><td>191.0</td><td>1</td><td>13.9</td><td>0.019</td></tr>\n",
       "<tr><td>8</td><td>1</td><td>0</td><td>0.0</td><td>2.93</td><td>-204.0</td><td>60.0</td><td>1</td><td>14.162</td><td>0.059</td></tr>\n",
       "<tr><td>13</td><td>2</td><td>0</td><td>0.0</td><td>2.93</td><td>-204.0</td><td>60.0</td><td>1</td><td>12.591</td><td>0.06</td></tr>\n",
       "<tr><td>13</td><td>3</td><td>0</td><td>0.0</td><td>2.93</td><td>-204.0</td><td>60.0</td><td>3</td><td>12.752</td><td>0.0</td></tr>\n",
       "<tr><td>14</td><td>2</td><td>0</td><td>0.0</td><td>2.93</td><td>-204.0</td><td>60.0</td><td>1</td><td>13.7</td><td>0.046</td></tr>\n",
       "<tr><td>14</td><td>4</td><td>0</td><td>0.0</td><td>2.93</td><td>-243.0</td><td>101.0</td><td>1</td><td>13.517</td><td>0.03</td></tr>\n",
       "<tr><td>16</td><td>2</td><td>0</td><td>0.0</td><td>2.93</td><td>-204.0</td><td>60.0</td><td>3</td><td>14.411</td><td>0.0</td></tr>\n",
       "<tr><td>24</td><td>2</td><td>0</td><td>0.0</td><td>2.93</td><td>-204.0</td><td>60.0</td><td>3</td><td>13.366</td><td>0.0</td></tr>\n",
       "<tr><td>26</td><td>2</td><td>0</td><td>0.0</td><td>2.93</td><td>-204.0</td><td>60.0</td><td>3</td><td>13.512</td><td>0.0</td></tr>\n",
       "<tr><td>28</td><td>2</td><td>0</td><td>0.0</td><td>2.93</td><td>-204.0</td><td>60.0</td><td>3</td><td>13.632</td><td>0.0</td></tr>\n",
       "<tr><td>30</td><td>2</td><td>0</td><td>0.0</td><td>2.93</td><td>-204.0</td><td>60.0</td><td>3</td><td>12.601</td><td>0.0</td></tr>\n",
       "</table>"
      ],
      "text/plain": [
       "<QTable length=13>\n",
       "  Z    ion    A      Ej      z      vmin    vmax  flag_N   logN  sig_logN\n",
       "                                   km / s  km / s                        \n",
       "int64 int64 int64 float64 float64 float64 float64 int64  float64 float64 \n",
       "----- ----- ----- ------- ------- ------- ------- ------ ------- --------\n",
       "    6     1     0     0.0    2.93  -204.0    60.0      3  13.091      0.0\n",
       "    6     2     0     0.0    2.93  -204.0    60.0      1  14.004    0.038\n",
       "    6     4     0     0.0    2.93  -204.0   191.0      1    13.9    0.019\n",
       "    8     1     0     0.0    2.93  -204.0    60.0      1  14.162    0.059\n",
       "   13     2     0     0.0    2.93  -204.0    60.0      1  12.591     0.06\n",
       "   13     3     0     0.0    2.93  -204.0    60.0      3  12.752      0.0\n",
       "   14     2     0     0.0    2.93  -204.0    60.0      1    13.7    0.046\n",
       "   14     4     0     0.0    2.93  -243.0   101.0      1  13.517     0.03\n",
       "   16     2     0     0.0    2.93  -204.0    60.0      3  14.411      0.0\n",
       "   24     2     0     0.0    2.93  -204.0    60.0      3  13.366      0.0\n",
       "   26     2     0     0.0    2.93  -204.0    60.0      3  13.512      0.0\n",
       "   28     2     0     0.0    2.93  -204.0    60.0      3  13.632      0.0\n",
       "   30     2     0     0.0    2.93  -204.0    60.0      3  12.601      0.0"
      ]
     },
     "execution_count": 11,
     "metadata": {},
     "output_type": "execute_result"
    }
   ],
   "source": [
    "lls._ionN"
   ]
  },
  {
   "cell_type": "code",
   "execution_count": null,
   "metadata": {
    "collapsed": true
   },
   "outputs": [],
   "source": []
  }
 ],
 "metadata": {
  "kernelspec": {
   "display_name": "Python 2",
   "language": "python",
   "name": "python2"
  },
  "language_info": {
   "codemirror_mode": {
    "name": "ipython",
    "version": 2
   },
   "file_extension": ".py",
   "mimetype": "text/x-python",
   "name": "python",
   "nbconvert_exporter": "python",
   "pygments_lexer": "ipython2",
   "version": "2.7.10"
  }
 },
 "nbformat": 4,
 "nbformat_minor": 0
}
