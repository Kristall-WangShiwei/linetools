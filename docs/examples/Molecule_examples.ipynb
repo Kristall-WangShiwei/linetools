{
 "cells": [
  {
   "cell_type": "markdown",
   "metadata": {},
   "source": [
    "# Examples with the Molecular lines"
   ]
  },
  {
   "cell_type": "code",
   "execution_count": 19,
   "metadata": {
    "collapsed": true
   },
   "outputs": [],
   "source": [
    "%matplotlib inline"
   ]
  },
  {
   "cell_type": "code",
   "execution_count": 1,
   "metadata": {
    "collapsed": true
   },
   "outputs": [],
   "source": [
    "# imports\n",
    "import numpy as np\n",
    "from astropy import units as u\n",
    "\n",
    "from linetools.lists.linelist import LineList\n",
    "from linetools.spectralline import AbsLine\n",
    "from linetools.analysis.voigt import voigt_from_abslines"
   ]
  },
  {
   "cell_type": "markdown",
   "metadata": {},
   "source": [
    "## Load H2"
   ]
  },
  {
   "cell_type": "code",
   "execution_count": 2,
   "metadata": {},
   "outputs": [
    {
     "data": {
      "text/plain": [
       "<LineList: H2; 397 transitions sorted by ['wrest'].>"
      ]
     },
     "execution_count": 2,
     "metadata": {},
     "output_type": "execute_result"
    }
   ],
   "source": [
    "h2 = LineList('H2')\n",
    "h2"
   ]
  },
  {
   "cell_type": "markdown",
   "metadata": {},
   "source": [
    "### Show some data"
   ]
  },
  {
   "cell_type": "code",
   "execution_count": 3,
   "metadata": {},
   "outputs": [
    {
     "data": {
      "text/html": [
       "<i>Table masked=True length=5</i>\n",
       "<table id=\"table139875163833456\" class=\"table-striped table-bordered table-condensed\">\n",
       "<thead><tr><th>A</th><th>el</th><th>nj</th><th>nk</th><th>group</th><th>name</th><th>Ek</th><th>f</th><th>wrest</th><th>Ref</th><th>mol</th><th>Ej</th><th>Am</th><th>ion</th><th>Ex</th><th>Jj</th><th>Jk</th><th>Z</th><th>gk</th><th>gj</th><th>gamma</th><th>Id</th></tr></thead>\n",
       "<thead><tr><th>1 / s</th><th></th><th></th><th></th><th></th><th></th><th>1 / cm</th><th></th><th>Angstrom</th><th></th><th></th><th>1 / cm</th><th></th><th></th><th>1 / cm</th><th></th><th></th><th></th><th></th><th></th><th>1 / s</th><th></th></tr></thead>\n",
       "<thead><tr><th>float64</th><th>int64</th><th>int64</th><th>int64</th><th>int64</th><th>str12</th><th>float64</th><th>float64</th><th>float64</th><th>str14</th><th>str2</th><th>float64</th><th>int64</th><th>int64</th><th>float64</th><th>float64</th><th>float64</th><th>int64</th><th>int64</th><th>int64</th><th>float64</th><th>int64</th></tr></thead>\n",
       "<tr><td>--</td><td>2</td><td>19</td><td>0</td><td>8</td><td>B19-0P(1)</td><td>--</td><td>0.001315</td><td>911.967</td><td>Abgrall93</td><td>H2</td><td>--</td><td>--</td><td>--</td><td>--</td><td>0.0</td><td>1.0</td><td>--</td><td>9</td><td>--</td><td>--</td><td>0</td></tr>\n",
       "<tr><td>--</td><td>3</td><td>6</td><td>0</td><td>8</td><td>C6-0P(5)</td><td>--</td><td>0.0006844</td><td>912.186</td><td>Abgrall93</td><td>H2</td><td>--</td><td>--</td><td>--</td><td>--</td><td>4.0</td><td>5.0</td><td>--</td><td>33</td><td>--</td><td>--</td><td>1</td></tr>\n",
       "<tr><td>--</td><td>2</td><td>20</td><td>0</td><td>8</td><td>B20-0R(4)</td><td>--</td><td>0.002472</td><td>912.235</td><td>Abgrall93</td><td>H2</td><td>--</td><td>--</td><td>--</td><td>--</td><td>5.0</td><td>4.0</td><td>--</td><td>9</td><td>--</td><td>--</td><td>2</td></tr>\n",
       "<tr><td>--</td><td>2</td><td>19</td><td>0</td><td>8</td><td>B19-0R(2)</td><td>--</td><td>0.002015</td><td>912.95</td><td>Abgrall93</td><td>H2</td><td>--</td><td>--</td><td>--</td><td>--</td><td>3.0</td><td>2.0</td><td>--</td><td>5</td><td>--</td><td>--</td><td>3</td></tr>\n",
       "<tr><td>--</td><td>2</td><td>20</td><td>0</td><td>8</td><td>B20-0P(4)</td><td>--</td><td>0.001162</td><td>913.605</td><td>Abgrall93</td><td>H2</td><td>--</td><td>--</td><td>--</td><td>--</td><td>3.0</td><td>4.0</td><td>--</td><td>9</td><td>--</td><td>--</td><td>4</td></tr>\n",
       "</table>"
      ],
      "text/plain": [
       "<Table masked=True length=5>\n",
       "   A      el    nj    nk  group    name   ...   Z     gk    gj   gamma    Id \n",
       " 1 / s                                    ...                    1 / s       \n",
       "float64 int64 int64 int64 int64   str12   ... int64 int64 int64 float64 int64\n",
       "------- ----- ----- ----- ----- --------- ... ----- ----- ----- ------- -----\n",
       "     --     2    19     0     8 B19-0P(1) ...    --     9    --      --     0\n",
       "     --     3     6     0     8  C6-0P(5) ...    --    33    --      --     1\n",
       "     --     2    20     0     8 B20-0R(4) ...    --     9    --      --     2\n",
       "     --     2    19     0     8 B19-0R(2) ...    --     5    --      --     3\n",
       "     --     2    20     0     8 B20-0P(4) ...    --     9    --      --     4"
      ]
     },
     "execution_count": 3,
     "metadata": {},
     "output_type": "execute_result"
    }
   ],
   "source": [
    "h2._data[0:5]"
   ]
  },
  {
   "cell_type": "markdown",
   "metadata": {},
   "source": [
    "## Generate a line"
   ]
  },
  {
   "cell_type": "code",
   "execution_count": 4,
   "metadata": {
    "collapsed": true
   },
   "outputs": [],
   "source": [
    "h2_B3_0P3 = AbsLine('B3-0P(3)', linelist=h2)"
   ]
  },
  {
   "cell_type": "code",
   "execution_count": 5,
   "metadata": {},
   "outputs": [
    {
     "data": {
      "text/plain": [
       "<AbsLine: B3-0P(3), z=0.0000 wrest=1070.1410 Angstrom, f=0.007537>"
      ]
     },
     "execution_count": 5,
     "metadata": {},
     "output_type": "execute_result"
    }
   ],
   "source": [
    "h2_B3_0P3"
   ]
  },
  {
   "cell_type": "markdown",
   "metadata": {},
   "source": [
    "## Generate a model"
   ]
  },
  {
   "cell_type": "markdown",
   "metadata": {},
   "source": [
    "### Attributes"
   ]
  },
  {
   "cell_type": "code",
   "execution_count": 6,
   "metadata": {},
   "outputs": [
    {
     "data": {
      "text/plain": [
       "<AbsLine: B3-0P(3), z=2.0000 wrest=1070.1410 Angstrom, f=0.007537>"
      ]
     },
     "execution_count": 6,
     "metadata": {},
     "output_type": "execute_result"
    }
   ],
   "source": [
    "h2_B3_0P3.attrib['N'] = 10**14./u.cm**2  # log N\n",
    "h2_B3_0P3.attrib['b'] = 25.*u.km/u.s\n",
    "h2_B3_0P3.setz(2.)\n",
    "h2_B3_0P3"
   ]
  },
  {
   "cell_type": "markdown",
   "metadata": {},
   "source": [
    "### Spectrum"
   ]
  },
  {
   "cell_type": "code",
   "execution_count": 10,
   "metadata": {},
   "outputs": [],
   "source": [
    "wave = np.arange(3000., 3600., 0.04) * u.AA"
   ]
  },
  {
   "cell_type": "markdown",
   "metadata": {},
   "source": [
    "### Model"
   ]
  },
  {
   "cell_type": "code",
   "execution_count": 11,
   "metadata": {},
   "outputs": [
    {
     "name": "stderr",
     "output_type": "stream",
     "text": [
      "/home/xavier/local/Python/linetools/linetools/analysis/voigt.py:187: UserWarning: Using a sub-grid wavelength array because the input array is too coarse.\n",
      "  warnings.warn('Using a sub-grid wavelength array because the input array is too coarse.')\n",
      "/home/xavier/local/Python/linetools/linetools/analysis/voigt.py:188: UserWarning: Will return values rebinned to the input array.\n",
      "  warnings.warn('Will return values rebinned to the input array.')\n"
     ]
    }
   ],
   "source": [
    "vmodel = voigt_from_abslines(wave, h2_B3_0P3, fwhm=3.)"
   ]
  },
  {
   "cell_type": "code",
   "execution_count": 20,
   "metadata": {},
   "outputs": [
    {
     "data": {
      "image/png": "[encoded data removed]",
      "text/plain": [
       "<matplotlib.figure.Figure at 0x7f37397dee80>"
      ]
     },
     "metadata": {},
     "output_type": "display_data"
    }
   ],
   "source": [
    "vmodel.plot(xlim=[3208.,3214.])"
   ]
  },
  {
   "cell_type": "code",
   "execution_count": null,
   "metadata": {
    "collapsed": true
   },
   "outputs": [],
   "source": []
  }
 ],
 "metadata": {
  "kernelspec": {
   "display_name": "Python 3",
   "language": "python",
   "name": "python3"
  },
  "language_info": {
   "codemirror_mode": {
    "name": "ipython",
    "version": 3
   },
   "file_extension": ".py",
   "mimetype": "text/x-python",
   "name": "python",
   "nbconvert_exporter": "python",
   "pygments_lexer": "ipython3",
   "version": "3.6.3"
  }
 },
 "nbformat": 4,
 "nbformat_minor": 2
}
