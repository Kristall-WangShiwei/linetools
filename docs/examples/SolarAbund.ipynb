{
 "cells": [
  {
   "cell_type": "markdown",
   "metadata": {},
   "source": [
    "# Examples with the SolarAbund Class"
   ]
  },
  {
   "cell_type": "code",
   "execution_count": 1,
   "metadata": {
    "collapsed": true
   },
   "outputs": [],
   "source": [
    "# import\n",
    "from linetools.abund import solar as labsol"
   ]
  },
  {
   "cell_type": "markdown",
   "metadata": {},
   "source": [
    "## Init"
   ]
  },
  {
   "cell_type": "code",
   "execution_count": 23,
   "metadata": {
    "collapsed": false
   },
   "outputs": [
    {
     "name": "stdout",
     "output_type": "stream",
     "text": [
      "Loading abundances from Asplund2009\n",
      "Abundances are relative, by number on a logarithmic scale with H=12\n"
     ]
    }
   ],
   "source": [
    "reload(labsol)\n",
    "sol = labsol.SolarAbund()"
   ]
  },
  {
   "cell_type": "code",
   "execution_count": 24,
   "metadata": {
    "collapsed": false
   },
   "outputs": [
    {
     "data": {
      "text/plain": [
       "[SolarAbund: Asplund2009]"
      ]
     },
     "execution_count": 24,
     "metadata": {},
     "output_type": "execute_result"
    }
   ],
   "source": [
    "sol"
   ]
  },
  {
   "cell_type": "markdown",
   "metadata": {
    "collapsed": true
   },
   "source": [
    "## Usage"
   ]
  },
  {
   "cell_type": "code",
   "execution_count": 25,
   "metadata": {
    "collapsed": false
   },
   "outputs": [
    {
     "data": {
      "text/plain": [
       "array(['Ag', 'Al', 'Ar', 'As', 'Au', 'B', 'Ba', 'C', 'Ca', 'Ce', 'Cd',\n",
       "       'Cl', 'Co', 'Cr', 'Cu', 'Eu', 'F', 'Fe', 'Ga', 'Ge', 'H', 'K', 'Kr',\n",
       "       'La', 'Li', 'Mg', 'Mn', 'Mo', 'N', 'Na', 'Ne', 'Nd', 'Ni', 'O', 'P',\n",
       "       'Pb', 'Rb', 'S', 'Sc', 'Se', 'Si', 'Sm', 'Sn', 'Te', 'Ti', 'Tl',\n",
       "       'V', 'Xe', 'Y', 'Zn', 'Zr', 'D'], \n",
       "      dtype='|S2')"
      ]
     },
     "execution_count": 25,
     "metadata": {},
     "output_type": "execute_result"
    }
   ],
   "source": [
    "# Grab one of the data columns\n",
    "elm = sol.Elm\n",
    "elm"
   ]
  },
  {
   "cell_type": "code",
   "execution_count": 26,
   "metadata": {
    "collapsed": false
   },
   "outputs": [
    {
     "name": "stdout",
     "output_type": "stream",
     "text": [
      "8.43\n",
      "8.43\n"
     ]
    }
   ],
   "source": [
    "# Simple calls\n",
    "print(sol['C'])\n",
    "print(sol[6])"
   ]
  },
  {
   "cell_type": "code",
   "execution_count": 27,
   "metadata": {
    "collapsed": false
   },
   "outputs": [
    {
     "name": "stdout",
     "output_type": "stream",
     "text": [
      "0.98\n"
     ]
    }
   ],
   "source": [
    "# Ratio\n",
    "print(sol['C/Fe'])"
   ]
  }
 ],
 "metadata": {
  "kernelspec": {
   "display_name": "Python 2",
   "language": "python",
   "name": "python2"
  },
  "language_info": {
   "codemirror_mode": {
    "name": "ipython",
    "version": 2
   },
   "file_extension": ".py",
   "mimetype": "text/x-python",
   "name": "python",
   "nbconvert_exporter": "python",
   "pygments_lexer": "ipython2",
   "version": "2.7.10"
  }
 },
 "nbformat": 4,
 "nbformat_minor": 0
}
