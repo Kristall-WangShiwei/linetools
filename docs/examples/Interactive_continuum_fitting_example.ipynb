{
 "cells": [
  {
   "cell_type": "code",
   "execution_count": 6,
   "metadata": {
    "collapsed": false
   },
   "outputs": [],
   "source": [
    "import imp\n",
    "prefix = imp.find_module('linetools')[1] + '/spectra/tests/files/'\n",
    "from linetools.spectra.io import readspec\n",
    "spec = readspec(prefix + 'q0002m422.txt.gz')\n",
    "# keep the old continuum to compare later on\n",
    "co_old = spec.co.copy()"
   ]
  },
  {
   "cell_type": "code",
   "execution_count": 7,
   "metadata": {
    "collapsed": false
   },
   "outputs": [
    {
     "name": "stdout",
     "output_type": "stream",
     "text": [
      "Using matplotlib backend: TkAgg\n",
      "Populating the interactive namespace from numpy and matplotlib\n"
     ]
    }
   ],
   "source": [
    "%pylab"
   ]
  },
  {
   "cell_type": "code",
   "execution_count": null,
   "metadata": {
    "collapsed": false,
    "scrolled": false
   },
   "outputs": [
    {
     "name": "stdout",
     "output_type": "stream",
     "text": [
      "knots file exists, use this? (y) n\n"
     ]
    }
   ],
   "source": [
    "# now fit the continuum interactively. We say we're fitting a QSO, \n",
    "# so it can make intelligent guesses about where to put the spline\n",
    "# points that define the continuum.\n",
    "spec.fit_continuum(kind='QSO', redshift=2.76)\n",
    "\n",
    "# now you can interactively tweak these spline points, adding or\n",
    "# removing them as necessary. Once you're finished, press 'q' to\n",
    "# close the window."
   ]
  },
  {
   "cell_type": "code",
   "execution_count": 9,
   "metadata": {
    "collapsed": false
   },
   "outputs": [
    {
     "data": {
      "text/plain": [
       "[<matplotlib.lines.Line2D at 0x12abfdc50>]"
      ]
     },
     "execution_count": 9,
     "metadata": {},
     "output_type": "execute_result"
    }
   ],
   "source": [
    "# the New continuum is now saved in spec.co, and the spline knots are in\n",
    "# spec.meta['contpoints']\n",
    "#\n",
    "# Let's compare the old and new continuum\n",
    "plt.figure()\n",
    "wa = spec.dispersion.value\n",
    "plt.plot(wa, co_old)\n",
    "plt.plot(wa, spec.co)"
   ]
  },
  {
   "cell_type": "code",
   "execution_count": 10,
   "metadata": {
    "collapsed": false
   },
   "outputs": [
    {
     "name": "stdout",
     "output_type": "stream",
     "text": [
      "knots file exists, use this? (y) n\n",
      "\n",
      "i,o          Zoom in/out x limits\n",
      "y            Zoom out y limits\n",
      "Y            Guess y limits\n",
      "t,b          Set y top/bottom limit\n",
      "l,r          Set left/right x limit\n",
      "[,]          Pan left/right\n",
      "w            Plot the whole spectrum\n",
      "\n",
      "S,U          Smooth/unsmooth spectrum\n",
      "\n",
      "a        : add a new spline knot\n",
      "A        : add a new spline knot, and use a flux median to guess y position\n",
      "+        : double the number of spline knots\n",
      "_        : halve the number of spline knots\n",
      "d        : delete the nearest knot\n",
      "m        : move the nearest knot\n",
      "\n",
      "q        : quit\n",
      "\n",
      "Updating continuum\n"
     ]
    }
   ],
   "source": [
    "co_old2 = spec.co.copy()\n",
    "\n",
    "# we can also tweak a small section of the continuum without affecting the whole spectrum.\n",
    "spec.fit_continuum(wlim=(5000, 5100))"
   ]
  },
  {
   "cell_type": "code",
   "execution_count": null,
   "metadata": {
    "collapsed": true
   },
   "outputs": [],
   "source": []
  }
 ],
 "metadata": {
  "kernelspec": {
   "display_name": "Python 2",
   "language": "python",
   "name": "python2"
  },
  "language_info": {
   "codemirror_mode": {
    "name": "ipython",
    "version": 2
   },
   "file_extension": ".py",
   "mimetype": "text/x-python",
   "name": "python",
   "nbconvert_exporter": "python",
   "pygments_lexer": "ipython2",
   "version": "2.7.10"
  }
 },
 "nbformat": 4,
 "nbformat_minor": 0
}
