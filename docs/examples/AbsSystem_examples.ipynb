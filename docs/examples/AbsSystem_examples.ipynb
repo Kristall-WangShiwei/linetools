{
 "cells": [
  {
   "cell_type": "markdown",
   "metadata": {},
   "source": [
    "# Examples for AbsSystem Class (v1.0)"
   ]
  },
  {
   "cell_type": "code",
   "execution_count": 1,
   "metadata": {
    "collapsed": false
   },
   "outputs": [],
   "source": [
    "# imports\n",
    "import imp\n",
    "from astropy.coordinates import SkyCoord\n",
    "\n",
    "from linetools.isgm import abssystem as lt_absys\n",
    "from linetools.spectralline import AbsLine\n",
    "from linetools.isgm.abscomponent import AbsComponent"
   ]
  },
  {
   "cell_type": "markdown",
   "metadata": {},
   "source": [
    "## Simple instantiation"
   ]
  },
  {
   "cell_type": "markdown",
   "metadata": {},
   "source": [
    "### Standard init"
   ]
  },
  {
   "cell_type": "code",
   "execution_count": 2,
   "metadata": {
    "collapsed": false
   },
   "outputs": [
    {
     "data": {
      "text/plain": [
       "[GenericAbsSystem: name=Foo type=Generic, 08:12:27.432 -12:25:55.56, z=1.244, NHI=16]"
      ]
     },
     "execution_count": 2,
     "metadata": {},
     "output_type": "execute_result"
    }
   ],
   "source": [
    "reload(lt_absys)\n",
    "radec = SkyCoord(ra=123.1143*u.deg, dec=-12.4321*u.deg)\n",
    "gensys = lt_absys.GenericAbsSystem(radec, 1.244, [-500,500]*u.km/u.s, NHI=16.)\n",
    "gensys"
   ]
  },
  {
   "cell_type": "markdown",
   "metadata": {},
   "source": [
    "### From components"
   ]
  },
  {
   "cell_type": "markdown",
   "metadata": {},
   "source": [
    "#### One component"
   ]
  },
  {
   "cell_type": "code",
   "execution_count": 13,
   "metadata": {
    "collapsed": false
   },
   "outputs": [],
   "source": [
    "# HI Lya, Lyb\n",
    "lya = AbsLine(1215.670*u.AA)\n",
    "lya.analy['vlim'] = [-300.,300.]*u.km/u.s\n",
    "lya.attrib['z'] = 2.92939\n",
    "lyb = AbsLine(1025.7222*u.AA)\n",
    "lyb.analy['vlim'] = [-300.,300.]*u.km/u.s\n",
    "lyb.attrib['z'] = lya.attrib['z']\n",
    "abscomp = AbsComponent.from_abslines([lya,lyb])\n",
    "abscomp.coord = radec"
   ]
  },
  {
   "cell_type": "code",
   "execution_count": 14,
   "metadata": {
    "collapsed": false
   },
   "outputs": [
    {
     "name": "stdout",
     "output_type": "stream",
     "text": [
      "[LymanAbsSystem: name= type=HILyman, 08:12:27.432 -12:25:55.56, z=2.92939, NHI=0]\n",
      "[[AbsComponent: 08:12:27.432 -12:25:55.56, Zion=(1,1), z=2.92939]]\n"
     ]
    }
   ],
   "source": [
    "# HILyman system\n",
    "reload(lt_absys)\n",
    "HIsys = lt_absys.LymanAbsSystem.from_components([abscomp])\n",
    "print(HIsys)\n",
    "print(HIsys._components)"
   ]
  },
  {
   "cell_type": "markdown",
   "metadata": {},
   "source": [
    "#### Multiple"
   ]
  },
  {
   "cell_type": "code",
   "execution_count": 16,
   "metadata": {
    "collapsed": false
   },
   "outputs": [],
   "source": [
    "# SiII\n",
    "SiIItrans = ['SiII 1260', 'SiII 1304', 'SiII 1526', 'SiII 1808']\n",
    "abslines = []\n",
    "for trans in SiIItrans:\n",
    "    iline = AbsLine(trans)\n",
    "    iline.attrib['z'] = 2.92939\n",
    "    iline.analy['vlim'] = [-250.,80.]*u.km/u.s\n",
    "    abslines.append(iline)\n",
    "#\n",
    "SiII_comp = AbsComponent.from_abslines(abslines)\n",
    "SiII_comp.coord = radec"
   ]
  },
  {
   "cell_type": "code",
   "execution_count": 22,
   "metadata": {
    "collapsed": false
   },
   "outputs": [
    {
     "name": "stdout",
     "output_type": "stream",
     "text": [
      "[GenericAbsSystem: name=Foo type=Generic, 08:12:27.432 -12:25:55.56, z=2.92939, NHI=0]\n",
      "[[AbsComponent: 08:12:27.432 -12:25:55.56, Zion=(1,1), z=2.92939], [AbsComponent: 08:12:27.432 -12:25:55.56, Zion=(14,2), z=2.92939]]\n"
     ]
    }
   ],
   "source": [
    "# LLS (coming)\n",
    "reload(lt_absys)\n",
    "LLSsys = lt_absys.GenericAbsSystem.from_components([abscomp,SiII_comp])\n",
    "print(LLSsys)\n",
    "print(LLSsys._components)"
   ]
  },
  {
   "cell_type": "code",
   "execution_count": null,
   "metadata": {
    "collapsed": true
   },
   "outputs": [],
   "source": []
  }
 ],
 "metadata": {
  "kernelspec": {
   "display_name": "Python 2",
   "language": "python",
   "name": "python2"
  },
  "language_info": {
   "codemirror_mode": {
    "name": "ipython",
    "version": 2
   },
   "file_extension": ".py",
   "mimetype": "text/x-python",
   "name": "python",
   "nbconvert_exporter": "python",
   "pygments_lexer": "ipython2",
   "version": "2.7.10"
  }
 },
 "nbformat": 4,
 "nbformat_minor": 0
}
