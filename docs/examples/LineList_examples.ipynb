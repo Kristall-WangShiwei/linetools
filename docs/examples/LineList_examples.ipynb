{
 "cells": [
  {
   "cell_type": "markdown",
   "metadata": {},
   "source": [
    "# Example usage of LineList (v1.2)"
   ]
  },
  {
   "cell_type": "code",
   "execution_count": 1,
   "metadata": {
    "collapsed": false
   },
   "outputs": [],
   "source": [
    "#import\n",
    "from linetools.lists.linelist import LineList\n",
    "from linetools.lists import linelist as lll"
   ]
  },
  {
   "cell_type": "markdown",
   "metadata": {},
   "source": [
    "## Instantiate\n",
    "### Lists currently include (more to come):\n",
    "* ISM  (atomic lines)\n",
    "* Strong\n",
    "* H2\n",
    "* Galaxy"
   ]
  },
  {
   "cell_type": "markdown",
   "metadata": {},
   "source": [
    "### ISM"
   ]
  },
  {
   "cell_type": "code",
   "execution_count": null,
   "metadata": {
    "collapsed": false
   },
   "outputs": [],
   "source": [
    "ism = LineList('ISM',verbose=False)"
   ]
  },
  {
   "cell_type": "markdown",
   "metadata": {},
   "source": [
    "### Galaxy"
   ]
  },
  {
   "cell_type": "code",
   "execution_count": 2,
   "metadata": {
    "collapsed": false
   },
   "outputs": [
    {
     "name": "stdout",
     "output_type": "stream",
     "text": [
      "linetools.lists.parse: Reading linelist --- \n",
      "   /Users/xavier/local/Python/linetools/linetools/data/lines/galaxy_forbidden.ascii\n",
      "linetools.lists.parse: Reading linelist --- \n",
      "   /Users/xavier/local/Python/linetools/linetools/data/lines/galaxy_recomb.ascii\n",
      "linetools.lists.parse: Reading linelist --- \n",
      "   /Users/xavier/local/Python/linetools/linetools/data/lines/galaxy_abs.ascii\n",
      "read_sets: Using set file -- \n",
      "  /Users/xavier/local/Python/linetools/linetools/lists/sets/llist_v1.0.ascii\n"
     ]
    }
   ],
   "source": [
    "reload(lll)\n",
    "glx = lll.LineList('Galaxy')"
   ]
  },
  {
   "cell_type": "code",
   "execution_count": 3,
   "metadata": {
    "collapsed": false
   },
   "outputs": [
    {
     "data": {
      "text/html": [
       "&lt;QTable masked=True length=59&gt;\n",
       "<table id=\"table4533409872\">\n",
       "<thead><tr><th>name</th><th>wrest</th><th>ratio</th></tr></thead>\n",
       "<thead><tr><th></th><th>Angstrom</th><th></th></tr></thead>\n",
       "<thead><tr><th>str11</th><th>float64</th><th>float64</th></tr></thead>\n",
       "<tr><td>[OIII] 5007</td><td>5008.239</td><td>1.0</td></tr>\n",
       "<tr><td>[OIII] 4959</td><td>4960.295</td><td>1.0</td></tr>\n",
       "<tr><td>[NII] 6584</td><td>6585.277</td><td>1.0</td></tr>\n",
       "<tr><td>[NII] 6548</td><td>6549.852</td><td>1.0</td></tr>\n",
       "<tr><td>[SII] 6716</td><td>6718.294</td><td>1.0</td></tr>\n",
       "<tr><td>[SII] 6731</td><td>6732.673</td><td>1.0</td></tr>\n",
       "<tr><td>[OII] 3726</td><td>3727.092</td><td>1.0</td></tr>\n",
       "<tr><td>[OII] 3729</td><td>3729.874</td><td>1.0</td></tr>\n",
       "<tr><td>Lyalpha</td><td>1215.67</td><td>23.54656</td></tr>\n",
       "<tr><td>...</td><td>...</td><td>...</td></tr>\n",
       "<tr><td>MgII 2796</td><td>2796.3543</td><td>--</td></tr>\n",
       "<tr><td>MgII 2803</td><td>2803.5315</td><td>--</td></tr>\n",
       "<tr><td>CaII 3934</td><td>3934.777</td><td>--</td></tr>\n",
       "<tr><td>CaII 3969</td><td>3969.591</td><td>--</td></tr>\n",
       "<tr><td>NaI  5891</td><td>5891.5833</td><td>--</td></tr>\n",
       "<tr><td>NaI  5897</td><td>5897.5581</td><td>--</td></tr>\n",
       "<tr><td>G Band</td><td>4305.61</td><td>--</td></tr>\n",
       "<tr><td>MgI 5168</td><td>5168.74</td><td>--</td></tr>\n",
       "<tr><td>MgI 5174</td><td>5174.14</td><td>--</td></tr>\n",
       "<tr><td>MgI 5185</td><td>5185.04</td><td>--</td></tr>\n",
       "</table>"
      ],
      "text/plain": [
       "<QTable masked=True length=59>\n",
       "    name      wrest    ratio  \n",
       "             Angstrom         \n",
       "   str11     float64  float64 \n",
       "----------- --------- --------\n",
       "[OIII] 5007  5008.239      1.0\n",
       "[OIII] 4959  4960.295      1.0\n",
       " [NII] 6584  6585.277      1.0\n",
       " [NII] 6548  6549.852      1.0\n",
       " [SII] 6716  6718.294      1.0\n",
       " [SII] 6731  6732.673      1.0\n",
       " [OII] 3726  3727.092      1.0\n",
       " [OII] 3729  3729.874      1.0\n",
       "    Lyalpha   1215.67 23.54656\n",
       "        ...       ...      ...\n",
       "  MgII 2796 2796.3543       --\n",
       "  MgII 2803 2803.5315       --\n",
       "  CaII 3934  3934.777       --\n",
       "  CaII 3969  3969.591       --\n",
       "  NaI  5891 5891.5833       --\n",
       "  NaI  5897 5897.5581       --\n",
       "     G Band   4305.61       --\n",
       "   MgI 5168   5168.74       --\n",
       "   MgI 5174   5174.14       --\n",
       "   MgI 5185   5185.04       --"
      ]
     },
     "execution_count": 3,
     "metadata": {},
     "output_type": "execute_result"
    }
   ],
   "source": [
    "glx._fulltable"
   ]
  },
  {
   "cell_type": "code",
   "execution_count": 4,
   "metadata": {
    "collapsed": false
   },
   "outputs": [
    {
     "data": {
      "text/plain": [
       "{'name': 'HeI 7065', 'ratio': 0.0217386, 'wrest': <Quantity 7067.198 Angstrom>}"
      ]
     },
     "execution_count": 4,
     "metadata": {},
     "output_type": "execute_result"
    }
   ],
   "source": [
    "glx['HeI 7065']"
   ]
  },
  {
   "cell_type": "markdown",
   "metadata": {},
   "source": [
    "## Check Tables"
   ]
  },
  {
   "cell_type": "code",
   "execution_count": null,
   "metadata": {
    "collapsed": false
   },
   "outputs": [],
   "source": [
    "# Full set of Data ingested\n",
    "ism._fulltable[0:5]"
   ]
  },
  {
   "cell_type": "code",
   "execution_count": null,
   "metadata": {
    "collapsed": false
   },
   "outputs": [],
   "source": [
    "# Subset of data to be used\n",
    "ism._data[0:5]"
   ]
  },
  {
   "cell_type": "markdown",
   "metadata": {},
   "source": [
    "## Calling specific lines"
   ]
  },
  {
   "cell_type": "code",
   "execution_count": null,
   "metadata": {
    "collapsed": false
   },
   "outputs": [],
   "source": [
    "ism['HI 1215']  # Returns a dict"
   ]
  },
  {
   "cell_type": "code",
   "execution_count": null,
   "metadata": {
    "collapsed": false
   },
   "outputs": [],
   "source": [
    "ism[1215.6700]['f']"
   ]
  },
  {
   "cell_type": "code",
   "execution_count": null,
   "metadata": {
    "collapsed": false
   },
   "outputs": [],
   "source": [
    "ism['HI 1215']['f']"
   ]
  },
  {
   "cell_type": "markdown",
   "metadata": {},
   "source": [
    "## Parsing entire fields"
   ]
  },
  {
   "cell_type": "code",
   "execution_count": null,
   "metadata": {
    "collapsed": false
   },
   "outputs": [],
   "source": [
    "FUV = np.where( (ism.wrest > 912.*u.AA) & (ism.wrest < 1200.*u.AA))[0]\n",
    "ism.wrest[FUV]"
   ]
  },
  {
   "cell_type": "code",
   "execution_count": null,
   "metadata": {
    "collapsed": false
   },
   "outputs": [],
   "source": [
    "CII_lines = np.where((ism.Z == 6) & (ism.ion == 2))[0]\n",
    "for lin in CII_lines:\n",
    "    print('{:s}, Ej={:g}'.format(ism.name[lin], ism.Ej[lin]))"
   ]
  },
  {
   "cell_type": "code",
   "execution_count": null,
   "metadata": {
    "collapsed": true
   },
   "outputs": [],
   "source": []
  }
 ],
 "metadata": {
  "kernelspec": {
   "display_name": "Python 2",
   "language": "python",
   "name": "python2"
  },
  "language_info": {
   "codemirror_mode": {
    "name": "ipython",
    "version": 2
   },
   "file_extension": ".py",
   "mimetype": "text/x-python",
   "name": "python",
   "nbconvert_exporter": "python",
   "pygments_lexer": "ipython2",
   "version": "2.7.11"
  }
 },
 "nbformat": 4,
 "nbformat_minor": 0
}
