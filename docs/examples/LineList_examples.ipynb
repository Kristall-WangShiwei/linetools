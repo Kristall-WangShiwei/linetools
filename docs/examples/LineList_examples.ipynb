{
 "cells": [
  {
   "cell_type": "markdown",
   "metadata": {},
   "source": [
    "# Example usage of LineList (v1.2)"
   ]
  },
  {
   "cell_type": "code",
   "execution_count": 1,
   "metadata": {
    "collapsed": false
   },
   "outputs": [],
   "source": [
    "#import\n",
    "from linetools.lists.linelist import LineList\n",
    "from linetools.lists import linelist as lll"
   ]
  },
  {
   "cell_type": "markdown",
   "metadata": {},
   "source": [
    "## Instantiate\n",
    "### Lists currently include (more to come):\n",
    "* ISM  (atomic lines)\n",
    "* Strong\n",
    "* H2\n",
    "* Galaxy"
   ]
  },
  {
   "cell_type": "markdown",
   "metadata": {},
   "source": [
    "### ISM"
   ]
  },
  {
   "cell_type": "code",
   "execution_count": 2,
   "metadata": {
    "collapsed": false
   },
   "outputs": [
    {
     "name": "stderr",
     "output_type": "stream",
     "text": [
      "WARNING: UnitsWarning: The unit 'Angstrom' has been deprecated in the FITS standard. Suggested: 10**-1 nm. [astropy.units.format.utils]\n",
      "WARNING:astropy:UnitsWarning: The unit 'Angstrom' has been deprecated in the FITS standard. Suggested: 10**-1 nm.\n"
     ]
    },
    {
     "name": "stdout",
     "output_type": "stream",
     "text": [
      "linetools.lists.parse: Reading linelist --- \n",
      "   /Users/xavier/local/Python/linetools/linetools/data/lines/morton03_table2.fits.gz\n",
      "linetools.lists.parse: Reading linelist --- \n",
      "   /Users/xavier/local/Python/linetools/linetools/data/lines/morton00_table2.fits.gz\n",
      "linetools.lists.parse: Reading linelist --- \n",
      "   /Users/xavier/local/Python/linetools/linetools/data/lines/verner94_tab6.fits"
     ]
    },
    {
     "name": "stderr",
     "output_type": "stream",
     "text": [
      "WARNING: UnitsWarning: '0.1nm' did not parse as fits unit: Numeric factor not supported by FITS [astropy.units.core]\n",
      "WARNING:astropy:UnitsWarning: '0.1nm' did not parse as fits unit: Numeric factor not supported by FITS\n"
     ]
    },
    {
     "name": "stdout",
     "output_type": "stream",
     "text": [
      "\n",
      "linetools.lists.parse: Reading linelist --- \n",
      "   /Users/xavier/local/Python/linetools/linetools/data/lines/EUV_lines.ascii\n",
      "read_sets: Using set file -- \n",
      "  /Users/xavier/local/Python/linetools/linetools/lists/sets/llist_v1.0.ascii\n"
     ]
    }
   ],
   "source": [
    "ism = LineList('ISM',verbose=False)"
   ]
  },
  {
   "cell_type": "markdown",
   "metadata": {},
   "source": [
    "### Galaxy"
   ]
  },
  {
   "cell_type": "code",
   "execution_count": 3,
   "metadata": {
    "collapsed": false
   },
   "outputs": [
    {
     "name": "stdout",
     "output_type": "stream",
     "text": [
      "linetools.lists.parse: Reading linelist --- \n",
      "   /Users/xavier/local/Python/linetools/linetools/data/lines/galaxy_forbidden.ascii\n",
      "linetools.lists.parse: Reading linelist --- \n",
      "   /Users/xavier/local/Python/linetools/linetools/data/lines/galaxy_recomb.ascii\n",
      "linetools.lists.parse: Reading linelist --- \n",
      "   /Users/xavier/local/Python/linetools/linetools/data/lines/galaxy_abs.ascii\n",
      "read_sets: Using set file -- \n",
      "  /Users/xavier/local/Python/linetools/linetools/lists/sets/llist_v1.0.ascii\n"
     ]
    }
   ],
   "source": [
    "reload(lll)\n",
    "glx = lll.LineList('Galaxy')"
   ]
  },
  {
   "cell_type": "code",
   "execution_count": 4,
   "metadata": {
    "collapsed": false
   },
   "outputs": [
    {
     "data": {
      "text/html": [
       "&lt;QTable masked=True length=59&gt;\n",
       "<table id=\"table4579076560\">\n",
       "<thead><tr><th>name</th><th>wrest</th><th>ratio</th></tr></thead>\n",
       "<thead><tr><th></th><th>Angstrom</th><th></th></tr></thead>\n",
       "<thead><tr><th>str11</th><th>float64</th><th>float64</th></tr></thead>\n",
       "<tr><td>[OIII] 5007</td><td>5008.239</td><td>1.0</td></tr>\n",
       "<tr><td>[OIII] 4959</td><td>4960.295</td><td>1.0</td></tr>\n",
       "<tr><td>[NII] 6584</td><td>6585.277</td><td>1.0</td></tr>\n",
       "<tr><td>[NII] 6548</td><td>6549.852</td><td>1.0</td></tr>\n",
       "<tr><td>[SII] 6716</td><td>6718.294</td><td>1.0</td></tr>\n",
       "<tr><td>[SII] 6731</td><td>6732.673</td><td>1.0</td></tr>\n",
       "<tr><td>[OII] 3726</td><td>3727.092</td><td>1.0</td></tr>\n",
       "<tr><td>[OII] 3729</td><td>3729.874</td><td>1.0</td></tr>\n",
       "<tr><td>Lyalpha</td><td>1215.67</td><td>23.54656</td></tr>\n",
       "<tr><td>...</td><td>...</td><td>...</td></tr>\n",
       "<tr><td>MgII 2796</td><td>2796.3543</td><td>--</td></tr>\n",
       "<tr><td>MgII 2803</td><td>2803.5315</td><td>--</td></tr>\n",
       "<tr><td>CaII 3934</td><td>3934.777</td><td>--</td></tr>\n",
       "<tr><td>CaII 3969</td><td>3969.591</td><td>--</td></tr>\n",
       "<tr><td>NaI  5891</td><td>5891.5833</td><td>--</td></tr>\n",
       "<tr><td>NaI  5897</td><td>5897.5581</td><td>--</td></tr>\n",
       "<tr><td>G Band</td><td>4305.61</td><td>--</td></tr>\n",
       "<tr><td>MgI 5168</td><td>5168.74</td><td>--</td></tr>\n",
       "<tr><td>MgI 5174</td><td>5174.14</td><td>--</td></tr>\n",
       "<tr><td>MgI 5185</td><td>5185.04</td><td>--</td></tr>\n",
       "</table>"
      ],
      "text/plain": [
       "<QTable masked=True length=59>\n",
       "    name      wrest    ratio  \n",
       "             Angstrom         \n",
       "   str11     float64  float64 \n",
       "----------- --------- --------\n",
       "[OIII] 5007  5008.239      1.0\n",
       "[OIII] 4959  4960.295      1.0\n",
       " [NII] 6584  6585.277      1.0\n",
       " [NII] 6548  6549.852      1.0\n",
       " [SII] 6716  6718.294      1.0\n",
       " [SII] 6731  6732.673      1.0\n",
       " [OII] 3726  3727.092      1.0\n",
       " [OII] 3729  3729.874      1.0\n",
       "    Lyalpha   1215.67 23.54656\n",
       "        ...       ...      ...\n",
       "  MgII 2796 2796.3543       --\n",
       "  MgII 2803 2803.5315       --\n",
       "  CaII 3934  3934.777       --\n",
       "  CaII 3969  3969.591       --\n",
       "  NaI  5891 5891.5833       --\n",
       "  NaI  5897 5897.5581       --\n",
       "     G Band   4305.61       --\n",
       "   MgI 5168   5168.74       --\n",
       "   MgI 5174   5174.14       --\n",
       "   MgI 5185   5185.04       --"
      ]
     },
     "execution_count": 4,
     "metadata": {},
     "output_type": "execute_result"
    }
   ],
   "source": [
    "glx._fulltable"
   ]
  },
  {
   "cell_type": "code",
   "execution_count": 13,
   "metadata": {
    "collapsed": false
   },
   "outputs": [
    {
     "data": {
      "text/plain": [
       "{'name': 'Halpha',\n",
       " 'ratio': 2.8631579999999999,\n",
       " 'wrest': <Quantity 6564.613 Angstrom>}"
      ]
     },
     "execution_count": 13,
     "metadata": {},
     "output_type": "execute_result"
    }
   ],
   "source": [
    "glx['Halpha']"
   ]
  },
  {
   "cell_type": "markdown",
   "metadata": {},
   "source": [
    "## Check Tables"
   ]
  },
  {
   "cell_type": "code",
   "execution_count": 6,
   "metadata": {
    "collapsed": false
   },
   "outputs": [
    {
     "data": {
      "text/html": [
       "&lt;QTable masked=True length=5&gt;\n",
       "<table id=\"table4579077712\">\n",
       "<thead><tr><th>A</th><th>el</th><th>nj</th><th>nk</th><th>group</th><th>name</th><th>Ek</th><th>f</th><th>wrest</th><th>Ref</th><th>mol</th><th>Ej</th><th>Am</th><th>ion</th><th>Ex</th><th>Jj</th><th>Jk</th><th>Z</th><th>gk</th><th>gj</th><th>gamma</th><th>col0</th><th>col6</th></tr></thead>\n",
       "<thead><tr><th>1 / s</th><th></th><th></th><th></th><th></th><th></th><th>1 / cm</th><th></th><th>Angstrom</th><th></th><th></th><th>1 / cm</th><th></th><th></th><th>1 / cm</th><th></th><th></th><th></th><th></th><th></th><th>1 / s</th><th></th><th></th></tr></thead>\n",
       "<thead><tr><th>float64</th><th>int64</th><th>int64</th><th>int64</th><th>int64</th><th>str80</th><th>float64</th><th>float64</th><th>float64</th><th>str200</th><th>str40</th><th>float64</th><th>int64</th><th>int64</th><th>float64</th><th>float64</th><th>float64</th><th>int64</th><th>int64</th><th>int64</th><th>float64</th><th>int64</th><th>int64</th></tr></thead>\n",
       "<tr><td>626500000.0</td><td>0</td><td>0</td><td>0</td><td>1</td><td>HI 1215</td><td>2259.163</td><td>0.4164</td><td>1215.67</td><td>Morton2003</td><td></td><td>0.0</td><td>0</td><td>1</td><td>0.0</td><td>0.0</td><td>0.0</td><td>1</td><td>6</td><td>2</td><td>626500000.0</td><td>--</td><td>--</td></tr>\n",
       "<tr><td>167300000.0</td><td>0</td><td>0</td><td>0</td><td>1</td><td>HI 1025</td><td>7492.28344</td><td>0.07914</td><td>1025.7222</td><td>Morton2003</td><td></td><td>0.0</td><td>0</td><td>1</td><td>0.0</td><td>0.0</td><td>0.0</td><td>1</td><td>6</td><td>2</td><td>189700000.0</td><td>--</td><td>--</td></tr>\n",
       "<tr><td>68190000.0</td><td>0</td><td>0</td><td>0</td><td>1</td><td>HI 972</td><td>2823.879</td><td>0.02901</td><td>972.5367</td><td>Morton2003</td><td></td><td>0.0</td><td>0</td><td>1</td><td>0.0</td><td>0.0</td><td>0.0</td><td>1</td><td>6</td><td>2</td><td>81270000.0</td><td>--</td><td>--</td></tr>\n",
       "<tr><td>34370000.0</td><td>0</td><td>0</td><td>0</td><td>1</td><td>HI 949</td><td>5291.6442</td><td>0.01395</td><td>949.743</td><td>Morton2003</td><td></td><td>0.0</td><td>0</td><td>1</td><td>0.0</td><td>0.0</td><td>0.0</td><td>1</td><td>6</td><td>2</td><td>42040000.0</td><td>--</td><td>--</td></tr>\n",
       "<tr><td>19730000.0</td><td>0</td><td>0</td><td>0</td><td>1</td><td>HI 937</td><td>6632.1575</td><td>0.007803</td><td>937.8034</td><td>Morton2003</td><td></td><td>0.0</td><td>0</td><td>1</td><td>0.0</td><td>0.0</td><td>0.0</td><td>1</td><td>6</td><td>2</td><td>24500000.0</td><td>--</td><td>--</td></tr>\n",
       "</table>"
      ],
      "text/plain": [
       "<QTable masked=True length=5>\n",
       "     A        el    nj    nk  group ...   gk    gj     gamma     col0  col6\n",
       "   1 / s                            ...                1 / s               \n",
       "  float64   int64 int64 int64 int64 ... int64 int64   float64   int64 int64\n",
       "----------- ----- ----- ----- ----- ... ----- ----- ----------- ----- -----\n",
       "626500000.0     0     0     0     1 ...     6     2 626500000.0    --    --\n",
       "167300000.0     0     0     0     1 ...     6     2 189700000.0    --    --\n",
       " 68190000.0     0     0     0     1 ...     6     2  81270000.0    --    --\n",
       " 34370000.0     0     0     0     1 ...     6     2  42040000.0    --    --\n",
       " 19730000.0     0     0     0     1 ...     6     2  24500000.0    --    --"
      ]
     },
     "execution_count": 6,
     "metadata": {},
     "output_type": "execute_result"
    }
   ],
   "source": [
    "# Full set of Data ingested\n",
    "ism._fulltable[0:5]"
   ]
  },
  {
   "cell_type": "code",
   "execution_count": 7,
   "metadata": {
    "collapsed": false
   },
   "outputs": [
    {
     "data": {
      "text/html": [
       "&lt;QTable masked=True length=5&gt;\n",
       "<table id=\"table4536898448\">\n",
       "<thead><tr><th>A</th><th>el</th><th>nj</th><th>nk</th><th>group</th><th>name</th><th>Ek</th><th>f</th><th>wrest</th><th>Ref</th><th>mol</th><th>Ej</th><th>Am</th><th>ion</th><th>Ex</th><th>Jj</th><th>Jk</th><th>Z</th><th>gk</th><th>gj</th><th>gamma</th><th>col0</th><th>col6</th></tr></thead>\n",
       "<thead><tr><th>1 / s</th><th></th><th></th><th></th><th></th><th></th><th>1 / cm</th><th></th><th>Angstrom</th><th></th><th></th><th>1 / cm</th><th></th><th></th><th>1 / cm</th><th></th><th></th><th></th><th></th><th></th><th>1 / s</th><th></th><th></th></tr></thead>\n",
       "<thead><tr><th>float64</th><th>int64</th><th>int64</th><th>int64</th><th>int64</th><th>str80</th><th>float64</th><th>float64</th><th>float64</th><th>str200</th><th>str40</th><th>float64</th><th>int64</th><th>int64</th><th>float64</th><th>float64</th><th>float64</th><th>int64</th><th>int64</th><th>int64</th><th>float64</th><th>int64</th><th>int64</th></tr></thead>\n",
       "<tr><td>0.0</td><td>0</td><td>0</td><td>0</td><td>1</td><td>NeVI 401</td><td>0.0</td><td>0.167999997735</td><td>401.14</td><td>Verner1994</td><td></td><td>0.0</td><td>0</td><td>6</td><td>0.0</td><td>0.0</td><td>0.0</td><td>10</td><td>2</td><td>2</td><td>0.0</td><td>--</td><td>--</td></tr>\n",
       "<tr><td>0.0</td><td>0</td><td>0</td><td>0</td><td>1</td><td>NeII 405</td><td>0.0</td><td>0.0586000010371</td><td>405.8538</td><td>Verner1994</td><td></td><td>0.0</td><td>0</td><td>2</td><td>0.0</td><td>0.0</td><td>0.0</td><td>10</td><td>6</td><td>4</td><td>0.0</td><td>--</td><td>--</td></tr>\n",
       "<tr><td>0.0</td><td>0</td><td>0</td><td>0</td><td>1</td><td>OII 418</td><td>0.0</td><td>0.00734000001103</td><td>418.598</td><td>Verner1994</td><td></td><td>0.0</td><td>0</td><td>2</td><td>0.0</td><td>0.0</td><td>0.0</td><td>8</td><td>6</td><td>4</td><td>0.0</td><td>--</td><td>--</td></tr>\n",
       "<tr><td>0.0</td><td>0</td><td>0</td><td>0</td><td>1</td><td>OII 429</td><td>0.0</td><td>0.0617999993265</td><td>429.918</td><td>Verner1994</td><td></td><td>0.0</td><td>0</td><td>2</td><td>0.0</td><td>0.0</td><td>0.0</td><td>8</td><td>2</td><td>4</td><td>0.0</td><td>--</td><td>--</td></tr>\n",
       "<tr><td>0.0</td><td>0</td><td>0</td><td>0</td><td>1</td><td>OII 430a</td><td>0.0</td><td>0.123999997973</td><td>430.041</td><td>Verner1994</td><td></td><td>0.0</td><td>0</td><td>2</td><td>0.0</td><td>0.0</td><td>0.0</td><td>8</td><td>4</td><td>4</td><td>0.0</td><td>--</td><td>--</td></tr>\n",
       "</table>"
      ],
      "text/plain": [
       "<QTable masked=True length=5>\n",
       "   A      el    nj    nk  group   name   ...   gk    gj   gamma   col0  col6\n",
       " 1 / s                                   ...              1 / s             \n",
       "float64 int64 int64 int64 int64  str80   ... int64 int64 float64 int64 int64\n",
       "------- ----- ----- ----- ----- -------- ... ----- ----- ------- ----- -----\n",
       "    0.0     0     0     0     1 NeVI 401 ...     2     2     0.0    --    --\n",
       "    0.0     0     0     0     1 NeII 405 ...     6     4     0.0    --    --\n",
       "    0.0     0     0     0     1  OII 418 ...     6     4     0.0    --    --\n",
       "    0.0     0     0     0     1  OII 429 ...     2     4     0.0    --    --\n",
       "    0.0     0     0     0     1 OII 430a ...     4     4     0.0    --    --"
      ]
     },
     "execution_count": 7,
     "metadata": {},
     "output_type": "execute_result"
    }
   ],
   "source": [
    "# Subset of data to be used\n",
    "ism._data[0:5]"
   ]
  },
  {
   "cell_type": "markdown",
   "metadata": {},
   "source": [
    "## Calling specific lines"
   ]
  },
  {
   "cell_type": "code",
   "execution_count": 8,
   "metadata": {
    "collapsed": false
   },
   "outputs": [
    {
     "data": {
      "text/plain": [
       "{'A': <Quantity 626500000.0 1 / s>,\n",
       " 'Am': 0,\n",
       " 'Ej': <Quantity 0.0 1 / cm>,\n",
       " 'Ek': <Quantity 2259.163 1 / cm>,\n",
       " 'Ex': <Quantity 0.0 1 / cm>,\n",
       " 'Jj': 0.0,\n",
       " 'Jk': 0.0,\n",
       " 'Ref': 'Morton2003',\n",
       " 'Z': 1,\n",
       " 'col0': masked,\n",
       " 'col6': masked,\n",
       " 'el': 0,\n",
       " 'f': 0.41639999999999999,\n",
       " 'gamma': <Quantity 626500000.0 1 / s>,\n",
       " 'gj': 2,\n",
       " 'gk': 6,\n",
       " 'group': 1,\n",
       " 'ion': 1,\n",
       " 'mol': '',\n",
       " 'name': 'HI 1215',\n",
       " 'nj': 0,\n",
       " 'nk': 0,\n",
       " 'wrest': <Quantity 1215.67 Angstrom>}"
      ]
     },
     "execution_count": 8,
     "metadata": {},
     "output_type": "execute_result"
    }
   ],
   "source": [
    "ism['HI 1215']  # Returns a dict"
   ]
  },
  {
   "cell_type": "code",
   "execution_count": 9,
   "metadata": {
    "collapsed": false
   },
   "outputs": [
    {
     "data": {
      "text/plain": [
       "0.41639999999999999"
      ]
     },
     "execution_count": 9,
     "metadata": {},
     "output_type": "execute_result"
    }
   ],
   "source": [
    "ism[1215.6700]['f']"
   ]
  },
  {
   "cell_type": "code",
   "execution_count": 10,
   "metadata": {
    "collapsed": false
   },
   "outputs": [
    {
     "data": {
      "text/plain": [
       "0.41639999999999999"
      ]
     },
     "execution_count": 10,
     "metadata": {},
     "output_type": "execute_result"
    }
   ],
   "source": [
    "ism['HI 1215']['f']"
   ]
  },
  {
   "cell_type": "markdown",
   "metadata": {},
   "source": [
    "## Parsing entire fields"
   ]
  },
  {
   "cell_type": "code",
   "execution_count": 11,
   "metadata": {
    "collapsed": false
   },
   "outputs": [
    {
     "data": {
      "text/latex": [
       "$[912.7032,~912.7676,~912.8389,~\\dots, 1197.875,~1199.391,~1199.5496] \\; \\mathrm{\\mathring{A}}$"
      ],
      "text/plain": [
       "<Quantity [  912.7032,  912.7676,  912.8389,  912.9179,  913.0059,\n",
       "             913.1042,  913.2146,  913.3391,  913.4803,  913.6411,\n",
       "             913.8256,  913.9683,  914.0385,  914.2861,  914.5762,\n",
       "             914.9192,  915.3289,  915.6131,  915.8238,  916.4291,\n",
       "             916.931 ,  917.1178,  917.1805,  918.1293,  919.3513,\n",
       "             920.963 ,  921.857 ,  922.2   ,  923.1503,  924.95  ,\n",
       "             925.442 ,  925.9737,  926.2256,  929.5168,  930.2566,\n",
       "             930.7482,  933.378 ,  936.6295,  937.8034,  944.523 ,\n",
       "             945.191 ,  945.338 ,  945.579 ,  948.6855,  949.743 ,\n",
       "             950.8846,  963.8005,  963.9903,  964.6256,  965.0413,\n",
       "             971.7376,  972.2722,  972.5367,  976.4481,  977.0201,\n",
       "             988.5778,  988.6549,  988.7734,  989.799 ,  989.8731,\n",
       "             997.9996, 1009.428 , 1012.495 , 1020.6989, 1025.7222,\n",
       "            1025.7616, 1025.9681, 1026.1134, 1031.9261, 1036.3367,\n",
       "            1037.0182, 1037.6167, 1039.2304, 1048.2199, 1055.2617,\n",
       "            1062.1517, 1062.664 , 1063.1764, 1063.8311, 1063.9718,\n",
       "            1066.6598, 1071.0358, 1081.8748, 1083.9937, 1096.8769,\n",
       "            1106.3596, 1112.048 , 1112.269 , 1117.    , 1117.133 ,\n",
       "            1117.205 , 1117.244 , 1117.338 , 1117.393 , 1117.542 ,\n",
       "            1117.581 , 1117.604 , 1117.675 , 1117.73  , 1117.865 ,\n",
       "            1117.9774, 1118.07  , 1118.408 , 1118.491 , 1121.453 ,\n",
       "            1121.641 , 1121.659 , 1121.758 , 1121.9748, 1121.999 ,\n",
       "            1122.004 , 1122.098 , 1122.327 , 1122.344 , 1122.437 ,\n",
       "            1122.524 , 1122.644 , 1122.795 , 1122.985 , 1123.107 ,\n",
       "            1123.135 , 1128.0078, 1128.081 , 1128.252 , 1128.29  ,\n",
       "            1128.408 , 1128.477 , 1128.634 , 1128.752 , 1128.817 ,\n",
       "            1129.078 , 1129.141 , 1129.161 , 1129.195 , 1129.405 ,\n",
       "            1129.624 , 1129.749 , 1129.925 , 1129.969 , 1133.6654,\n",
       "            1134.1653, 1134.4149, 1134.9803, 1138.384 , 1138.557 ,\n",
       "            1138.597 , 1138.743 , 1138.947 , 1139.093 , 1139.124 ,\n",
       "            1140.223 , 1142.3656, 1143.226 , 1144.9379, 1149.958 ,\n",
       "            1152.818 , 1157.33  , 1158.324 , 1164.8672, 1189.065 ,\n",
       "            1190.203 , 1190.4158, 1190.636 , 1191.842 , 1193.03  ,\n",
       "            1193.2897, 1194.301 , 1197.184 , 1197.3938, 1197.875 ,\n",
       "            1199.391 , 1199.5496] Angstrom>"
      ]
     },
     "execution_count": 11,
     "metadata": {},
     "output_type": "execute_result"
    }
   ],
   "source": [
    "FUV = np.where( (ism.wrest > 912.*u.AA) & (ism.wrest < 1200.*u.AA))[0]\n",
    "ism.wrest[FUV]"
   ]
  },
  {
   "cell_type": "code",
   "execution_count": 12,
   "metadata": {
    "collapsed": false
   },
   "outputs": [
    {
     "name": "stdout",
     "output_type": "stream",
     "text": [
      "CII 543, Ej=0 1 / cm\n",
      "CII 560, Ej=0 1 / cm\n",
      "CII 594, Ej=0 1 / cm\n",
      "CII 687, Ej=0 1 / cm\n",
      "CII 858, Ej=0 1 / cm\n",
      "CII 903a, Ej=0 1 / cm\n",
      "CII 903b, Ej=0 1 / cm\n",
      "CII 1036, Ej=0 1 / cm\n",
      "CII* 1037, Ej=63.42 1 / cm\n",
      "CII 1334, Ej=0 1 / cm\n",
      "CII* 1335, Ej=63.42 1 / cm\n"
     ]
    }
   ],
   "source": [
    "CII_lines = np.where((ism.Z == 6) & (ism.ion == 2))[0]\n",
    "for lin in CII_lines:\n",
    "    print('{:s}, Ej={:g}'.format(ism.name[lin], ism.Ej[lin]))"
   ]
  },
  {
   "cell_type": "code",
   "execution_count": null,
   "metadata": {
    "collapsed": true
   },
   "outputs": [],
   "source": []
  }
 ],
 "metadata": {
  "kernelspec": {
   "display_name": "Python 2",
   "language": "python",
   "name": "python2"
  },
  "language_info": {
   "codemirror_mode": {
    "name": "ipython",
    "version": 2
   },
   "file_extension": ".py",
   "mimetype": "text/x-python",
   "name": "python",
   "nbconvert_exporter": "python",
   "pygments_lexer": "ipython2",
   "version": "2.7.11"
  }
 },
 "nbformat": 4,
 "nbformat_minor": 0
}
