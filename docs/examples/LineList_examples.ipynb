{
 "cells": [
  {
   "cell_type": "markdown",
   "metadata": {},
   "source": [
    "# Example usage of LineList (v1.2)"
   ]
  },
  {
   "cell_type": "code",
   "execution_count": 1,
   "metadata": {
    "collapsed": false
   },
   "outputs": [],
   "source": [
    "#import\n",
    "#from linetools.lists.linelist import LineList\n",
    "from linetools.lists import linelist as lll"
   ]
  },
  {
   "cell_type": "markdown",
   "metadata": {},
   "source": [
    "## Instantiate\n",
    "### Lists currently include (more to come):\n",
    "* ISM  (atomic lines)\n",
    "* Strong\n",
    "* H2\n",
    "* Galaxy"
   ]
  },
  {
   "cell_type": "markdown",
   "metadata": {},
   "source": [
    "### ISM"
   ]
  },
  {
   "cell_type": "code",
   "execution_count": null,
   "metadata": {
    "collapsed": false
   },
   "outputs": [],
   "source": [
    "ism = LineList('ISM',verbose=False)"
   ]
  },
  {
   "cell_type": "markdown",
   "metadata": {},
   "source": [
    "### Galaxy"
   ]
  },
  {
   "cell_type": "code",
   "execution_count": 4,
   "metadata": {
    "collapsed": false
   },
   "outputs": [
    {
     "name": "stdout",
     "output_type": "stream",
     "text": [
      "linetools.lists.parse: Reading linelist --- \n",
      "   /Users/xavier/local/Python/linetools/linetools/data/lines/galaxy_forbidden.ascii\n",
      "> /Users/xavier/local/Python/linetools/linetools/lists/parse.py(261)read_forbidden()\n",
      "-> return data\n",
      "(Pdb) data\n",
      "<QTable length=8>\n",
      "    name     wrest    ratio \n",
      "            Angstrom        \n",
      "   str11    float64  float64\n",
      "----------- -------- -------\n",
      "[OIII] 5007 5008.239     1.0\n",
      "[OIII] 4959 4960.295     1.0\n",
      " [NII] 6584 6585.277     1.0\n",
      " [NII] 6548 6549.852     1.0\n",
      " [SII] 6716 6718.294     1.0\n",
      " [SII] 6731 6732.673     1.0\n",
      " [OII] 3726 3727.092     1.0\n",
      " [OII] 3729 3729.874     1.0\n",
      "(Pdb) data['name']\n",
      "<Column name='name' dtype='str11' length=8>\n",
      "[OIII] 5007\n",
      "[OIII] 4959\n",
      " [NII] 6584\n",
      " [NII] 6548\n",
      " [SII] 6716\n",
      " [SII] 6731\n",
      " [OII] 3726\n",
      " [OII] 3729\n",
      "(Pdb) c\n",
      "linetools.lists.parse: Reading linelist --- \n",
      "   /Users/xavier/local/Python/linetools/linetools/data/lines/galaxy_recomb.ascii\n",
      "read_sets: Using set file -- \n",
      "  /Users/xavier/local/Python/linetools/linetools/lists/sets/llist_v1.0.ascii\n"
     ]
    }
   ],
   "source": [
    "reload(lll)\n",
    "glx = lll.LineList('Galaxy')"
   ]
  },
  {
   "cell_type": "code",
   "execution_count": 3,
   "metadata": {
    "collapsed": false
   },
   "outputs": [
    {
     "data": {
      "text/html": [
       "&lt;QTable length=49&gt;\n",
       "<table id=\"table4513253776\">\n",
       "<thead><tr><th>name</th><th>wrest</th><th>ratio</th></tr></thead>\n",
       "<thead><tr><th></th><th>Angstrom</th><th></th></tr></thead>\n",
       "<thead><tr><th>str11</th><th>float64</th><th>float64</th></tr></thead>\n",
       "<tr><td>[OIII]_5007</td><td>5008.239</td><td>1.0</td></tr>\n",
       "<tr><td>[OIII]_4959</td><td>4960.295</td><td>1.0</td></tr>\n",
       "<tr><td>[NII]_6584</td><td>6585.277</td><td>1.0</td></tr>\n",
       "<tr><td>[NII]_6548</td><td>6549.852</td><td>1.0</td></tr>\n",
       "<tr><td>[SII]_6716</td><td>6718.294</td><td>1.0</td></tr>\n",
       "<tr><td>[SII]_6731</td><td>6732.673</td><td>1.0</td></tr>\n",
       "<tr><td>[OII]_3726</td><td>3727.092</td><td>1.0</td></tr>\n",
       "<tr><td>[OII]_3729</td><td>3729.874</td><td>1.0</td></tr>\n",
       "<tr><td>Lyalpha</td><td>1215.67</td><td>23.54656</td></tr>\n",
       "<tr><td>...</td><td>...</td><td>...</td></tr>\n",
       "<tr><td>HeI 3389</td><td>3889.752</td><td>0.1027011</td></tr>\n",
       "<tr><td>HeI 3965</td><td>3965.852</td><td>0.0102265</td></tr>\n",
       "<tr><td>HeI 4026</td><td>4027.348</td><td>0.0211576</td></tr>\n",
       "<tr><td>HeI 4471</td><td>4472.755</td><td>0.0444505</td></tr>\n",
       "<tr><td>HeI 4922</td><td>4923.304</td><td>0.0119987</td></tr>\n",
       "<tr><td>HeI 5016</td><td>5017.079</td><td>0.0256898</td></tr>\n",
       "<tr><td>HeI 5876</td><td>5877.299</td><td>0.11868</td></tr>\n",
       "<tr><td>HeI 6678</td><td>6679.994</td><td>0.0336066</td></tr>\n",
       "<tr><td>HeI 7065</td><td>7067.198</td><td>0.0217386</td></tr>\n",
       "<tr><td>HeI 10830</td><td>10833.22</td><td>0.2404832</td></tr>\n",
       "</table>"
      ],
      "text/plain": [
       "<QTable length=49>\n",
       "    name     wrest     ratio  \n",
       "            Angstrom          \n",
       "   str11    float64   float64 \n",
       "----------- -------- ---------\n",
       "[OIII]_5007 5008.239       1.0\n",
       "[OIII]_4959 4960.295       1.0\n",
       " [NII]_6584 6585.277       1.0\n",
       " [NII]_6548 6549.852       1.0\n",
       " [SII]_6716 6718.294       1.0\n",
       " [SII]_6731 6732.673       1.0\n",
       " [OII]_3726 3727.092       1.0\n",
       " [OII]_3729 3729.874       1.0\n",
       "    Lyalpha  1215.67  23.54656\n",
       "        ...      ...       ...\n",
       "   HeI 3389 3889.752 0.1027011\n",
       "   HeI 3965 3965.852 0.0102265\n",
       "   HeI 4026 4027.348 0.0211576\n",
       "   HeI 4471 4472.755 0.0444505\n",
       "   HeI 4922 4923.304 0.0119987\n",
       "   HeI 5016 5017.079 0.0256898\n",
       "   HeI 5876 5877.299   0.11868\n",
       "   HeI 6678 6679.994 0.0336066\n",
       "   HeI 7065 7067.198 0.0217386\n",
       "  HeI 10830 10833.22 0.2404832"
      ]
     },
     "execution_count": 3,
     "metadata": {},
     "output_type": "execute_result"
    }
   ],
   "source": [
    "glx._fulltable"
   ]
  },
  {
   "cell_type": "code",
   "execution_count": null,
   "metadata": {
    "collapsed": false
   },
   "outputs": [],
   "source": [
    "glx['HeI 7065']"
   ]
  },
  {
   "cell_type": "markdown",
   "metadata": {},
   "source": [
    "## Check Tables"
   ]
  },
  {
   "cell_type": "code",
   "execution_count": null,
   "metadata": {
    "collapsed": false
   },
   "outputs": [],
   "source": [
    "# Full set of Data ingested\n",
    "ism._fulltable[0:5]"
   ]
  },
  {
   "cell_type": "code",
   "execution_count": null,
   "metadata": {
    "collapsed": false
   },
   "outputs": [],
   "source": [
    "# Subset of data to be used\n",
    "ism._data[0:5]"
   ]
  },
  {
   "cell_type": "markdown",
   "metadata": {},
   "source": [
    "## Calling specific lines"
   ]
  },
  {
   "cell_type": "code",
   "execution_count": null,
   "metadata": {
    "collapsed": false
   },
   "outputs": [],
   "source": [
    "ism['HI 1215']  # Returns a dict"
   ]
  },
  {
   "cell_type": "code",
   "execution_count": null,
   "metadata": {
    "collapsed": false
   },
   "outputs": [],
   "source": [
    "ism[1215.6700]['f']"
   ]
  },
  {
   "cell_type": "code",
   "execution_count": null,
   "metadata": {
    "collapsed": false
   },
   "outputs": [],
   "source": [
    "ism['HI 1215']['f']"
   ]
  },
  {
   "cell_type": "markdown",
   "metadata": {},
   "source": [
    "## Parsing entire fields"
   ]
  },
  {
   "cell_type": "code",
   "execution_count": null,
   "metadata": {
    "collapsed": false
   },
   "outputs": [],
   "source": [
    "FUV = np.where( (ism.wrest > 912.*u.AA) & (ism.wrest < 1200.*u.AA))[0]\n",
    "ism.wrest[FUV]"
   ]
  },
  {
   "cell_type": "code",
   "execution_count": null,
   "metadata": {
    "collapsed": false
   },
   "outputs": [],
   "source": [
    "CII_lines = np.where((ism.Z == 6) & (ism.ion == 2))[0]\n",
    "for lin in CII_lines:\n",
    "    print('{:s}, Ej={:g}'.format(ism.name[lin], ism.Ej[lin]))"
   ]
  },
  {
   "cell_type": "code",
   "execution_count": null,
   "metadata": {
    "collapsed": true
   },
   "outputs": [],
   "source": []
  }
 ],
 "metadata": {
  "kernelspec": {
   "display_name": "Python 2",
   "language": "python",
   "name": "python2"
  },
  "language_info": {
   "codemirror_mode": {
    "name": "ipython",
    "version": 2
   },
   "file_extension": ".py",
   "mimetype": "text/x-python",
   "name": "python",
   "nbconvert_exporter": "python",
   "pygments_lexer": "ipython2",
   "version": "2.7.11"
  }
 },
 "nbformat": 4,
 "nbformat_minor": 0
}
