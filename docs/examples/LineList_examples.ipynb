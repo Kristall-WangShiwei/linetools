{
 "cells": [
  {
   "cell_type": "markdown",
   "metadata": {},
   "source": [
    "# Example usage of LineList (v1.1)"
   ]
  },
  {
   "cell_type": "code",
   "execution_count": 1,
   "metadata": {
    "collapsed": false
   },
   "outputs": [],
   "source": [
    "#import\n",
    "from linetools.lists.linelist import LineList"
   ]
  },
  {
   "cell_type": "markdown",
   "metadata": {},
   "source": [
    "## Instantiate\n",
    "### Lists currently include (more to come):\n",
    "* ISM  (atomic lines)\n",
    "* Strong\n",
    "* H2"
   ]
  },
  {
   "cell_type": "code",
   "execution_count": 2,
   "metadata": {
    "collapsed": false
   },
   "outputs": [
    {
     "name": "stderr",
     "output_type": "stream",
     "text": [
      "WARNING: UnitsWarning: The unit 'Angstrom' has been deprecated in the FITS standard. Suggested: nm (with data multiplied by 0.1). [astropy.units.format.utils]\n",
      "WARNING:astropy:UnitsWarning: The unit 'Angstrom' has been deprecated in the FITS standard. Suggested: nm (with data multiplied by 0.1).\n"
     ]
    },
    {
     "name": "stdout",
     "output_type": "stream",
     "text": [
      "linetools.lists.parse: Reading linelist --- \n",
      "   /Users/xavier/local/Python/linetools/linetools/data/lines/morton03_table2.fits.gz\n",
      "linetools.lists.parse: Reading linelist --- \n",
      "   /Users/xavier/local/Python/linetools/linetools/data/lines/morton00_table2.fits.gz\n",
      "linetools.lists.parse: Reading linelist --- \n",
      "   /Users/xavier/local/Python/linetools/linetools/data/lines/verner94_tab6.fits\n"
     ]
    }
   ],
   "source": [
    "ism = LineList('ISM',verbose=False)"
   ]
  },
  {
   "cell_type": "markdown",
   "metadata": {},
   "source": [
    "## Check Tables"
   ]
  },
  {
   "cell_type": "code",
   "execution_count": 3,
   "metadata": {
    "collapsed": false
   },
   "outputs": [
    {
     "data": {
      "text/html": [
       "&lt;QTable masked=True length=5&gt;\n",
       "<table id=\"table4535816144\">\n",
       "<thead><tr><th>A</th><th>el</th><th>nj</th><th>nk</th><th>group</th><th>name</th><th>Ek</th><th>f</th><th>wrest</th><th>Ref</th><th>mol</th><th>Ej</th><th>ion</th><th>Ex</th><th>Jj</th><th>Jk</th><th>Z</th><th>gk</th><th>gj</th><th>gamma</th></tr></thead>\n",
       "<thead><tr><th>1 / s</th><th></th><th></th><th></th><th></th><th></th><th>1 / cm</th><th></th><th>Angstrom</th><th></th><th></th><th>1 / cm</th><th></th><th>1 / cm</th><th></th><th></th><th></th><th></th><th></th><th>1 / s</th></tr></thead>\n",
       "<thead><tr><th>float64</th><th>int64</th><th>int64</th><th>int64</th><th>int64</th><th>string640</th><th>float64</th><th>float64</th><th>float64</th><th>string1600</th><th>string320</th><th>float64</th><th>int64</th><th>float64</th><th>float64</th><th>float64</th><th>int64</th><th>int64</th><th>int64</th><th>float64</th></tr></thead>\n",
       "<tr><td>626500000.0</td><td>0</td><td>0</td><td>0</td><td>1</td><td>HI 1215</td><td>2259.163</td><td>0.4164</td><td>1215.67</td><td>Morton2003</td><td></td><td>0.0</td><td>1</td><td>0.0</td><td>0.0</td><td>0.0</td><td>1</td><td>6</td><td>2</td><td>0.0</td></tr>\n",
       "<tr><td>626500000.0</td><td>0</td><td>0</td><td>0</td><td>1</td><td>HI 1215</td><td>2258.91907</td><td>0.1388</td><td>1215.6736</td><td>Morton2003</td><td></td><td>0.0</td><td>1</td><td>0.0</td><td>0.0</td><td>0.0</td><td>1</td><td>2</td><td>2</td><td>626500000.0</td></tr>\n",
       "<tr><td>626500000.0</td><td>0</td><td>0</td><td>0</td><td>1</td><td>HI 1215</td><td>2259.28496</td><td>0.2776</td><td>1215.6682</td><td>Morton2003</td><td></td><td>0.0</td><td>1</td><td>0.0</td><td>0.0</td><td>0.0</td><td>1</td><td>4</td><td>2</td><td>626500000.0</td></tr>\n",
       "<tr><td>167300000.0</td><td>0</td><td>0</td><td>0</td><td>1</td><td>HI 1025</td><td>7492.28344</td><td>0.07914</td><td>1025.7222</td><td>Morton2003</td><td></td><td>0.0</td><td>1</td><td>0.0</td><td>0.0</td><td>0.0</td><td>1</td><td>6</td><td>2</td><td>0.0</td></tr>\n",
       "<tr><td>167300000.0</td><td>0</td><td>0</td><td>0</td><td>1</td><td>HI 1025</td><td>7492.21117</td><td>0.02638</td><td>1025.723</td><td>Morton2003</td><td></td><td>0.0</td><td>1</td><td>0.0</td><td>0.0</td><td>0.0</td><td>1</td><td>2</td><td>2</td><td>189700000.0</td></tr>\n",
       "</table>"
      ],
      "text/plain": [
       "<QTable masked=True length=5>\n",
       "     A        el    nj    nk  group ...    Jk     Z     gk    gj     gamma   \n",
       "   1 / s                            ...                              1 / s   \n",
       "  float64   int64 int64 int64 int64 ... float64 int64 int64 int64   float64  \n",
       "----------- ----- ----- ----- ----- ... ------- ----- ----- ----- -----------\n",
       "626500000.0     0     0     0     1 ...     0.0     1     6     2         0.0\n",
       "626500000.0     0     0     0     1 ...     0.0     1     2     2 626500000.0\n",
       "626500000.0     0     0     0     1 ...     0.0     1     4     2 626500000.0\n",
       "167300000.0     0     0     0     1 ...     0.0     1     6     2         0.0\n",
       "167300000.0     0     0     0     1 ...     0.0     1     2     2 189700000.0"
      ]
     },
     "execution_count": 3,
     "metadata": {},
     "output_type": "execute_result"
    }
   ],
   "source": [
    "# Full set of Data ingested\n",
    "ism._fulltable[0:5]"
   ]
  },
  {
   "cell_type": "code",
   "execution_count": 3,
   "metadata": {
    "collapsed": false
   },
   "outputs": [
    {
     "data": {
      "text/html": [
       "&lt;QTable masked=True length=5&gt;\n",
       "<table id=\"table4535685456\">\n",
       "<thead><tr><th>A</th><th>el</th><th>nj</th><th>nk</th><th>group</th><th>name</th><th>Ek</th><th>f</th><th>wrest</th><th>Ref</th><th>mol</th><th>Ej</th><th>ion</th><th>Ex</th><th>Jj</th><th>Jk</th><th>Z</th><th>gk</th><th>gj</th><th>gamma</th></tr></thead>\n",
       "<thead><tr><th>1 / s</th><th></th><th></th><th></th><th></th><th></th><th>1 / cm</th><th></th><th>Angstrom</th><th></th><th></th><th>1 / cm</th><th></th><th>1 / cm</th><th></th><th></th><th></th><th></th><th></th><th>1 / s</th></tr></thead>\n",
       "<thead><tr><th>float64</th><th>int64</th><th>int64</th><th>int64</th><th>int64</th><th>string640</th><th>float64</th><th>float64</th><th>float64</th><th>string1600</th><th>string320</th><th>float64</th><th>int64</th><th>float64</th><th>float64</th><th>float64</th><th>int64</th><th>int64</th><th>int64</th><th>float64</th></tr></thead>\n",
       "<tr><td>0.0</td><td>0</td><td>0</td><td>0</td><td>1</td><td>NeVI 401</td><td>0.0</td><td>0.167999997735</td><td>401.14</td><td>Verner1994</td><td></td><td>0.0</td><td>6</td><td>0.0</td><td>0.0</td><td>0.0</td><td>10</td><td>2</td><td>2</td><td>0.0</td></tr>\n",
       "<tr><td>0.0</td><td>0</td><td>0</td><td>0</td><td>1</td><td>NeII 405</td><td>0.0</td><td>0.0586000010371</td><td>405.8538</td><td>Verner1994</td><td></td><td>0.0</td><td>2</td><td>0.0</td><td>0.0</td><td>0.0</td><td>10</td><td>6</td><td>4</td><td>0.0</td></tr>\n",
       "<tr><td>0.0</td><td>0</td><td>0</td><td>0</td><td>1</td><td>OII 418</td><td>0.0</td><td>0.00734000001103</td><td>418.598</td><td>Verner1994</td><td></td><td>0.0</td><td>2</td><td>0.0</td><td>0.0</td><td>0.0</td><td>8</td><td>6</td><td>4</td><td>0.0</td></tr>\n",
       "<tr><td>0.0</td><td>0</td><td>0</td><td>0</td><td>1</td><td>OII 429</td><td>0.0</td><td>0.0617999993265</td><td>429.918</td><td>Verner1994</td><td></td><td>0.0</td><td>2</td><td>0.0</td><td>0.0</td><td>0.0</td><td>8</td><td>2</td><td>4</td><td>0.0</td></tr>\n",
       "<tr><td>0.0</td><td>0</td><td>0</td><td>0</td><td>1</td><td>OII 430a</td><td>0.0</td><td>0.123999997973</td><td>430.041</td><td>Verner1994</td><td></td><td>0.0</td><td>2</td><td>0.0</td><td>0.0</td><td>0.0</td><td>8</td><td>4</td><td>4</td><td>0.0</td></tr>\n",
       "</table>"
      ],
      "text/plain": [
       "<QTable masked=True length=5>\n",
       "   A      el    nj    nk  group    name   ...    Jk     Z     gk    gj   gamma \n",
       " 1 / s                                    ...                            1 / s \n",
       "float64 int64 int64 int64 int64 string640 ... float64 int64 int64 int64 float64\n",
       "------- ----- ----- ----- ----- --------- ... ------- ----- ----- ----- -------\n",
       "    0.0     0     0     0     1  NeVI 401 ...     0.0    10     2     2     0.0\n",
       "    0.0     0     0     0     1  NeII 405 ...     0.0    10     6     4     0.0\n",
       "    0.0     0     0     0     1   OII 418 ...     0.0     8     6     4     0.0\n",
       "    0.0     0     0     0     1   OII 429 ...     0.0     8     2     4     0.0\n",
       "    0.0     0     0     0     1  OII 430a ...     0.0     8     4     4     0.0"
      ]
     },
     "execution_count": 3,
     "metadata": {},
     "output_type": "execute_result"
    }
   ],
   "source": [
    "# Subset of data to be used\n",
    "ism._data[0:5]"
   ]
  },
  {
   "cell_type": "markdown",
   "metadata": {},
   "source": [
    "## Calling specific lines"
   ]
  },
  {
   "cell_type": "code",
   "execution_count": 12,
   "metadata": {
    "collapsed": false
   },
   "outputs": [
    {
     "data": {
      "text/plain": [
       "{'A': <Quantity 626500000.0 1 / s>,\n",
       " 'Ej': <Quantity 0.0 1 / cm>,\n",
       " 'Ek': <Quantity 2259.163 1 / cm>,\n",
       " 'Ex': <Quantity 0.0 1 / cm>,\n",
       " 'Jj': 0.0,\n",
       " 'Jk': 0.0,\n",
       " 'Ref': 'Morton2003',\n",
       " 'Z': 1,\n",
       " 'el': 0,\n",
       " 'f': 0.41639999999999999,\n",
       " 'gamma': <Quantity 0.0 1 / s>,\n",
       " 'gj': 2,\n",
       " 'gk': 6,\n",
       " 'group': 1,\n",
       " 'ion': 1,\n",
       " 'mol': '',\n",
       " 'name': 'HI 1215',\n",
       " 'nj': 0,\n",
       " 'nk': 0,\n",
       " 'wrest': <Quantity 1215.67 Angstrom>}"
      ]
     },
     "execution_count": 12,
     "metadata": {},
     "output_type": "execute_result"
    }
   ],
   "source": [
    "ism['HI 1215']  # Returns a dict"
   ]
  },
  {
   "cell_type": "code",
   "execution_count": 5,
   "metadata": {
    "collapsed": false
   },
   "outputs": [
    {
     "data": {
      "text/plain": [
       "0.41639999999999999"
      ]
     },
     "execution_count": 5,
     "metadata": {},
     "output_type": "execute_result"
    }
   ],
   "source": [
    "ism[1215.6700]['f']"
   ]
  },
  {
   "cell_type": "code",
   "execution_count": 6,
   "metadata": {
    "collapsed": false
   },
   "outputs": [
    {
     "data": {
      "text/plain": [
       "0.41639999999999999"
      ]
     },
     "execution_count": 6,
     "metadata": {},
     "output_type": "execute_result"
    }
   ],
   "source": [
    "ism['HI 1215']['f']"
   ]
  },
  {
   "cell_type": "markdown",
   "metadata": {},
   "source": [
    "## Parsing entire fields"
   ]
  },
  {
   "cell_type": "code",
   "execution_count": 7,
   "metadata": {
    "collapsed": false
   },
   "outputs": [
    {
     "data": {
      "text/latex": [
       "$[912.7032,~912.7676,~912.8389,~\\dots, 1198.2625,~1199.391,~1199.5496] \\; \\mathrm{\\mathring{A}}$"
      ],
      "text/plain": [
       "<Quantity [  912.7032,  912.7676,  912.8389,  913.1042,  912.9179,\n",
       "             913.0059,  913.2146,  913.3391,  913.4803,  913.6411,\n",
       "             913.641 ,  913.641 ,  913.8256,  913.9683,  914.0385,\n",
       "             914.2861,  914.286 ,  914.285 ,  914.5762,  914.9192,\n",
       "             914.919 ,  915.0799,  915.3289,  915.5746,  915.8238,\n",
       "             916.1798,  916.4291,  917.1178,  916.931 ,  917.1805,\n",
       "             917.8796,  918.1293,  919.1013,  919.101 ,  919.3513,\n",
       "             920.7125,  920.7125,  920.7125,  920.963 ,  920.963 ,\n",
       "             920.963 ,  921.86  ,  921.86  ,  921.86  ,  922.2   ,\n",
       "             922.8992,  922.8992,  922.8992,  923.1503,  923.1503,\n",
       "             923.1503,  924.952 ,  924.952 ,  924.952 ,  925.442 ,\n",
       "             925.9737,  925.9737,  925.9737,  926.2256,  926.2257,\n",
       "             926.2256,  929.5168,  930.2566,  930.495 ,  930.4951,\n",
       "             930.495 ,  930.7482,  930.7482,  930.7482,  933.378 ,\n",
       "             936.6295,  937.5483,  937.5484,  937.5483,  937.8034,\n",
       "             937.8035,  937.8034,  944.523 ,  945.191 ,  945.338 ,\n",
       "             945.579 ,  948.6855,  949.4846,  949.4848,  949.4846,\n",
       "             949.743 ,  949.7431,  949.7429,  950.8846,  953.4152,\n",
       "             953.6549,  953.9699,  954.8267,  963.8005,  963.9903,\n",
       "             964.6256,  965.0413,  971.7382,  971.7376,  971.7371,\n",
       "             972.2722,  972.2725,  972.272 ,  972.5367,  972.537 ,\n",
       "             972.5366,  976.4481,  977.0201,  988.5778,  988.6549,\n",
       "             988.7734,  989.799 ,  989.8731,  997.9996, 1009.428 ,\n",
       "            1012.501 , 1020.6989, 1025.4432, 1025.444 , 1025.4428,\n",
       "            1025.7222, 1025.723 , 1025.7218, 1025.7626, 1025.7616,\n",
       "            1025.9681, 1026.1134, 1031.9261, 1036.3367, 1037.0182,\n",
       "            1037.6167, 1039.2304, 1048.2199, 1055.2617, 1062.1517,\n",
       "            1062.662 , 1063.1764, 1063.8311, 1063.9718, 1066.6598,\n",
       "            1071.0358, 1081.8748, 1096.8769, 1106.3596, 1112.048 ,\n",
       "            1112.269 , 1117.    , 1117.133 , 1117.205 , 1117.244 ,\n",
       "            1117.338 , 1117.393 , 1117.542 , 1117.581 , 1117.604 ,\n",
       "            1117.6217, 1117.675 , 1117.73  , 1117.865 , 1117.9202,\n",
       "            1117.9774, 1118.07  , 1118.1254, 1118.3798, 1118.408 ,\n",
       "            1118.4631, 1118.491 , 1118.7176, 1121.453 , 1121.5196,\n",
       "            1121.641 , 1121.659 , 1121.7132, 1121.7261, 1121.758 ,\n",
       "            1121.9198, 1121.9748, 1121.999 , 1122.004 , 1122.0659,\n",
       "            1122.098 , 1122.1797, 1122.2597, 1122.327 , 1122.344 ,\n",
       "            1122.437 , 1122.5183, 1122.644 , 1122.7252, 1122.7729,\n",
       "            1122.795 , 1122.985 , 1123.0656, 1123.107 , 1123.1192,\n",
       "            1123.135 , 1123.4599, 1125.4477, 1128.0078, 1128.081 ,\n",
       "            1128.1713, 1128.252 , 1128.29  , 1128.3803, 1128.408 ,\n",
       "            1128.477 , 1128.634 , 1128.6861, 1128.7241, 1128.752 ,\n",
       "            1128.817 , 1128.9028, 1129.0301, 1129.078 , 1129.141 ,\n",
       "            1129.161 , 1129.195 , 1129.3175, 1129.405 , 1129.4222,\n",
       "            1129.5269, 1129.5945, 1129.624 , 1129.749 , 1129.8714,\n",
       "            1129.925 , 1129.969 , 1130.1708, 1130.5157, 1133.6654,\n",
       "            1134.1653, 1134.4149, 1134.9803, 1138.384 , 1138.557 ,\n",
       "            1138.5609, 1138.597 , 1138.598 , 1138.743 , 1138.7738,\n",
       "            1138.947 , 1139.0867, 1139.093 , 1139.124 , 1139.2998,\n",
       "            1139.4256, 1139.5145, 1139.6503, 1139.7659, 1139.7919,\n",
       "            1139.793 , 1139.8121, 1139.8651, 1140.0053, 1140.0096,\n",
       "            1140.1167, 1140.223 , 1140.3165, 1140.3562, 1140.3576,\n",
       "            1140.5741, 1140.6415, 1140.7088, 1141.3267, 1141.6785,\n",
       "            1142.3656, 1143.226 , 1144.9379, 1149.958 , 1152.818 ,\n",
       "            1155.8092, 1155.9793, 1156.0286, 1156.1842, 1156.1992,\n",
       "            1156.3895, 1156.4037, 1156.5603, 1156.7648, 1157.1857,\n",
       "            1157.33  , 1157.4056, 1157.7674, 1157.7697, 1157.9097,\n",
       "            1158.0188, 1158.0349, 1158.1299, 1158.1317, 1158.324 ,\n",
       "            1158.3971, 1158.4921, 1158.5443, 1158.6744, 1158.7321,\n",
       "            1158.9068, 1158.9668, 1159.0947, 1159.8168, 1160.5131,\n",
       "            1160.8768, 1160.9366, 1164.8672, 1188.8329, 1188.9928,\n",
       "            1189.065 , 1189.2488, 1189.4468, 1189.6307, 1190.0209,\n",
       "            1190.2535, 1190.4158, 1190.636 , 1191.842 , 1192.2175,\n",
       "            1193.0085, 1193.03  , 1193.2401, 1193.2637, 1193.2897,\n",
       "            1193.3928, 1193.6483, 1193.6786, 1193.9954, 1194.0634,\n",
       "            1194.2295, 1194.301 , 1194.4055, 1194.4885, 1194.6146,\n",
       "            1194.6862, 1197.184 , 1197.3938, 1197.875 , 1198.2625,\n",
       "            1199.391 , 1199.5496] Angstrom>"
      ]
     },
     "execution_count": 7,
     "metadata": {},
     "output_type": "execute_result"
    }
   ],
   "source": [
    "FUV = np.where( (ism.wrest > 912.*u.AA) & (ism.wrest < 1200.*u.AA))[0]\n",
    "ism.wrest[FUV]"
   ]
  },
  {
   "cell_type": "code",
   "execution_count": 11,
   "metadata": {
    "collapsed": false
   },
   "outputs": [
    {
     "name": "stdout",
     "output_type": "stream",
     "text": [
      "CII 543, Ej=0 1 / cm\n",
      "CII 560, Ej=0 1 / cm\n",
      "CII 594, Ej=0 1 / cm\n",
      "CII 687, Ej=0 1 / cm\n",
      "CII 858, Ej=0 1 / cm\n",
      "CII 903a, Ej=0 1 / cm\n",
      "CII 903b, Ej=0 1 / cm\n",
      "CII 1036, Ej=0 1 / cm\n",
      "CII* 1037, Ej=63.42 1 / cm\n",
      "CII 1334, Ej=0 1 / cm\n",
      "CII* 1335, Ej=63.42 1 / cm\n",
      "CII 2325, Ej=0 1 / cm\n"
     ]
    }
   ],
   "source": [
    "CII_lines = np.where((ism.Z == 6) & (ism.ion == 2))[0]\n",
    "for lin in CII_lines:\n",
    "    print('{:s}, Ej={:g}'.format(ism.name[lin], ism.Ej[lin]))"
   ]
  },
  {
   "cell_type": "code",
   "execution_count": null,
   "metadata": {
    "collapsed": true
   },
   "outputs": [],
   "source": []
  }
 ],
 "metadata": {
  "kernelspec": {
   "display_name": "Python 2",
   "language": "python",
   "name": "python2"
  },
  "language_info": {
   "codemirror_mode": {
    "name": "ipython",
    "version": 2
   },
   "file_extension": ".py",
   "mimetype": "text/x-python",
   "name": "python",
   "nbconvert_exporter": "python",
   "pygments_lexer": "ipython2",
   "version": "2.7.9"
  }
 },
 "nbformat": 4,
 "nbformat_minor": 0
}
