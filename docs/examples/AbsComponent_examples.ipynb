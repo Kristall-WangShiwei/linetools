{
 "cells": [
  {
   "cell_type": "markdown",
   "metadata": {},
   "source": [
    "# Examples for the AbsComopnent Class"
   ]
  },
  {
   "cell_type": "code",
   "execution_count": 1,
   "metadata": {
    "collapsed": false
   },
   "outputs": [],
   "source": [
    "# import\n",
    "from linetools.isgm import abscomponent as lt_abscomp\n",
    "from linetools.spectralline import AbsLine"
   ]
  },
  {
   "cell_type": "markdown",
   "metadata": {},
   "source": [
    "## Instantiate"
   ]
  },
  {
   "cell_type": "markdown",
   "metadata": {},
   "source": [
    "### Standard"
   ]
  },
  {
   "cell_type": "code",
   "execution_count": 2,
   "metadata": {
    "collapsed": false
   },
   "outputs": [
    {
     "data": {
      "text/plain": [
       "[AbsComponent: 00:40:00 +45:00:00, Zion=(14,2), z=1]"
      ]
     },
     "execution_count": 2,
     "metadata": {},
     "output_type": "execute_result"
    }
   ],
   "source": [
    "abscomp = lt_abscomp.AbsComponent((10.0*u.deg, 45*u.deg), (14,2), 1.0, [-300,300]*u.km/u.s)\n",
    "abscomp"
   ]
  },
  {
   "cell_type": "markdown",
   "metadata": {
    "collapsed": true
   },
   "source": [
    "### From AbsLines"
   ]
  },
  {
   "cell_type": "markdown",
   "metadata": {},
   "source": [
    "#### From one line"
   ]
  },
  {
   "cell_type": "code",
   "execution_count": 13,
   "metadata": {
    "collapsed": false
   },
   "outputs": [],
   "source": [
    "lya = AbsLine(1215.670*u.AA)"
   ]
  },
  {
   "cell_type": "code",
   "execution_count": 11,
   "metadata": {
    "collapsed": false
   },
   "outputs": [
    {
     "name": "stdout",
     "output_type": "stream",
     "text": [
      "[AbsComponent: 00:00:00 +00:00:00, Zion=(1,1), z=0]\n"
     ]
    },
    {
     "data": {
      "text/plain": [
       "[[AbsLine: HI 1215, wrest=1215.6700 Angstrom]]"
      ]
     },
     "execution_count": 11,
     "metadata": {},
     "output_type": "execute_result"
    }
   ],
   "source": [
    "reload(lt_abscomp)\n",
    "abscomp = lt_abscomp.AbsComponent.from_abslines([lya])\n",
    "print(abscomp)\n",
    "abscomp._abslines"
   ]
  },
  {
   "cell_type": "markdown",
   "metadata": {},
   "source": [
    "#### From multiple"
   ]
  },
  {
   "cell_type": "code",
   "execution_count": 14,
   "metadata": {
    "collapsed": true
   },
   "outputs": [],
   "source": [
    "lyb = AbsLine(1025.7222*u.AA)"
   ]
  },
  {
   "cell_type": "code",
   "execution_count": 34,
   "metadata": {
    "collapsed": false
   },
   "outputs": [
    {
     "name": "stdout",
     "output_type": "stream",
     "text": [
      "[AbsComponent: 00:00:00 +00:00:00, Zion=(1,1), z=0]\n"
     ]
    },
    {
     "data": {
      "text/plain": [
       "[[AbsLine: HI 1215, wrest=1215.6700 Angstrom],\n",
       " [AbsLine: HI 1025, wrest=1025.7222 Angstrom]]"
      ]
     },
     "execution_count": 34,
     "metadata": {},
     "output_type": "execute_result"
    }
   ],
   "source": [
    "reload(lt_abscomp)\n",
    "abscomp = lt_abscomp.AbsComponent.from_abslines([lya,lyb])\n",
    "print(abscomp)\n",
    "abscomp._abslines"
   ]
  },
  {
   "cell_type": "code",
   "execution_count": 19,
   "metadata": {
    "collapsed": false
   },
   "outputs": [
    {
     "data": {
      "text/plain": [
       "{'A': <Quantity 626500000.0 1 / s>,\n",
       " 'Am': 0,\n",
       " 'Ej': <Quantity 0.0 1 / cm>,\n",
       " 'Ek': <Quantity 2259.163 1 / cm>,\n",
       " 'Ex': <Quantity 0.0 1 / cm>,\n",
       " 'Jj': 0.0,\n",
       " 'Jk': 0.0,\n",
       " 'Ref': 'Morton2003',\n",
       " 'Z': 1,\n",
       " 'col0': masked,\n",
       " 'col6': masked,\n",
       " 'el': 0,\n",
       " 'f': 0.41639999999999999,\n",
       " 'gamma': <Quantity 626500000.0 1 / s>,\n",
       " 'gj': 2,\n",
       " 'gk': 6,\n",
       " 'group': 1,\n",
       " 'ion': 1,\n",
       " 'mol': '',\n",
       " 'name': 'HI 1215',\n",
       " 'nj': 0,\n",
       " 'nk': 0,\n",
       " 'wrest': <Quantity 1215.67 Angstrom>}"
      ]
     },
     "execution_count": 19,
     "metadata": {},
     "output_type": "execute_result"
    }
   ],
   "source": [
    "lya.data"
   ]
  },
  {
   "cell_type": "code",
   "execution_count": 22,
   "metadata": {
    "collapsed": true
   },
   "outputs": [],
   "source": [
    "a = 0. * u.eV"
   ]
  },
  {
   "cell_type": "code",
   "execution_count": 27,
   "metadata": {
    "collapsed": false
   },
   "outputs": [],
   "source": [
    "b = a == 0*u.eV"
   ]
  },
  {
   "cell_type": "code",
   "execution_count": 31,
   "metadata": {
    "collapsed": false
   },
   "outputs": [
    {
     "data": {
      "text/plain": [
       "1"
      ]
     },
     "execution_count": 31,
     "metadata": {},
     "output_type": "execute_result"
    }
   ],
   "source": [
    "b.size"
   ]
  },
  {
   "cell_type": "code",
   "execution_count": null,
   "metadata": {
    "collapsed": true
   },
   "outputs": [],
   "source": []
  }
 ],
 "metadata": {
  "kernelspec": {
   "display_name": "Python 2",
   "language": "python",
   "name": "python2"
  },
  "language_info": {
   "codemirror_mode": {
    "name": "ipython",
    "version": 2
   },
   "file_extension": ".py",
   "mimetype": "text/x-python",
   "name": "python",
   "nbconvert_exporter": "python",
   "pygments_lexer": "ipython2",
   "version": "2.7.10"
  }
 },
 "nbformat": 4,
 "nbformat_minor": 0
}
