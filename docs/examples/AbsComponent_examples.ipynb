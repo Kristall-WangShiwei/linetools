{
 "cells": [
  {
   "cell_type": "markdown",
   "metadata": {},
   "source": [
    "# Examples for the AbsComponent Class (v0.3)"
   ]
  },
  {
   "cell_type": "code",
   "execution_count": 1,
   "metadata": {
    "collapsed": true
   },
   "outputs": [],
   "source": [
    "%matplotlib inline"
   ]
  },
  {
   "cell_type": "code",
   "execution_count": 2,
   "metadata": {
    "collapsed": false
   },
   "outputs": [
    {
     "name": "stderr",
     "output_type": "stream",
     "text": [
      "/Users/xavier/anaconda/lib/python2.7/site-packages/matplotlib/__init__.py:872: UserWarning: axes.color_cycle is deprecated and replaced with axes.prop_cycle; please use the latter.\n",
      "  warnings.warn(self.msg_depr % (key, alt_key))\n"
     ]
    }
   ],
   "source": [
    "# import\n",
    "try:\n",
    "    import seaborn as sns; sns.set_style(\"white\")\n",
    "except:\n",
    "    pass\n",
    "\n",
    "from linetools.spectralline import AbsLine\n",
    "from linetools.isgm import utils as ltiu\n",
    "from linetools.analysis import absline as laa\n",
    "from linetools.spectra import io as lsio\n",
    "from linetools.isgm.abscomponent import AbsComponent\n",
    "#\n",
    "import imp\n",
    "lt_path = imp.find_module('linetools')[1]"
   ]
  },
  {
   "cell_type": "markdown",
   "metadata": {},
   "source": [
    "## Instantiate"
   ]
  },
  {
   "cell_type": "markdown",
   "metadata": {},
   "source": [
    "### Standard"
   ]
  },
  {
   "cell_type": "code",
   "execution_count": 3,
   "metadata": {
    "collapsed": false
   },
   "outputs": [
    {
     "data": {
      "text/plain": [
       "[AbsComponent: 00:40:00 +45:00:00, Zion=(14,2), z=1, vlim=-300 km / s,300 km / s]"
      ]
     },
     "execution_count": 3,
     "metadata": {},
     "output_type": "execute_result"
    }
   ],
   "source": [
    "abscomp = AbsComponent((10.0*u.deg, 45*u.deg), (14,2), 1.0, [-300,300]*u.km/u.s)\n",
    "abscomp"
   ]
  },
  {
   "cell_type": "markdown",
   "metadata": {
    "collapsed": true
   },
   "source": [
    "### From AbsLines"
   ]
  },
  {
   "cell_type": "markdown",
   "metadata": {},
   "source": [
    "#### From one line"
   ]
  },
  {
   "cell_type": "code",
   "execution_count": 4,
   "metadata": {
    "collapsed": false
   },
   "outputs": [
    {
     "name": "stderr",
     "output_type": "stream",
     "text": [
      "WARNING: UnitsWarning: The unit 'Angstrom' has been deprecated in the FITS standard. Suggested: 10**-1 nm. [astropy.units.format.utils]\n",
      "WARNING:astropy:UnitsWarning: The unit 'Angstrom' has been deprecated in the FITS standard. Suggested: 10**-1 nm.\n"
     ]
    },
    {
     "name": "stdout",
     "output_type": "stream",
     "text": [
      "linetools.lists.parse: Reading linelist --- \n",
      "   /Users/xavier/local/Python/linetools/linetools/data/lines/morton03_table2.fits.gz\n",
      "linetools.lists.parse: Reading linelist --- \n",
      "   /Users/xavier/local/Python/linetools/linetools/data/lines/morton00_table2.fits.gz\n",
      "linetools.lists.parse: Reading linelist --- \n",
      "   /Users/xavier/local/Python/linetools/linetools/data/lines/verner94_tab6.fits"
     ]
    },
    {
     "name": "stderr",
     "output_type": "stream",
     "text": [
      "WARNING: UnitsWarning: '0.1nm' did not parse as fits unit: Numeric factor not supported by FITS [astropy.units.core]\n",
      "WARNING:astropy:UnitsWarning: '0.1nm' did not parse as fits unit: Numeric factor not supported by FITS\n"
     ]
    },
    {
     "name": "stdout",
     "output_type": "stream",
     "text": [
      "\n",
      "linetools.lists.parse: Reading linelist --- \n",
      "   /Users/xavier/local/Python/linetools/linetools/data/lines/EUV_lines.ascii\n",
      "read_sets: Using set file -- \n",
      "  /Users/xavier/local/Python/linetools/linetools/lists/sets/llist_v0.3.ascii\n"
     ]
    }
   ],
   "source": [
    "lya = AbsLine(1215.670*u.AA)\n",
    "lya.analy['vlim'] = [-300.,300.]*u.km/u.s\n",
    "lya.attrib['z'] = 2.92939"
   ]
  },
  {
   "cell_type": "code",
   "execution_count": 5,
   "metadata": {
    "collapsed": false
   },
   "outputs": [
    {
     "name": "stdout",
     "output_type": "stream",
     "text": [
      "[AbsComponent: 00:00:00 +00:00:00, Zion=(1,1), z=2.92939, vlim=-300 km / s,300 km / s]\n"
     ]
    },
    {
     "data": {
      "text/plain": [
       "[[AbsLine: HI 1215, wrest=1215.6700 Angstrom]]"
      ]
     },
     "execution_count": 5,
     "metadata": {},
     "output_type": "execute_result"
    }
   ],
   "source": [
    "abscomp = AbsComponent.from_abslines([lya])\n",
    "print(abscomp)\n",
    "abscomp._abslines"
   ]
  },
  {
   "cell_type": "markdown",
   "metadata": {},
   "source": [
    "#### From multiple"
   ]
  },
  {
   "cell_type": "code",
   "execution_count": 6,
   "metadata": {
    "collapsed": true
   },
   "outputs": [],
   "source": [
    "lyb = AbsLine(1025.7222*u.AA)\n",
    "lyb.analy['vlim'] = [-300.,300.]*u.km/u.s\n",
    "lyb.attrib['z'] = lya.attrib['z']"
   ]
  },
  {
   "cell_type": "code",
   "execution_count": 7,
   "metadata": {
    "collapsed": false
   },
   "outputs": [
    {
     "name": "stdout",
     "output_type": "stream",
     "text": [
      "[AbsComponent: 00:00:00 +00:00:00, Zion=(1,1), z=2.92939, vlim=-300 km / s,300 km / s]\n"
     ]
    },
    {
     "data": {
      "text/plain": [
       "[[AbsLine: HI 1215, wrest=1215.6700 Angstrom],\n",
       " [AbsLine: HI 1025, wrest=1025.7222 Angstrom]]"
      ]
     },
     "execution_count": 7,
     "metadata": {},
     "output_type": "execute_result"
    }
   ],
   "source": [
    "abscomp = AbsComponent.from_abslines([lya,lyb])\n",
    "print(abscomp)\n",
    "abscomp._abslines"
   ]
  },
  {
   "cell_type": "markdown",
   "metadata": {},
   "source": [
    "## Methods"
   ]
  },
  {
   "cell_type": "markdown",
   "metadata": {},
   "source": [
    "### Generate a Component Table"
   ]
  },
  {
   "cell_type": "code",
   "execution_count": 8,
   "metadata": {
    "collapsed": false
   },
   "outputs": [
    {
     "data": {
      "text/plain": [
       "(<Quantity 141253754462275.53 1 / cm2>, <Quantity 61797269977312.6 1 / cm2>)"
      ]
     },
     "execution_count": 8,
     "metadata": {},
     "output_type": "execute_result"
    }
   ],
   "source": [
    "reload(laa)\n",
    "lya.attrib['logN'] = 14.1\n",
    "lya.attrib['sig_logN'] = 0.15\n",
    "lya.attrib['flag_N'] = 1\n",
    "laa.linear_clm(lya.attrib)\n",
    "lyb.attrib['logN'] = 14.15\n",
    "lyb.attrib['sig_logN'] = 0.19\n",
    "lyb.attrib['flag_N'] = 1\n",
    "laa.linear_clm(lyb.attrib)"
   ]
  },
  {
   "cell_type": "code",
   "execution_count": 9,
   "metadata": {
    "collapsed": false
   },
   "outputs": [
    {
     "data": {
      "text/html": [
       "&lt;QTable length=2&gt;\n",
       "<table id=\"table4566175568\">\n",
       "<thead><tr><th>wrest</th><th>z</th><th>flag_N</th><th>logN</th><th>sig_logN</th></tr></thead>\n",
       "<thead><tr><th>Angstrom</th><th></th><th></th><th></th><th></th></tr></thead>\n",
       "<thead><tr><th>float64</th><th>float64</th><th>int64</th><th>float64</th><th>float64</th></tr></thead>\n",
       "<tr><td>1215.67</td><td>2.92939</td><td>1</td><td>14.1</td><td>0.15</td></tr>\n",
       "<tr><td>1025.7222</td><td>2.92939</td><td>1</td><td>14.15</td><td>0.19</td></tr>\n",
       "</table>"
      ],
      "text/plain": [
       "<QTable length=2>\n",
       "  wrest      z    flag_N   logN  sig_logN\n",
       " Angstrom                                \n",
       " float64  float64 int64  float64 float64 \n",
       "--------- ------- ------ ------- --------\n",
       "  1215.67 2.92939      1    14.1     0.15\n",
       "1025.7222 2.92939      1   14.15     0.19"
      ]
     },
     "execution_count": 9,
     "metadata": {},
     "output_type": "execute_result"
    }
   ],
   "source": [
    "abscomp = AbsComponent.from_abslines([lya,lyb])\n",
    "comp_tbl = abscomp.build_table()\n",
    "comp_tbl"
   ]
  },
  {
   "cell_type": "markdown",
   "metadata": {},
   "source": [
    "### Synthesize multiple components"
   ]
  },
  {
   "cell_type": "code",
   "execution_count": 10,
   "metadata": {
    "collapsed": false
   },
   "outputs": [],
   "source": [
    "SiIItrans = ['SiII 1260', 'SiII 1304', 'SiII 1526']\n",
    "SiIIlines = []\n",
    "for trans in SiIItrans:\n",
    "    iline = AbsLine(trans)\n",
    "    iline.attrib['logN'] = 12.8 + np.random.rand()\n",
    "    iline.attrib['sig_logN'] = 0.15\n",
    "    iline.attrib['flag_N'] = 1\n",
    "    iline.attrib['z'] = 2.92939\n",
    "    iline.analy['vlim'] = [-300.,50.]*u.km/u.s\n",
    "    _,_ = laa.linear_clm(iline.attrib)\n",
    "    SiIIlines.append(iline)\n",
    "SiIIcomp = AbsComponent.from_abslines(SiIIlines)\n",
    "SiIIcomp.synthesize_colm()"
   ]
  },
  {
   "cell_type": "code",
   "execution_count": 11,
   "metadata": {
    "collapsed": true
   },
   "outputs": [],
   "source": [
    "SiIIlines2 = []\n",
    "for trans in SiIItrans:\n",
    "    iline = AbsLine(trans)\n",
    "    iline.attrib['logN'] = 13.3 + np.random.rand()\n",
    "    iline.attrib['sig_logN'] = 0.15\n",
    "    iline.attrib['flag_N'] = 1\n",
    "    iline.attrib['z'] = 2.92939\n",
    "    iline.analy['vlim'] = [50.,300.]*u.km/u.s\n",
    "    _,_ = laa.linear_clm(iline.attrib)\n",
    "    SiIIlines2.append(iline)\n",
    "SiIIcomp2 = AbsComponent.from_abslines(SiIIlines2)\n",
    "SiIIcomp2.synthesize_colm()"
   ]
  },
  {
   "cell_type": "code",
   "execution_count": 12,
   "metadata": {
    "collapsed": false
   },
   "outputs": [
    {
     "data": {
      "text/plain": [
       "[[AbsComponent: 00:00:00 +00:00:00, Zion=(1,1), z=2.92939, vlim=-300 km / s,300 km / s, logN=14.1172, sig_N=0.117912],\n",
       " [AbsComponent: 00:00:00 +00:00:00, Zion=(14,2), z=2.92939, vlim=-300 km / s,50 km / s, logN=13.4438, sig_N=0.0916346],\n",
       " [AbsComponent: 00:00:00 +00:00:00, Zion=(14,2), z=2.92939, vlim=50 km / s,300 km / s, logN=13.7373, sig_N=0.0913882]]"
      ]
     },
     "execution_count": 12,
     "metadata": {},
     "output_type": "execute_result"
    }
   ],
   "source": [
    "abscomp.synthesize_colm()\n",
    "[abscomp,SiIIcomp,SiIIcomp2]"
   ]
  },
  {
   "cell_type": "code",
   "execution_count": 13,
   "metadata": {
    "collapsed": false
   },
   "outputs": [
    {
     "data": {
      "text/plain": [
       "[AbsComponent: 00:00:00 +00:00:00, Zion=(14,2), z=2.92939, vlim=-60 km / s,310 km / s, logN=13.9159, sig_N=0.0679991]"
      ]
     },
     "execution_count": 13,
     "metadata": {},
     "output_type": "execute_result"
    }
   ],
   "source": [
    "synth_SiII = ltiu.synthesize_components([SiIIcomp,SiIIcomp2])\n",
    "synth_SiII"
   ]
  },
  {
   "cell_type": "markdown",
   "metadata": {},
   "source": [
    "### Generate multiple components from abslines"
   ]
  },
  {
   "cell_type": "code",
   "execution_count": 19,
   "metadata": {
    "collapsed": false
   },
   "outputs": [
    {
     "data": {
      "text/plain": [
       "[[AbsComponent: 00:00:00 +00:00:00, Zion=(1,1), z=2.92939, vlim=-300 km / s,300 km / s],\n",
       " [AbsComponent: 00:00:00 +00:00:00, Zion=(14,2), z=2.92939, vlim=-300 km / s,50 km / s]]"
      ]
     },
     "execution_count": 19,
     "metadata": {},
     "output_type": "execute_result"
    }
   ],
   "source": [
    "reload(ltiu)\n",
    "comps = ltiu.build_components_from_abslines([lya,lyb,SiIIlines[0],SiIIlines[1]])\n",
    "comps"
   ]
  },
  {
   "cell_type": "markdown",
   "metadata": {},
   "source": [
    "### Generate an Ion Table"
   ]
  },
  {
   "cell_type": "code",
   "execution_count": 20,
   "metadata": {
    "collapsed": false
   },
   "outputs": [
    {
     "data": {
      "text/html": [
       "&lt;QTable length=2&gt;\n",
       "<table id=\"table4565810512\">\n",
       "<thead><tr><th>Z</th><th>ion</th><th>A</th><th>Ej</th><th>vmin</th><th>vmax</th><th>flag_N</th><th>logN</th><th>sig_logN</th></tr></thead>\n",
       "<thead><tr><th></th><th></th><th></th><th></th><th>km / s</th><th>km / s</th><th></th><th></th><th></th></tr></thead>\n",
       "<thead><tr><th>int64</th><th>int64</th><th>int64</th><th>float64</th><th>float64</th><th>float64</th><th>int64</th><th>float64</th><th>float64</th></tr></thead>\n",
       "<tr><td>1</td><td>1</td><td>0</td><td>0.0</td><td>290.0</td><td>310.0</td><td>1</td><td>14.1172024817</td><td>0.117911610801</td></tr>\n",
       "<tr><td>14</td><td>2</td><td>0</td><td>0.0</td><td>-60.0</td><td>310.0</td><td>1</td><td>13.9159106165</td><td>0.0679990910669</td></tr>\n",
       "</table>"
      ],
      "text/plain": [
       "<QTable length=2>\n",
       "  Z    ion    A      Ej     vmin    vmax  flag_N      logN         sig_logN   \n",
       "                           km / s  km / s                                     \n",
       "int64 int64 int64 float64 float64 float64 int64     float64        float64    \n",
       "----- ----- ----- ------- ------- ------- ------ ------------- ---------------\n",
       "    1     1     0     0.0   290.0   310.0      1 14.1172024817  0.117911610801\n",
       "   14     2     0     0.0   -60.0   310.0      1 13.9159106165 0.0679990910669"
      ]
     },
     "execution_count": 20,
     "metadata": {},
     "output_type": "execute_result"
    }
   ],
   "source": [
    "reload(ltiu)\n",
    "tbl = ltiu.iontable_from_components([abscomp,SiIIcomp,SiIIcomp2])\n",
    "tbl"
   ]
  },
  {
   "cell_type": "markdown",
   "metadata": {},
   "source": [
    "### Stack plot"
   ]
  },
  {
   "cell_type": "markdown",
   "metadata": {},
   "source": [
    "#### Load a spectrum"
   ]
  },
  {
   "cell_type": "code",
   "execution_count": null,
   "metadata": {
    "collapsed": true
   },
   "outputs": [],
   "source": [
    "xspec = lsio.readspec(lt_path+'/spectra/tests/files/UM184_nF.fits')\n",
    "lya.analy['spec'] = xspec\n",
    "lyb.analy['spec'] = xspec"
   ]
  },
  {
   "cell_type": "markdown",
   "metadata": {},
   "source": [
    "#### Show"
   ]
  },
  {
   "cell_type": "code",
   "execution_count": null,
   "metadata": {
    "collapsed": false
   },
   "outputs": [],
   "source": [
    "abscomp = AbsComponent.from_abslines([lya,lyb])\n",
    "abscomp.stack_plot()"
   ]
  },
  {
   "cell_type": "code",
   "execution_count": null,
   "metadata": {
    "collapsed": true
   },
   "outputs": [],
   "source": []
  }
 ],
 "metadata": {
  "kernelspec": {
   "display_name": "Python 2",
   "language": "python",
   "name": "python2"
  },
  "language_info": {
   "codemirror_mode": {
    "name": "ipython",
    "version": 2
   },
   "file_extension": ".py",
   "mimetype": "text/x-python",
   "name": "python",
   "nbconvert_exporter": "python",
   "pygments_lexer": "ipython2",
   "version": "2.7.10"
  }
 },
 "nbformat": 4,
 "nbformat_minor": 0
}
