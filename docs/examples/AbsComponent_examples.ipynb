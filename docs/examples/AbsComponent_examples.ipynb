{
 "cells": [
  {
   "cell_type": "markdown",
   "metadata": {},
   "source": [
    "# Examples for the AbsComponent Class (v1.2)"
   ]
  },
  {
   "cell_type": "code",
   "execution_count": 1,
   "metadata": {},
   "outputs": [],
   "source": [
    "%matplotlib inline\n",
    "\n",
    "# suppress warnings for these examples\n",
    "import warnings\n",
    "warnings.filterwarnings('ignore')"
   ]
  },
  {
   "cell_type": "code",
   "execution_count": 2,
   "metadata": {},
   "outputs": [],
   "source": [
    "# import\n",
    "try:\n",
    "    import seaborn as sns; sns.set_style(\"white\")\n",
    "except:\n",
    "    pass\n",
    "import numpy as np\n",
    "from astropy.table import Table\n",
    "import astropy.units as u\n",
    "from linetools.spectralline import AbsLine\n",
    "from linetools.isgm import utils as ltiu\n",
    "from linetools.analysis import absline as laa\n",
    "from linetools.spectra import io as lsio\n",
    "from linetools.isgm.abscomponent import AbsComponent\n",
    "import linetools.analysis.voigt as lav\n",
    "\n",
    "import imp\n",
    "lt_path = imp.find_module('linetools')[1]"
   ]
  },
  {
   "cell_type": "markdown",
   "metadata": {},
   "source": [
    "## Instantiate"
   ]
  },
  {
   "cell_type": "markdown",
   "metadata": {},
   "source": [
    "### Standard"
   ]
  },
  {
   "cell_type": "code",
   "execution_count": 3,
   "metadata": {},
   "outputs": [
    {
     "data": {
      "text/plain": [
       "<AbsComponent: 00:40:00 +45:00:00, Name=SiII_z1.00000, Zion=(14,2), Ej=0 1 / cm, z=1, vlim=-300 km / s,300 km / s>"
      ]
     },
     "execution_count": 3,
     "metadata": {},
     "output_type": "execute_result"
    }
   ],
   "source": [
    "abscomp = AbsComponent((10.0*u.deg, 45*u.deg), (14,2), 1.0, [-300,300]*u.km/u.s)\n",
    "abscomp"
   ]
  },
  {
   "cell_type": "markdown",
   "metadata": {
    "collapsed": true
   },
   "source": [
    "### From AbsLines"
   ]
  },
  {
   "cell_type": "markdown",
   "metadata": {},
   "source": [
    "#### From one line"
   ]
  },
  {
   "cell_type": "code",
   "execution_count": 4,
   "metadata": {},
   "outputs": [
    {
     "name": "stdout",
     "output_type": "stream",
     "text": [
      "read_sets: Using set file -- \n",
      "  /home/xavier/local/Python/linetools/linetools/lists/sets/llist_v1.2.ascii\n",
      "Loading abundances from Asplund2009\n",
      "Abundances are relative by number on a logarithmic scale with H=12\n"
     ]
    }
   ],
   "source": [
    "lya = AbsLine(1215.670*u.AA, z=2.92939)\n",
    "lya.limits.set([-300.,300.]*u.km/u.s)  # vlim"
   ]
  },
  {
   "cell_type": "code",
   "execution_count": 5,
   "metadata": {},
   "outputs": [
    {
     "name": "stdout",
     "output_type": "stream",
     "text": [
      "<AbsComponent: 00:00:00 +00:00:00, Name=HI_z2.92939, Zion=(1,1), Ej=0 1 / cm, z=2.92939, vlim=-300 km / s,300 km / s>\n"
     ]
    },
    {
     "data": {
      "text/plain": [
       "[<AbsLine: HI 1215, z=2.9294 wrest=1215.6700 Angstrom, f=0.4164>]"
      ]
     },
     "execution_count": 5,
     "metadata": {},
     "output_type": "execute_result"
    }
   ],
   "source": [
    "abscomp = AbsComponent.from_abslines([lya])\n",
    "print(abscomp)\n",
    "abscomp._abslines"
   ]
  },
  {
   "cell_type": "markdown",
   "metadata": {},
   "source": [
    "#### From multiple"
   ]
  },
  {
   "cell_type": "code",
   "execution_count": 6,
   "metadata": {},
   "outputs": [
    {
     "name": "stdout",
     "output_type": "stream",
     "text": [
      "Loading abundances from Asplund2009\n",
      "Abundances are relative by number on a logarithmic scale with H=12\n"
     ]
    }
   ],
   "source": [
    "lyb = AbsLine(1025.7222*u.AA, z=lya.z)\n",
    "lyb.limits.set([-300.,300.]*u.km/u.s)  # vlim"
   ]
  },
  {
   "cell_type": "code",
   "execution_count": 7,
   "metadata": {},
   "outputs": [
    {
     "name": "stdout",
     "output_type": "stream",
     "text": [
      "<AbsComponent: 00:00:00 +00:00:00, Name=HI_z2.92939, Zion=(1,1), Ej=0 1 / cm, z=2.92939, vlim=-300 km / s,300 km / s>\n"
     ]
    },
    {
     "data": {
      "text/plain": [
       "[<AbsLine: HI 1215, z=2.9294 wrest=1215.6700 Angstrom, f=0.4164>,\n",
       " <AbsLine: HI 1025, z=2.9294 wrest=1025.7222 Angstrom, f=0.07914>]"
      ]
     },
     "execution_count": 7,
     "metadata": {},
     "output_type": "execute_result"
    }
   ],
   "source": [
    "abscomp = AbsComponent.from_abslines([lya,lyb])\n",
    "print(abscomp)\n",
    "abscomp._abslines"
   ]
  },
  {
   "cell_type": "markdown",
   "metadata": {},
   "source": [
    "## Define from QTable and make an spectrum model"
   ]
  },
  {
   "cell_type": "code",
   "execution_count": 8,
   "metadata": {},
   "outputs": [
    {
     "name": "stdout",
     "output_type": "stream",
     "text": [
      "read_sets: Using set file -- \n",
      "  /home/xavier/local/Python/linetools/linetools/lists/sets/llist_v1.2.ascii\n",
      "Loading abundances from Asplund2009\n",
      "Abundances are relative by number on a logarithmic scale with H=12\n",
      "Loading abundances from Asplund2009\n",
      "Abundances are relative by number on a logarithmic scale with H=12\n"
     ]
    }
   ],
   "source": [
    "\n",
    "# We first create a Table with the most relevant information for defining AbsComponents\n",
    "tab = Table()\n",
    "tab['ion_name'] = ['HI', 'HI']\n",
    "tab['Z'] = [1,1]\n",
    "tab['ion'] = [1,1]\n",
    "tab['Ej'] = [0.,0.] / u.cm\n",
    "tab['z_comp'] = [0.2, 0.15]  # you should put the right redshifts here\n",
    "tab['logN'] = [19., 19.]  # you should put the right column densities here\n",
    "tab['sig_logN'] = [0.1, 0.1]  # you should put the right column density uncertainties here\n",
    "tab['flag_logN'] = [1, 1] # Flags correspond to linetools notation\n",
    "tab['RA'] = [0, 0]*u.deg  # you should put the right coordinates here\n",
    "tab['DEC'] = [0, 0]*u.deg  # you should put the right coordinates here\n",
    "tab['vmin'] = [-100, -100]*u.km/u.s  # This correspond to the velocity lower limit for the absorption components\n",
    "tab['vmax'] = [100, 100]*u.km/u.s  # This correspond to the velocity upper limit for the absorption components\n",
    "tab['b'] = [20, 20]*u.km/u.s  # you should put the right Dopper parameters here \n",
    "\n",
    "# We now use this table to create a list of AbsComponents\n",
    "complist = ltiu.complist_from_table(tab) \n",
    "\n",
    "# Now we need to add AbsLines to the component that are relevant for your spectrum\n",
    "# This will be done by knowing the observed wavelength limits\n",
    "wvlim = [1150, 1750]*u.AA\n",
    "for comp in complist:\n",
    "    comp.add_abslines_from_linelist(llist='HI') # you can also use llist=\"ISM\" if you have other non HI components\n",
    "\n",
    "# Finally, we can create a model spectrum for each AbsCompontent\n",
    "wv_array = np.arange(1150,1750, 0.01) * u.AA  # This should match your spectrum wavelength array \n",
    "model_1 = lav.voigt_from_components(wv_array, [complist[0]])"
   ]
  },
  {
   "cell_type": "markdown",
   "metadata": {},
   "source": [
    "## Methods"
   ]
  },
  {
   "cell_type": "markdown",
   "metadata": {},
   "source": [
    "### Generate a Component Table of AbsLines"
   ]
  },
  {
   "cell_type": "code",
   "execution_count": 9,
   "metadata": {},
   "outputs": [
    {
     "data": {
      "text/plain": [
       "(<Quantity 141253754462275.53 1 / cm2>, <Quantity 61797269977312.6 1 / cm2>)"
      ]
     },
     "execution_count": 9,
     "metadata": {},
     "output_type": "execute_result"
    }
   ],
   "source": [
    "lya.attrib['logN'] = 14.1\n",
    "lya.attrib['sig_logN'] = 0.15\n",
    "lya.attrib['flag_N'] = 1\n",
    "laa.linear_clm(lya.attrib)\n",
    "lyb.attrib['logN'] = 14.15\n",
    "lyb.attrib['sig_logN'] = 0.19\n",
    "lyb.attrib['flag_N'] = 1\n",
    "laa.linear_clm(lyb.attrib)"
   ]
  },
  {
   "cell_type": "code",
   "execution_count": 10,
   "metadata": {},
   "outputs": [
    {
     "data": {
      "text/html": [
       "&lt;Table length=2&gt;\n",
       "<table id=\"table139800393368688\" class=\"table-striped table-bordered table-condensed\">\n",
       "<thead><tr><th>name</th><th>wrest</th><th>z</th><th>flag_N</th><th>logN</th><th>sig_logN</th></tr></thead>\n",
       "<thead><tr><th></th><th>Angstrom</th><th></th><th></th><th></th><th></th></tr></thead>\n",
       "<thead><tr><th>str7</th><th>float64</th><th>float64</th><th>int64</th><th>float64</th><th>float64</th></tr></thead>\n",
       "<tr><td>HI 1215</td><td>1215.67</td><td>2.92939</td><td>1</td><td>14.1</td><td>0.15</td></tr>\n",
       "<tr><td>HI 1025</td><td>1025.7222</td><td>2.92939</td><td>1</td><td>14.15</td><td>0.19</td></tr>\n",
       "</table>"
      ],
      "text/plain": [
       "<Table length=2>\n",
       "  name    wrest      z    flag_N   logN  sig_logN\n",
       "         Angstrom                                \n",
       "  str7   float64  float64 int64  float64 float64 \n",
       "------- --------- ------- ------ ------- --------\n",
       "HI 1215   1215.67 2.92939      1    14.1     0.15\n",
       "HI 1025 1025.7222 2.92939      1   14.15     0.19"
      ]
     },
     "execution_count": 10,
     "metadata": {},
     "output_type": "execute_result"
    }
   ],
   "source": [
    "abscomp = AbsComponent.from_abslines([lya,lyb])\n",
    "comp_tbl = abscomp.build_table()\n",
    "comp_tbl"
   ]
  },
  {
   "cell_type": "markdown",
   "metadata": {},
   "source": [
    "### Synthesize multiple components"
   ]
  },
  {
   "cell_type": "code",
   "execution_count": 11,
   "metadata": {},
   "outputs": [
    {
     "name": "stdout",
     "output_type": "stream",
     "text": [
      "Transition SiII 1260 not found in LineList HI\n"
     ]
    },
    {
     "ename": "ValueError",
     "evalue": "You may need to set clear_CACHE_LLIST=True",
     "output_type": "error",
     "traceback": [
      "\u001b[0;31m---------------------------------------------------------------------------\u001b[0m",
      "\u001b[0;31mValueError\u001b[0m                                Traceback (most recent call last)",
      "\u001b[0;32m<ipython-input-11-99b576fc92ac>\u001b[0m in \u001b[0;36m<module>\u001b[0;34m()\u001b[0m\n\u001b[1;32m      2\u001b[0m \u001b[0mSiIIlines\u001b[0m \u001b[0;34m=\u001b[0m \u001b[0;34m[\u001b[0m\u001b[0;34m]\u001b[0m\u001b[0;34m\u001b[0m\u001b[0m\n\u001b[1;32m      3\u001b[0m \u001b[0;32mfor\u001b[0m \u001b[0mtrans\u001b[0m \u001b[0;32min\u001b[0m \u001b[0mSiIItrans\u001b[0m\u001b[0;34m:\u001b[0m\u001b[0;34m\u001b[0m\u001b[0m\n\u001b[0;32m----> 4\u001b[0;31m     \u001b[0miline\u001b[0m \u001b[0;34m=\u001b[0m \u001b[0mAbsLine\u001b[0m\u001b[0;34m(\u001b[0m\u001b[0mtrans\u001b[0m\u001b[0;34m,\u001b[0m \u001b[0mz\u001b[0m\u001b[0;34m=\u001b[0m\u001b[0;36m2.92939\u001b[0m\u001b[0;34m,\u001b[0m \u001b[0muse_CACHE\u001b[0m\u001b[0;34m=\u001b[0m\u001b[0;32mTrue\u001b[0m\u001b[0;34m)\u001b[0m\u001b[0;34m\u001b[0m\u001b[0m\n\u001b[0m\u001b[1;32m      5\u001b[0m     \u001b[0miline\u001b[0m\u001b[0;34m.\u001b[0m\u001b[0mattrib\u001b[0m\u001b[0;34m[\u001b[0m\u001b[0;34m'logN'\u001b[0m\u001b[0;34m]\u001b[0m \u001b[0;34m=\u001b[0m \u001b[0;36m12.8\u001b[0m \u001b[0;34m+\u001b[0m \u001b[0mnp\u001b[0m\u001b[0;34m.\u001b[0m\u001b[0mrandom\u001b[0m\u001b[0;34m.\u001b[0m\u001b[0mrand\u001b[0m\u001b[0;34m(\u001b[0m\u001b[0;34m)\u001b[0m\u001b[0;34m\u001b[0m\u001b[0m\n\u001b[1;32m      6\u001b[0m     \u001b[0miline\u001b[0m\u001b[0;34m.\u001b[0m\u001b[0mattrib\u001b[0m\u001b[0;34m[\u001b[0m\u001b[0;34m'sig_logN'\u001b[0m\u001b[0;34m]\u001b[0m \u001b[0;34m=\u001b[0m \u001b[0;36m0.15\u001b[0m\u001b[0;34m\u001b[0m\u001b[0m\n",
      "\u001b[0;32m/home/xavier/local/Python/linetools/linetools/spectralline.py\u001b[0m in \u001b[0;36m__init__\u001b[0;34m(self, trans, **kwargs)\u001b[0m\n\u001b[1;32m    601\u001b[0m         \u001b[0;31m# need to use super here. (See\u001b[0m\u001b[0;34m\u001b[0m\u001b[0;34m\u001b[0m\u001b[0m\n\u001b[1;32m    602\u001b[0m         \u001b[0;31m# http://docs.astropy.org/en/stable/development/codeguide.html#super-vs-direct-example)\u001b[0m\u001b[0;34m\u001b[0m\u001b[0;34m\u001b[0m\u001b[0m\n\u001b[0;32m--> 603\u001b[0;31m         \u001b[0msuper\u001b[0m\u001b[0;34m(\u001b[0m\u001b[0mAbsLine\u001b[0m\u001b[0;34m,\u001b[0m \u001b[0mself\u001b[0m\u001b[0;34m)\u001b[0m\u001b[0;34m.\u001b[0m\u001b[0m__init__\u001b[0m\u001b[0;34m(\u001b[0m\u001b[0;34m'Abs'\u001b[0m\u001b[0;34m,\u001b[0m \u001b[0mtrans\u001b[0m\u001b[0;34m,\u001b[0m \u001b[0;34m**\u001b[0m\u001b[0mkwargs\u001b[0m\u001b[0;34m)\u001b[0m\u001b[0;34m\u001b[0m\u001b[0m\n\u001b[0m\u001b[1;32m    604\u001b[0m \u001b[0;34m\u001b[0m\u001b[0m\n\u001b[1;32m    605\u001b[0m     \u001b[0;34m@\u001b[0m\u001b[0mproperty\u001b[0m\u001b[0;34m\u001b[0m\u001b[0m\n",
      "\u001b[0;32m/home/xavier/local/Python/linetools/linetools/spectralline.py\u001b[0m in \u001b[0;36m__init__\u001b[0;34m(self, ltype, trans, linelist, closest, z, verbose, use_CACHE, **kwargs)\u001b[0m\n\u001b[1;32m    209\u001b[0m         \u001b[0;31m# Fill data\u001b[0m\u001b[0;34m\u001b[0m\u001b[0;34m\u001b[0m\u001b[0m\n\u001b[1;32m    210\u001b[0m         self.fill_data(trans, linelist=linelist, closest=closest, verbose=verbose,\n\u001b[0;32m--> 211\u001b[0;31m                        use_CACHE=use_CACHE)\n\u001b[0m\u001b[1;32m    212\u001b[0m         \u001b[0;31m# Redshift Limits\u001b[0m\u001b[0;34m\u001b[0m\u001b[0;34m\u001b[0m\u001b[0m\n\u001b[1;32m    213\u001b[0m         \u001b[0;32mif\u001b[0m \u001b[0mz\u001b[0m \u001b[0;32mis\u001b[0m \u001b[0;32mNone\u001b[0m\u001b[0;34m:\u001b[0m\u001b[0;34m\u001b[0m\u001b[0m\n",
      "\u001b[0;32m/home/xavier/local/Python/linetools/linetools/spectralline.py\u001b[0m in \u001b[0;36mfill_data\u001b[0;34m(self, trans, linelist, closest, verbose, use_CACHE)\u001b[0m\n\u001b[1;32m    273\u001b[0m         \u001b[0;32mif\u001b[0m \u001b[0mnewline\u001b[0m \u001b[0;32mis\u001b[0m \u001b[0;32mNone\u001b[0m\u001b[0;34m:\u001b[0m\u001b[0;34m\u001b[0m\u001b[0m\n\u001b[1;32m    274\u001b[0m             \u001b[0mprint\u001b[0m\u001b[0;34m(\u001b[0m\u001b[0;34m\"Transition {} not found in LineList {:s}\"\u001b[0m\u001b[0;34m.\u001b[0m\u001b[0mformat\u001b[0m\u001b[0;34m(\u001b[0m\u001b[0mtrans\u001b[0m\u001b[0;34m,\u001b[0m \u001b[0mllist\u001b[0m\u001b[0;34m.\u001b[0m\u001b[0mlist\u001b[0m\u001b[0;34m)\u001b[0m\u001b[0;34m)\u001b[0m\u001b[0;34m\u001b[0m\u001b[0m\n\u001b[0;32m--> 275\u001b[0;31m             \u001b[0;32mraise\u001b[0m \u001b[0mValueError\u001b[0m\u001b[0;34m(\u001b[0m\u001b[0;34m\"You may need to set clear_CACHE_LLIST=True\"\u001b[0m\u001b[0;34m)\u001b[0m\u001b[0;34m\u001b[0m\u001b[0m\n\u001b[0m\u001b[1;32m    276\u001b[0m         \u001b[0;32mtry\u001b[0m\u001b[0;34m:\u001b[0m\u001b[0;34m\u001b[0m\u001b[0m\n\u001b[1;32m    277\u001b[0m             \u001b[0mself\u001b[0m\u001b[0;34m.\u001b[0m\u001b[0mdata\u001b[0m\u001b[0;34m.\u001b[0m\u001b[0mupdate\u001b[0m\u001b[0;34m(\u001b[0m\u001b[0mnewline\u001b[0m\u001b[0;34m)\u001b[0m  \u001b[0;31m# Expected to be a LineList dict object\u001b[0m\u001b[0;34m\u001b[0m\u001b[0m\n",
      "\u001b[0;31mValueError\u001b[0m: You may need to set clear_CACHE_LLIST=True"
     ]
    }
   ],
   "source": [
    "SiIItrans = ['SiII 1260', 'SiII 1304', 'SiII 1526']\n",
    "SiIIlines = []\n",
    "for trans in SiIItrans:\n",
    "    iline = AbsLine(trans, z=2.92939, use_CACHE=True)\n",
    "    iline.attrib['logN'] = 12.8 + np.random.rand()\n",
    "    iline.attrib['sig_logN'] = 0.15\n",
    "    iline.attrib['flag_N'] = 1\n",
    "    iline.limits.set([-300.,50.]*u.km/u.s)  # vlim\n",
    "    _,_ = laa.linear_clm(iline.attrib)\n",
    "    SiIIlines.append(iline)\n",
    "SiIIcomp = AbsComponent.from_abslines(SiIIlines)\n",
    "SiIIcomp.synthesize_colm()"
   ]
  },
  {
   "cell_type": "code",
   "execution_count": null,
   "metadata": {
    "collapsed": true
   },
   "outputs": [],
   "source": [
    "SiIIlines2 = []\n",
    "for trans in SiIItrans:\n",
    "    iline = AbsLine(trans, z=2.92939, use_CACHE=True)\n",
    "    iline.attrib['logN'] = 13.3 + np.random.rand()\n",
    "    iline.attrib['sig_logN'] = 0.15\n",
    "    iline.attrib['flag_N'] = 1\n",
    "    iline.limits.set([50.,300.]*u.km/u.s)  # vlim\n",
    "    _,_ = laa.linear_clm(iline.attrib)\n",
    "    SiIIlines2.append(iline)\n",
    "SiIIcomp2 = AbsComponent.from_abslines(SiIIlines2)\n",
    "SiIIcomp2.synthesize_colm()"
   ]
  },
  {
   "cell_type": "code",
   "execution_count": null,
   "metadata": {},
   "outputs": [],
   "source": [
    "abscomp.synthesize_colm()\n",
    "[abscomp,SiIIcomp,SiIIcomp2]"
   ]
  },
  {
   "cell_type": "code",
   "execution_count": null,
   "metadata": {},
   "outputs": [],
   "source": [
    "synth_SiII = ltiu.synthesize_components([SiIIcomp,SiIIcomp2])\n",
    "synth_SiII"
   ]
  },
  {
   "cell_type": "markdown",
   "metadata": {},
   "source": [
    "### Generate multiple components from abslines"
   ]
  },
  {
   "cell_type": "code",
   "execution_count": null,
   "metadata": {},
   "outputs": [],
   "source": [
    "comps = ltiu.build_components_from_abslines([lya,lyb,SiIIlines[0],SiIIlines[1]])\n",
    "comps"
   ]
  },
  {
   "cell_type": "markdown",
   "metadata": {},
   "source": [
    "### Generate an Ion Table -- Likely to be Deprecated"
   ]
  },
  {
   "cell_type": "code",
   "execution_count": null,
   "metadata": {},
   "outputs": [],
   "source": [
    "tbl = ltiu.iontable_from_components([abscomp,SiIIcomp,SiIIcomp2])\n",
    "tbl"
   ]
  },
  {
   "cell_type": "markdown",
   "metadata": {},
   "source": [
    "### Stack plot"
   ]
  },
  {
   "cell_type": "markdown",
   "metadata": {},
   "source": [
    "#### Load a spectrum"
   ]
  },
  {
   "cell_type": "code",
   "execution_count": null,
   "metadata": {
    "collapsed": true
   },
   "outputs": [],
   "source": [
    "xspec = lsio.readspec(lt_path+'/spectra/tests/files/UM184_nF.fits')\n",
    "lya.analy['spec'] = xspec\n",
    "lyb.analy['spec'] = xspec"
   ]
  },
  {
   "cell_type": "markdown",
   "metadata": {},
   "source": [
    "#### Show"
   ]
  },
  {
   "cell_type": "code",
   "execution_count": null,
   "metadata": {},
   "outputs": [],
   "source": [
    "abscomp = AbsComponent.from_abslines([lya,lyb])\n",
    "abscomp.stack_plot()"
   ]
  },
  {
   "cell_type": "code",
   "execution_count": null,
   "metadata": {
    "collapsed": true
   },
   "outputs": [],
   "source": []
  }
 ],
 "metadata": {
  "kernelspec": {
   "display_name": "Python 3",
   "language": "python",
   "name": "python3"
  },
  "language_info": {
   "codemirror_mode": {
    "name": "ipython",
    "version": 3
   },
   "file_extension": ".py",
   "mimetype": "text/x-python",
   "name": "python",
   "nbconvert_exporter": "python",
   "pygments_lexer": "ipython3",
   "version": "3.6.1"
  }
 },
 "nbformat": 4,
 "nbformat_minor": 1
}
