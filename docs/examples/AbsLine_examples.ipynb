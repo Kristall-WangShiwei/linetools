{
 "cells": [
  {
   "cell_type": "markdown",
   "metadata": {},
   "source": [
    "# Examples for AbsLine class (v1.1)"
   ]
  },
  {
   "cell_type": "code",
   "execution_count": 1,
   "metadata": {
    "collapsed": true
   },
   "outputs": [],
   "source": [
    "# import\n",
    "from linetools.spectralline import AbsLine\n",
    "from linetools.spectra import io as lsio"
   ]
  },
  {
   "cell_type": "markdown",
   "metadata": {},
   "source": [
    "## Generate a line"
   ]
  },
  {
   "cell_type": "code",
   "execution_count": 2,
   "metadata": {
    "collapsed": false
   },
   "outputs": [
    {
     "name": "stderr",
     "output_type": "stream",
     "text": [
      "WARNING: UnitsWarning: The unit 'Angstrom' has been deprecated in the FITS standard. Suggested: nm (with data multiplied by 0.1). [astropy.units.format.utils]\n",
      "WARNING:astropy:UnitsWarning: The unit 'Angstrom' has been deprecated in the FITS standard. Suggested: nm (with data multiplied by 0.1).\n"
     ]
    },
    {
     "name": "stdout",
     "output_type": "stream",
     "text": [
      "linetools.lists.parse: Reading linelist --- \n",
      "   /Users/xavier/local/Python/linetools/linetools/data/lines/morton03_table2.fits.gz\n",
      "linetools.lists.parse: Reading linelist --- \n",
      "   /Users/xavier/local/Python/linetools/linetools/data/lines/morton00_table2.fits.gz\n",
      "linetools.lists.parse: Reading linelist --- \n",
      "   /Users/xavier/local/Python/linetools/linetools/data/lines/verner94_tab6.fits\n"
     ]
    },
    {
     "data": {
      "text/plain": [
       "[AbsLine: CIV 1548, wrest=1548.1950 Angstrom]"
      ]
     },
     "execution_count": 2,
     "metadata": {},
     "output_type": "execute_result"
    }
   ],
   "source": [
    "abslin = AbsLine(1548.195*u.AA)\n",
    "abslin"
   ]
  },
  {
   "cell_type": "markdown",
   "metadata": {},
   "source": [
    "### Data"
   ]
  },
  {
   "cell_type": "code",
   "execution_count": 3,
   "metadata": {
    "collapsed": false
   },
   "outputs": [
    {
     "data": {
      "text/plain": [
       "{'A': <Quantity 0.0 1 / s>,\n",
       " 'Am': 0,\n",
       " 'Ej': <Quantity 0.0 1 / cm>,\n",
       " 'Ek': <Quantity 0.0 1 / cm>,\n",
       " 'Ex': <Quantity 0.0 1 / cm>,\n",
       " 'Jj': 0.0,\n",
       " 'Jk': 0.0,\n",
       " 'Ref': 'Verner1994',\n",
       " 'Z': 6,\n",
       " 'el': 0,\n",
       " 'f': 0.18999999761581421,\n",
       " 'gamma': <Quantity 0.0 1 / s>,\n",
       " 'gj': 2,\n",
       " 'gk': 4,\n",
       " 'group': 1,\n",
       " 'ion': 4,\n",
       " 'mol': '',\n",
       " 'name': 'CIV 1548',\n",
       " 'nj': 0,\n",
       " 'nk': 0,\n",
       " 'wrest': <Quantity 1548.195 Angstrom>}"
      ]
     },
     "execution_count": 3,
     "metadata": {},
     "output_type": "execute_result"
    }
   ],
   "source": [
    "abslin.data"
   ]
  },
  {
   "cell_type": "markdown",
   "metadata": {},
   "source": [
    "## Measure an EW"
   ]
  },
  {
   "cell_type": "code",
   "execution_count": 4,
   "metadata": {
    "collapsed": false
   },
   "outputs": [
    {
     "name": "stderr",
     "output_type": "stream",
     "text": [
      "/Users/xavier/local/Python/linetools/linetools/spectra/io.py:273: UserWarning: WARNING: CDELT1 < 1e-4, Assuming log wavelength scale\n",
      "  warnings.warn('WARNING: CDELT1 < 1e-4, Assuming log wavelength scale')\n"
     ]
    }
   ],
   "source": [
    "# Set spectrum\n",
    "abslin.analy['spec'] = lsio.readspec('../../linetools/spectra/tests/files/UM184_nF.fits')"
   ]
  },
  {
   "cell_type": "code",
   "execution_count": 5,
   "metadata": {
    "collapsed": true
   },
   "outputs": [],
   "source": [
    "# Set analysis range\n",
    "abslin.analy['wvlim'] = [6080.78, 6087.82]*u.AA"
   ]
  },
  {
   "cell_type": "code",
   "execution_count": 6,
   "metadata": {
    "collapsed": false
   },
   "outputs": [
    {
     "name": "stdout",
     "output_type": "stream",
     "text": [
      "EW = 0.990466 Angstrom with error 0.053301 Angstrom\n"
     ]
    }
   ],
   "source": [
    "# Measure\n",
    "abslin.measure_ew() # Observer frame\n",
    "print('EW = {:g} with error {:g}'.format(abslin.attrib['EW'],abslin.attrib['sigEW']))"
   ]
  },
  {
   "cell_type": "markdown",
   "metadata": {},
   "source": [
    "## Measure AODM"
   ]
  },
  {
   "cell_type": "code",
   "execution_count": 7,
   "metadata": {
    "collapsed": true
   },
   "outputs": [],
   "source": [
    "abslin.analy['wvlim'] = [0.,0.]*u.AA # Zero out for test\n",
    "#\n",
    "abslin.analy['spec'] = lsio.readspec('../../linetools/spectra/tests/files/UM184_nF.fits')\n",
    "abslin.analy['vlim'] = (-150., 150.)*u.km/u.s\n",
    "abslin.attrib['z'] = 2.92929"
   ]
  },
  {
   "cell_type": "code",
   "execution_count": 9,
   "metadata": {
    "collapsed": false
   },
   "outputs": [
    {
     "name": "stdout",
     "output_type": "stream",
     "text": [
      "logN = 13.9037, siglogN = 0.0211602\n"
     ]
    }
   ],
   "source": [
    "abslin.measure_aodm()\n",
    "N, sigN, flgN = [abslin.attrib[key] for key in ['N','sigN','flagN']] \n",
    "print('logN = {:g}, siglogN = {:g}'.format(abslin.attrib['logN'], abslin.attrib['sig_logN']))"
   ]
  }
 ],
 "metadata": {
  "kernelspec": {
   "display_name": "Python 2",
   "language": "python",
   "name": "python2"
  },
  "language_info": {
   "codemirror_mode": {
    "name": "ipython",
    "version": 2
   },
   "file_extension": ".py",
   "mimetype": "text/x-python",
   "name": "python",
   "nbconvert_exporter": "python",
   "pygments_lexer": "ipython2",
   "version": "2.7.9"
  }
 },
 "nbformat": 4,
 "nbformat_minor": 0
}
