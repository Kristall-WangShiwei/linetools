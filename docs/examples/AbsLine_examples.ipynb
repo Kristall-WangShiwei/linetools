{
 "cells": [
  {
   "cell_type": "markdown",
   "metadata": {},
   "source": [
    "# Examples for AbsLine class (v1.2)"
   ]
  },
  {
   "cell_type": "code",
   "execution_count": 4,
   "metadata": {
    "collapsed": false
   },
   "outputs": [],
   "source": [
    "# suppress warnings for these examples\n",
    "import warnings\n",
    "warnings.filterwarnings('ignore')\n",
    "\n",
    "# import\n",
    "import astropy.units as u\n",
    "from linetools.spectralline import AbsLine, SpectralLine\n",
    "from linetools import spectralline as ltsp\n",
    "from linetools.spectra.xspectrum1d import XSpectrum1D"
   ]
  },
  {
   "cell_type": "markdown",
   "metadata": {},
   "source": [
    "## Generate a line"
   ]
  },
  {
   "cell_type": "code",
   "execution_count": 5,
   "metadata": {
    "collapsed": false
   },
   "outputs": [
    {
     "name": "stdout",
     "output_type": "stream",
     "text": [
      "linetools.lists.parse: Reading linelist --- \n",
      "   /Users/ncrighton/Code/Repo/linetools/build/lib.macosx-10.5-x86_64-3.4/linetools/data/lines/morton03_table2.fits.gz\n",
      "linetools.lists.parse: Reading linelist --- \n",
      "   /Users/ncrighton/Code/Repo/linetools/build/lib.macosx-10.5-x86_64-3.4/linetools/data/lines/morton00_table2.fits.gz\n",
      "linetools.lists.parse: Reading linelist --- \n",
      "   /Users/ncrighton/Code/Repo/linetools/build/lib.macosx-10.5-x86_64-3.4/linetools/data/lines/verner96_tab1.fits.gz\n",
      "linetools.lists.parse: Reading linelist --- \n",
      "   /Users/ncrighton/Code/Repo/linetools/build/lib.macosx-10.5-x86_64-3.4/linetools/data/lines/verner94_tab6.fits\n",
      "linetools.lists.parse: Reading linelist --- \n",
      "   /Users/ncrighton/Code/Repo/linetools/build/lib.macosx-10.5-x86_64-3.4/linetools/data/lines/EUV_lines.ascii\n",
      "read_sets: Using set file -- \n",
      "  /Users/ncrighton/Code/Repo/linetools/build/lib.macosx-10.5-x86_64-3.4/linetools/lists/sets/llist_v1.0.ascii\n"
     ]
    },
    {
     "data": {
      "text/plain": [
       "<AbsLine: CIV 1548, wrest=1548.1950 Angstrom>"
      ]
     },
     "execution_count": 5,
     "metadata": {},
     "output_type": "execute_result"
    }
   ],
   "source": [
    "abslin = AbsLine(1548.195*u.AA)\n",
    "abslin"
   ]
  },
  {
   "cell_type": "markdown",
   "metadata": {},
   "source": [
    "### Data"
   ]
  },
  {
   "cell_type": "code",
   "execution_count": 6,
   "metadata": {
    "collapsed": false
   },
   "outputs": [
    {
     "data": {
      "text/plain": [
       "{'A': <Quantity 0.0 1 / s>,\n",
       " 'Am': 0,\n",
       " 'Ej': <Quantity 0.0 1 / cm>,\n",
       " 'Ek': <Quantity 0.0 1 / cm>,\n",
       " 'Ex': <Quantity 0.0 1 / cm>,\n",
       " 'Jj': 0.0,\n",
       " 'Jk': 0.0,\n",
       " 'Ref': 'Verner1994',\n",
       " 'Z': 6,\n",
       " 'col0': masked,\n",
       " 'col7': masked,\n",
       " 'el': 0,\n",
       " 'f': 0.18999999761581421,\n",
       " 'gamma': <Quantity 0.0 1 / s>,\n",
       " 'gj': 2,\n",
       " 'gk': 4,\n",
       " 'group': 1,\n",
       " 'ion': 4,\n",
       " 'mol': '',\n",
       " 'name': 'CIV 1548',\n",
       " 'nj': 0,\n",
       " 'nk': 0,\n",
       " 'wrest': <Quantity 1548.195 Angstrom>}"
      ]
     },
     "execution_count": 6,
     "metadata": {},
     "output_type": "execute_result"
    }
   ],
   "source": [
    "abslin.data"
   ]
  },
  {
   "cell_type": "markdown",
   "metadata": {},
   "source": [
    "### As dict"
   ]
  },
  {
   "cell_type": "code",
   "execution_count": 7,
   "metadata": {
    "collapsed": false
   },
   "outputs": [
    {
     "data": {
      "text/plain": [
       "{'analy': {'datafile': '',\n",
       "  'do_analysis': 1,\n",
       "  'flag_kin': 0,\n",
       "  'flg_eye': 0,\n",
       "  'flg_limit': 0,\n",
       "  'name': 'CIV 1548',\n",
       "  'vlim': {'unit': 'km / s', 'value': [0.0, 0.0]},\n",
       "  'wvlim': {'unit': 'Angstrom', 'value': [0.0, 0.0]}},\n",
       " 'attrib': {'DEC': 0.0,\n",
       "  'EW': {'unit': 'Angstrom', 'value': 0.0},\n",
       "  'N': {'unit': '1 / cm2', 'value': 0.0},\n",
       "  'RA': 0.0,\n",
       "  'b': {'unit': 'km / s', 'value': 0.0},\n",
       "  'flag_EW': 0,\n",
       "  'flag_N': 0,\n",
       "  'sig_EW': {'unit': 'Angstrom', 'value': 0.0},\n",
       "  'sig_N': {'unit': '1 / cm2', 'value': 0.0},\n",
       "  'sig_b': {'unit': 'km / s', 'value': 0.0},\n",
       "  'sig_v': {'unit': 'km / s', 'value': 0.0},\n",
       "  'sig_z': 0.0,\n",
       "  'v': {'unit': 'km / s', 'value': 0.0},\n",
       "  'z': 0.0},\n",
       " 'data': {'A': {'unit': '1 / s', 'value': 0.0},\n",
       "  'Am': 0,\n",
       "  'Ej': {'unit': '1 / cm', 'value': 0.0},\n",
       "  'Ek': {'unit': '1 / cm', 'value': 0.0},\n",
       "  'Ex': {'unit': '1 / cm', 'value': 0.0},\n",
       "  'Jj': 0.0,\n",
       "  'Jk': 0.0,\n",
       "  'Ref': 'Verner1994',\n",
       "  'Z': 6,\n",
       "  'el': 0,\n",
       "  'f': 0.18999999761581421,\n",
       "  'gamma': {'unit': '1 / s', 'value': 0.0},\n",
       "  'gj': 2,\n",
       "  'gk': 4,\n",
       "  'group': 1,\n",
       "  'ion': 4,\n",
       "  'mol': '',\n",
       "  'name': 'CIV 1548',\n",
       "  'nj': 0,\n",
       "  'nk': 0,\n",
       "  'wrest': {'unit': 'Angstrom', 'value': 1548.195}},\n",
       " 'ltype': 'Abs',\n",
       " 'name': 'CIV 1548',\n",
       " 'wrest': {'unit': 'Angstrom', 'value': 1548.195}}"
      ]
     },
     "execution_count": 7,
     "metadata": {},
     "output_type": "execute_result"
    }
   ],
   "source": [
    "abslin = AbsLine(1548.195*u.AA)\n",
    "tmp = abslin.to_dict()\n",
    "tmp"
   ]
  },
  {
   "cell_type": "markdown",
   "metadata": {},
   "source": [
    "### From dict"
   ]
  },
  {
   "cell_type": "code",
   "execution_count": 8,
   "metadata": {
    "collapsed": false
   },
   "outputs": [
    {
     "data": {
      "text/plain": [
       "<AbsLine: CIV 1548, wrest=1548.1950 Angstrom>"
      ]
     },
     "execution_count": 8,
     "metadata": {},
     "output_type": "execute_result"
    }
   ],
   "source": [
    "tmp2 = SpectralLine.from_dict(tmp)\n",
    "tmp2"
   ]
  },
  {
   "cell_type": "markdown",
   "metadata": {},
   "source": [
    "## Measure an EW"
   ]
  },
  {
   "cell_type": "code",
   "execution_count": 11,
   "metadata": {
    "collapsed": false
   },
   "outputs": [],
   "source": [
    "# Set spectrum\n",
    "abslin.analy['spec'] = XSpectrum1D.from_file('../../linetools/spectra/tests/files/UM184_nF.fits')"
   ]
  },
  {
   "cell_type": "code",
   "execution_count": 12,
   "metadata": {
    "collapsed": true
   },
   "outputs": [],
   "source": [
    "# Set analysis range\n",
    "abslin.analy['wvlim'] = [6080.78, 6087.82]*u.AA"
   ]
  },
  {
   "cell_type": "code",
   "execution_count": 13,
   "metadata": {
    "collapsed": false
   },
   "outputs": [
    {
     "name": "stdout",
     "output_type": "stream",
     "text": [
      "EW = 0.993502 Angstrom with error 0.0527114 Angstrom\n"
     ]
    }
   ],
   "source": [
    "# Measure\n",
    "abslin.measure_ew() # Observer frame\n",
    "print('EW = {:g} with error {:g}'.format(abslin.attrib['EW'],abslin.attrib['sig_EW']))"
   ]
  },
  {
   "cell_type": "markdown",
   "metadata": {},
   "source": [
    "## Measure AODM"
   ]
  },
  {
   "cell_type": "code",
   "execution_count": 14,
   "metadata": {
    "collapsed": true
   },
   "outputs": [],
   "source": [
    "abslin.analy['wvlim'] = [0.,0.]*u.AA # Zero out for test\n",
    "#\n",
    "abslin.analy['spec'] = lsio.readspec('../../linetools/spectra/tests/files/UM184_nF.fits')\n",
    "abslin.analy['vlim'] = (-150., 150.)*u.km/u.s\n",
    "abslin.attrib['z'] = 2.92929"
   ]
  },
  {
   "cell_type": "code",
   "execution_count": 15,
   "metadata": {
    "collapsed": false
   },
   "outputs": [
    {
     "name": "stdout",
     "output_type": "stream",
     "text": [
      "logN = 13.9051, siglogN = 0.0207026\n"
     ]
    }
   ],
   "source": [
    "abslin.measure_aodm()\n",
    "N, sigN, flgN = [abslin.attrib[key] for key in ['N','sig_N','flag_N']] \n",
    "print('logN = {:g}, siglogN = {:g}'.format(abslin.attrib['logN'], abslin.attrib['sig_logN']))"
   ]
  },
  {
   "cell_type": "code",
   "execution_count": null,
   "metadata": {
    "collapsed": true
   },
   "outputs": [],
   "source": []
  }
 ],
 "metadata": {
  "kernelspec": {
   "display_name": "Python 3",
   "language": "python",
   "name": "python3"
  },
  "language_info": {
   "codemirror_mode": {
    "name": "ipython",
    "version": 3
   },
   "file_extension": ".py",
   "mimetype": "text/x-python",
   "name": "python",
   "nbconvert_exporter": "python",
   "pygments_lexer": "ipython3",
   "version": "3.4.4"
  }
 },
 "nbformat": 4,
 "nbformat_minor": 0
}
