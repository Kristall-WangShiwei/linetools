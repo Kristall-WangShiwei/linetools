{
 "cells": [
  {
   "cell_type": "markdown",
   "metadata": {},
   "source": [
    "# Examples with EmSystem"
   ]
  },
  {
   "cell_type": "code",
   "execution_count": 1,
   "metadata": {
    "collapsed": false
   },
   "outputs": [],
   "source": [
    "# imports\n",
    "from linetools.isgm import emsystem as liems\n",
    "from linetools import io as lio\n",
    "from linetools.analysis import emline as lta_eml\n",
    "import linetools"
   ]
  },
  {
   "cell_type": "markdown",
   "metadata": {},
   "source": [
    "## With ALIS"
   ]
  },
  {
   "cell_type": "code",
   "execution_count": 15,
   "metadata": {
    "collapsed": false
   },
   "outputs": [],
   "source": [
    "alisb_file = linetools.__path__[0]+'/isgm/tests/files/spec1d_J0018p2345_KASTb_coadd.mod.out'\n",
    "alisr_file = linetools.__path__[0]+'/isgm/tests/files/spec1d_J0018p2345_KASTr_coadd.mod.out'"
   ]
  },
  {
   "cell_type": "code",
   "execution_count": 14,
   "metadata": {
    "collapsed": false
   },
   "outputs": [
    {
     "data": {
      "text/plain": [
       "<EmSystem: name=J001859.32+234540.32_z0.015 type=NONE, 00:18:59.32 +23:45:40.32, z=0.0154042>"
      ]
     },
     "execution_count": 14,
     "metadata": {},
     "output_type": "execute_result"
    }
   ],
   "source": [
    "reload(liems)\n",
    "emsys = liems.EmSystem.from_alis(alisb_file, 'J001859.32+234540.32')\n",
    "emsys"
   ]
  },
  {
   "cell_type": "code",
   "execution_count": 11,
   "metadata": {
    "collapsed": false
   },
   "outputs": [
    {
     "data": {
      "text/plain": [
       "0.01540425"
      ]
     },
     "execution_count": 11,
     "metadata": {},
     "output_type": "execute_result"
    }
   ],
   "source": [
    "emsys.zem"
   ]
  },
  {
   "cell_type": "code",
   "execution_count": 4,
   "metadata": {
    "collapsed": false
   },
   "outputs": [
    {
     "data": {
      "text/plain": [
       "[<EmLine: Hbeta, z=0.0154 wrest=4862.68 Angstrom>,\n",
       " <EmLine: Hgamma, z=0.0154 wrest=4341.68 Angstrom>,\n",
       " <EmLine: Hdelta, z=0.0154 wrest=4102.89 Angstrom>,\n",
       " <EmLine: Hepsilon, z=0.0154 wrest=3971.2 Angstrom>,\n",
       " <EmLine: [OII] 3726, z=0.0154 wrest=3727.09 Angstrom>,\n",
       " <EmLine: [OII] 3729, z=0.0154 wrest=3729.87 Angstrom>,\n",
       " <EmLine: [OIII] 4959, z=0.0154 wrest=4960.3 Angstrom>,\n",
       " <EmLine: [OIII] 5007, z=0.0154 wrest=5008.24 Angstrom>]"
      ]
     },
     "execution_count": 4,
     "metadata": {},
     "output_type": "execute_result"
    }
   ],
   "source": [
    "emsys._emlines"
   ]
  },
  {
   "cell_type": "code",
   "execution_count": 5,
   "metadata": {
    "collapsed": false
   },
   "outputs": [
    {
     "data": {
      "text/plain": [
       "{u'EW': <Quantity 0.0 Angstrom>,\n",
       " u'coord': <SkyCoord (FK5: equinox=J2000.000): (ra, dec) in deg\n",
       "     ( 4.74716667,  23.7612)>,\n",
       " u'flag_EW': 0,\n",
       " u'flag_flux': 0,\n",
       " u'flux': <Quantity 7857.49594 erg / s>,\n",
       " u'sig_EW': <Quantity 0.0 Angstrom>,\n",
       " u'sig_flux': <Quantity 107.20307 erg / s>}"
      ]
     },
     "execution_count": 5,
     "metadata": {},
     "output_type": "execute_result"
    }
   ],
   "source": [
    "emsys._emlines[0].attrib"
   ]
  },
  {
   "cell_type": "markdown",
   "metadata": {},
   "source": [
    "### More lines"
   ]
  },
  {
   "cell_type": "code",
   "execution_count": 16,
   "metadata": {
    "collapsed": false
   },
   "outputs": [
    {
     "data": {
      "text/plain": [
       "[<EmLine: Hbeta, z=0.0154 wrest=4862.68 Angstrom>,\n",
       " <EmLine: Hgamma, z=0.0154 wrest=4341.68 Angstrom>,\n",
       " <EmLine: Hdelta, z=0.0154 wrest=4102.89 Angstrom>,\n",
       " <EmLine: Hepsilon, z=0.0154 wrest=3971.2 Angstrom>,\n",
       " <EmLine: [OII] 3726, z=0.0154 wrest=3727.09 Angstrom>,\n",
       " <EmLine: [OII] 3729, z=0.0154 wrest=3729.87 Angstrom>,\n",
       " <EmLine: [OIII] 4959, z=0.0154 wrest=4960.3 Angstrom>,\n",
       " <EmLine: [OIII] 5007, z=0.0154 wrest=5008.24 Angstrom>,\n",
       " <EmLine: Halpha, z=0.0154 wrest=6564.61 Angstrom>,\n",
       " <EmLine: [NII] 6548, z=0.0154 wrest=6549.85 Angstrom>,\n",
       " <EmLine: [NII] 6584, z=0.0154 wrest=6585.28 Angstrom>,\n",
       " <EmLine: [SII] 6716, z=0.0154 wrest=6718.29 Angstrom>,\n",
       " <EmLine: [SII] 6731, z=0.0154 wrest=6732.67 Angstrom>]"
      ]
     },
     "execution_count": 16,
     "metadata": {},
     "output_type": "execute_result"
    }
   ],
   "source": [
    "emsys.add_emlines_from_alis(alisr_file, chk_z=False)\n",
    "emsys._emlines"
   ]
  },
  {
   "cell_type": "markdown",
   "metadata": {},
   "source": [
    "## Utilities"
   ]
  },
  {
   "cell_type": "code",
   "execution_count": 6,
   "metadata": {
    "collapsed": false
   },
   "outputs": [
    {
     "name": "stderr",
     "output_type": "stream",
     "text": [
      "/Users/xavier/local/Python/linetools/linetools/isgm/emsystem.py:304: VisibleDeprecationWarning: converting an array with ndim > 0 to an index will result in an error in the future\n",
      "  return self._emlines[mt]\n"
     ]
    },
    {
     "data": {
      "text/plain": [
       "<EmLine: Hbeta, z=0.0154 wrest=4862.68 Angstrom>"
      ]
     },
     "execution_count": 6,
     "metadata": {},
     "output_type": "execute_result"
    }
   ],
   "source": [
    "Hbeta = emsys.get_emline('Hbeta')\n",
    "Hbeta"
   ]
  },
  {
   "cell_type": "markdown",
   "metadata": {},
   "source": [
    "## Metallicity"
   ]
  },
  {
   "cell_type": "code",
   "execution_count": 19,
   "metadata": {
    "collapsed": false
   },
   "outputs": [
    {
     "data": {
      "text/plain": [
       "(7.160611600976936, 7.159297218972787)"
      ]
     },
     "execution_count": 19,
     "metadata": {},
     "output_type": "execute_result"
    }
   ],
   "source": [
    "reload(lta_eml)\n",
    "r_val, s_val = lta_eml.metallicity('PG16', emsys)\n",
    "r_val, s_val"
   ]
  },
  {
   "cell_type": "code",
   "execution_count": null,
   "metadata": {
    "collapsed": true
   },
   "outputs": [],
   "source": []
  }
 ],
 "metadata": {
  "kernelspec": {
   "display_name": "Python 2",
   "language": "python",
   "name": "python2"
  },
  "language_info": {
   "codemirror_mode": {
    "name": "ipython",
    "version": 2
   },
   "file_extension": ".py",
   "mimetype": "text/x-python",
   "name": "python",
   "nbconvert_exporter": "python",
   "pygments_lexer": "ipython2",
   "version": "2.7.11"
  }
 },
 "nbformat": 4,
 "nbformat_minor": 0
}
