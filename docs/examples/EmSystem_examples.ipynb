{
 "cells": [
  {
   "cell_type": "markdown",
   "metadata": {},
   "source": [
    "# Examples with EmSystem"
   ]
  },
  {
   "cell_type": "code",
   "execution_count": 1,
   "metadata": {
    "collapsed": false
   },
   "outputs": [],
   "source": [
    "# imports\n",
    "from linetools.isgm import emsystem as liems\n",
    "from linetools import io as lio\n",
    "import linetools"
   ]
  },
  {
   "cell_type": "markdown",
   "metadata": {},
   "source": [
    "## With ALIS"
   ]
  },
  {
   "cell_type": "code",
   "execution_count": 2,
   "metadata": {
    "collapsed": false
   },
   "outputs": [],
   "source": [
    "alis_file = linetools.__path__[0]+'/tests/files/spec1d_J0018p2345_KASTb_coadd.mod.out'"
   ]
  },
  {
   "cell_type": "code",
   "execution_count": 20,
   "metadata": {
    "collapsed": false
   },
   "outputs": [
    {
     "ename": "TypeError",
     "evalue": "string indices must be integers, not unicode",
     "output_type": "error",
     "traceback": [
      "\u001b[0;31m---------------------------------------------------------------------------\u001b[0m",
      "\u001b[0;31mTypeError\u001b[0m                                 Traceback (most recent call last)",
      "\u001b[0;32m<ipython-input-20-9ff3fda430b8>\u001b[0m in \u001b[0;36m<module>\u001b[0;34m()\u001b[0m\n\u001b[1;32m      1\u001b[0m \u001b[0mreload\u001b[0m\u001b[0;34m(\u001b[0m\u001b[0mliems\u001b[0m\u001b[0;34m)\u001b[0m\u001b[0;34m\u001b[0m\u001b[0m\n\u001b[0;32m----> 2\u001b[0;31m \u001b[0memsys\u001b[0m \u001b[0;34m=\u001b[0m \u001b[0mliems\u001b[0m\u001b[0;34m.\u001b[0m\u001b[0mEmSystem\u001b[0m\u001b[0;34m.\u001b[0m\u001b[0mfrom_alis\u001b[0m\u001b[0;34m(\u001b[0m\u001b[0malis_file\u001b[0m\u001b[0;34m,\u001b[0m \u001b[0;34m'J001859.32+234540.32'\u001b[0m\u001b[0;34m)\u001b[0m\u001b[0;34m\u001b[0m\u001b[0m\n\u001b[0m\u001b[1;32m      3\u001b[0m \u001b[0memsys\u001b[0m\u001b[0;34m\u001b[0m\u001b[0m\n",
      "\u001b[0;32m/Users/xavier/local/Python/linetools/linetools/isgm/emsystem.pyc\u001b[0m in \u001b[0;36mfrom_alis\u001b[0;34m(cls, alis_file, radec, **kwargs)\u001b[0m\n\u001b[1;32m    112\u001b[0m         \"\"\"\n\u001b[1;32m    113\u001b[0m         \u001b[0mreload\u001b[0m\u001b[0;34m(\u001b[0m\u001b[0mlio\u001b[0m\u001b[0;34m)\u001b[0m\u001b[0;34m\u001b[0m\u001b[0m\n\u001b[0;32m--> 114\u001b[0;31m         \u001b[0memlines\u001b[0m \u001b[0;34m=\u001b[0m \u001b[0mlio\u001b[0m\u001b[0;34m.\u001b[0m\u001b[0memlines_from_alis_output\u001b[0m\u001b[0;34m(\u001b[0m\u001b[0malis_file\u001b[0m\u001b[0;34m)\u001b[0m\u001b[0;34m\u001b[0m\u001b[0m\n\u001b[0m\u001b[1;32m    115\u001b[0m         \u001b[0;31m# Add coordinates\u001b[0m\u001b[0;34m\u001b[0m\u001b[0;34m\u001b[0m\u001b[0m\n\u001b[1;32m    116\u001b[0m         \u001b[0mcoord\u001b[0m \u001b[0;34m=\u001b[0m \u001b[0mltu\u001b[0m\u001b[0;34m.\u001b[0m\u001b[0mradec_to_coord\u001b[0m\u001b[0;34m(\u001b[0m\u001b[0mradec\u001b[0m\u001b[0;34m)\u001b[0m\u001b[0;34m\u001b[0m\u001b[0m\n",
      "\u001b[0;32m/Users/xavier/local/Python/linetools/linetools/io.py\u001b[0m in \u001b[0;36memlines_from_alis_output\u001b[0;34m(alis_file)\u001b[0m\n\u001b[1;32m    110\u001b[0m                         \u001b[0mline_dict\u001b[0m\u001b[0;34m[\u001b[0m\u001b[0;34m'lines'\u001b[0m\u001b[0;34m]\u001b[0m\u001b[0;34m.\u001b[0m\u001b[0mappend\u001b[0m\u001b[0;34m(\u001b[0m\u001b[0mgauss_fit\u001b[0m\u001b[0;34m)\u001b[0m\u001b[0;34m\u001b[0m\u001b[0m\n\u001b[1;32m    111\u001b[0m                     \u001b[0;32melse\u001b[0m\u001b[0;34m:\u001b[0m\u001b[0;34m\u001b[0m\u001b[0m\n\u001b[0;32m--> 112\u001b[0;31m                         \u001b[0mwaves\u001b[0m \u001b[0;34m=\u001b[0m \u001b[0;34m[\u001b[0m\u001b[0midict\u001b[0m\u001b[0;34m[\u001b[0m\u001b[0;34m'wrest'\u001b[0m\u001b[0;34m]\u001b[0m \u001b[0;32mfor\u001b[0m \u001b[0midict\u001b[0m \u001b[0;32min\u001b[0m \u001b[0mline_dict\u001b[0m\u001b[0;34m]\u001b[0m\u001b[0;34m\u001b[0m\u001b[0m\n\u001b[0m\u001b[1;32m    113\u001b[0m                         \u001b[0mmt\u001b[0m \u001b[0;34m=\u001b[0m \u001b[0mnp\u001b[0m\u001b[0;34m.\u001b[0m\u001b[0mwhere\u001b[0m\u001b[0;34m(\u001b[0m\u001b[0mnp\u001b[0m\u001b[0;34m.\u001b[0m\u001b[0mabs\u001b[0m\u001b[0;34m(\u001b[0m\u001b[0mwaves\u001b[0m\u001b[0;34m-\u001b[0m\u001b[0mwrest\u001b[0m\u001b[0;34m*\u001b[0m\u001b[0mu\u001b[0m\u001b[0;34m.\u001b[0m\u001b[0mAA\u001b[0m\u001b[0;34m)\u001b[0m \u001b[0;34m<\u001b[0m \u001b[0;36m1e-3\u001b[0m\u001b[0;34m)\u001b[0m\u001b[0;34m[\u001b[0m\u001b[0;36m0\u001b[0m\u001b[0;34m]\u001b[0m\u001b[0;34m\u001b[0m\u001b[0m\n\u001b[1;32m    114\u001b[0m                         \u001b[0;32mif\u001b[0m \u001b[0mlen\u001b[0m\u001b[0;34m(\u001b[0m\u001b[0mmt\u001b[0m\u001b[0;34m)\u001b[0m \u001b[0;34m!=\u001b[0m \u001b[0;36m1\u001b[0m\u001b[0;34m:\u001b[0m\u001b[0;34m\u001b[0m\u001b[0m\n",
      "\u001b[0;31mTypeError\u001b[0m: string indices must be integers, not unicode"
     ]
    }
   ],
   "source": [
    "reload(liems)\n",
    "emsys = liems.EmSystem.from_alis(alis_file, 'J001859.32+234540.32')\n",
    "emsys"
   ]
  },
  {
   "cell_type": "code",
   "execution_count": 4,
   "metadata": {
    "collapsed": false
   },
   "outputs": [
    {
     "data": {
      "text/plain": [
       "[<EmLine: Hbeta, z=0.0154 wrest=4862.68 Angstrom>,\n",
       " <EmLine: Hgamma, z=0.0154 wrest=4341.68 Angstrom>,\n",
       " <EmLine: Hdelta, z=0.0154 wrest=4102.89 Angstrom>,\n",
       " <EmLine: Hepsilon, z=0.0154 wrest=3971.2 Angstrom>,\n",
       " <EmLine: [OII] 3726, z=0.0154 wrest=3727.09 Angstrom>,\n",
       " <EmLine: [OII] 3729, z=0.0154 wrest=3729.87 Angstrom>,\n",
       " <EmLine: [OIII] 4959, z=0.0154 wrest=4960.3 Angstrom>,\n",
       " <EmLine: [OIII] 5007, z=0.0154 wrest=5008.24 Angstrom>]"
      ]
     },
     "execution_count": 4,
     "metadata": {},
     "output_type": "execute_result"
    }
   ],
   "source": [
    "emsys._emlines"
   ]
  },
  {
   "cell_type": "code",
   "execution_count": 7,
   "metadata": {
    "collapsed": false
   },
   "outputs": [
    {
     "data": {
      "text/plain": [
       "{u'EW': <Quantity 0.0 Angstrom>,\n",
       " u'coord': <SkyCoord (FK5: equinox=J2000.000): (ra, dec) in deg\n",
       "     ( 4.74716667,  23.7612)>,\n",
       " u'flag_EW': 0,\n",
       " u'flag_flux': 0,\n",
       " u'flux': <Quantity 7857.49594 erg / s>,\n",
       " u'sig_EW': <Quantity 0.0 Angstrom>,\n",
       " u'sig_flux': <Quantity 0.0 erg / s>}"
      ]
     },
     "execution_count": 7,
     "metadata": {},
     "output_type": "execute_result"
    }
   ],
   "source": [
    "emsys._emlines[0].attrib"
   ]
  },
  {
   "cell_type": "code",
   "execution_count": null,
   "metadata": {
    "collapsed": true
   },
   "outputs": [],
   "source": []
  }
 ],
 "metadata": {
  "kernelspec": {
   "display_name": "Python 2",
   "language": "python",
   "name": "python2"
  },
  "language_info": {
   "codemirror_mode": {
    "name": "ipython",
    "version": 2
   },
   "file_extension": ".py",
   "mimetype": "text/x-python",
   "name": "python",
   "nbconvert_exporter": "python",
   "pygments_lexer": "ipython2",
   "version": "2.7.11"
  }
 },
 "nbformat": 4,
 "nbformat_minor": 0
}
