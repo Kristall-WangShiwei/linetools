{
 "cells": [
  {
   "cell_type": "markdown",
   "metadata": {},
   "source": [
    "# Examples with EmSystem"
   ]
  },
  {
   "cell_type": "code",
   "execution_count": 1,
   "metadata": {
    "collapsed": false
   },
   "outputs": [],
   "source": [
    "# imports\n",
    "from linetools.isgm import emsystem as liems\n",
    "from linetools import io as lio\n",
    "import linetools"
   ]
  },
  {
   "cell_type": "markdown",
   "metadata": {},
   "source": [
    "## With ALIS"
   ]
  },
  {
   "cell_type": "code",
   "execution_count": 2,
   "metadata": {
    "collapsed": false
   },
   "outputs": [],
   "source": [
    "alis_file = linetools.__path__[0]+'/tests/files/spec1d_J0018p2345_KASTb_coadd.mod.out'"
   ]
  },
  {
   "cell_type": "code",
   "execution_count": 3,
   "metadata": {
    "collapsed": false
   },
   "outputs": [
    {
     "name": "stdout",
     "output_type": "stream",
     "text": [
      "linetools.lists.parse: Reading linelist --- \n",
      "   /Users/xavier/local/Python/linetools/linetools/data/lines/galaxy_forbidden.ascii\n",
      "linetools.lists.parse: Reading linelist --- \n",
      "   /Users/xavier/local/Python/linetools/linetools/data/lines/galaxy_recomb.ascii\n",
      "linetools.lists.parse: Reading linelist --- \n",
      "   /Users/xavier/local/Python/linetools/linetools/data/lines/galaxy_abs.ascii\n",
      "read_sets: Using set file -- \n",
      "  /Users/xavier/local/Python/linetools/linetools/lists/sets/llist_v1.0.ascii\n"
     ]
    },
    {
     "name": "stderr",
     "output_type": "stream",
     "text": [
      "/Users/xavier/anaconda/lib/python2.7/site-packages/astropy/table/column.py:1095: MaskedArrayFutureWarning: setting an item on a masked array which has a shared mask will not copy the mask and also change the original mask array in the future.\n",
      "Check the NumPy 1.11 release notes for more information.\n",
      "  ma.MaskedArray.__setitem__(self, index, value)\n",
      "/Users/xavier/local/Python/linetools/linetools/lists/linelist.py:374: UserWarning: Not implemented: will not set relative strength for LineList: Galaxy.\n",
      "  warnings.warn('Not implemented: will not set relative strength for LineList: {}.'.format(self.list))\n"
     ]
    },
    {
     "data": {
      "text/plain": [
       "<EmSystem: name=J001859.32+234540.32_z0.015 type=NONE, 00:18:59.32 +23:45:40.32, z=0.0154042>"
      ]
     },
     "execution_count": 3,
     "metadata": {},
     "output_type": "execute_result"
    }
   ],
   "source": [
    "reload(liems)\n",
    "emsys = liems.EmSystem.from_alis(alis_file, 'J001859.32+234540.32')\n",
    "emsys"
   ]
  },
  {
   "cell_type": "code",
   "execution_count": 4,
   "metadata": {
    "collapsed": false
   },
   "outputs": [
    {
     "data": {
      "text/plain": [
       "[<EmLine: Hbeta, z=0.0154 wrest=4862.68 Angstrom>,\n",
       " <EmLine: Hgamma, z=0.0154 wrest=4341.68 Angstrom>,\n",
       " <EmLine: Hdelta, z=0.0154 wrest=4102.89 Angstrom>,\n",
       " <EmLine: Hepsilon, z=0.0154 wrest=3971.2 Angstrom>,\n",
       " <EmLine: [OII] 3726, z=0.0154 wrest=3727.09 Angstrom>,\n",
       " <EmLine: [OII] 3729, z=0.0154 wrest=3729.87 Angstrom>,\n",
       " <EmLine: [OIII] 4959, z=0.0154 wrest=4960.3 Angstrom>,\n",
       " <EmLine: [OIII] 5007, z=0.0154 wrest=5008.24 Angstrom>]"
      ]
     },
     "execution_count": 4,
     "metadata": {},
     "output_type": "execute_result"
    }
   ],
   "source": [
    "emsys._emlines"
   ]
  },
  {
   "cell_type": "code",
   "execution_count": null,
   "metadata": {
    "collapsed": true
   },
   "outputs": [],
   "source": []
  }
 ],
 "metadata": {
  "kernelspec": {
   "display_name": "Python 2",
   "language": "python",
   "name": "python2"
  },
  "language_info": {
   "codemirror_mode": {
    "name": "ipython",
    "version": 2
   },
   "file_extension": ".py",
   "mimetype": "text/x-python",
   "name": "python",
   "nbconvert_exporter": "python",
   "pygments_lexer": "ipython2",
   "version": "2.7.11"
  }
 },
 "nbformat": 4,
 "nbformat_minor": 0
}
