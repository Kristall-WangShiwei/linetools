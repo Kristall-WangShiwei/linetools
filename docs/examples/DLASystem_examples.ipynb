{
 "cells": [
  {
   "cell_type": "markdown",
   "metadata": {},
   "source": [
    "# Examples for the DLASystem Class (v1.0)"
   ]
  },
  {
   "cell_type": "code",
   "execution_count": 1,
   "metadata": {
    "collapsed": true
   },
   "outputs": [],
   "source": [
    "%matplotlib inline"
   ]
  },
  {
   "cell_type": "code",
   "execution_count": 2,
   "metadata": {
    "collapsed": false
   },
   "outputs": [
    {
     "name": "stderr",
     "output_type": "stream",
     "text": [
      "/Users/xavier/anaconda/lib/python2.7/site-packages/matplotlib/__init__.py:872: UserWarning: axes.color_cycle is deprecated and replaced with axes.prop_cycle; please use the latter.\n",
      "  warnings.warn(self.msg_depr % (key, alt_key))\n"
     ]
    }
   ],
   "source": [
    "# imports\n",
    "try:\n",
    "    import seaborn as sns; sns.set_style(\"white\")\n",
    "except:\n",
    "    pass\n",
    "\n",
    "from linetools.spectra.xspectrum1d import XSpectrum1D\n",
    "from linetools.isgm.dla import DLASystem, DLASurvey"
   ]
  },
  {
   "cell_type": "markdown",
   "metadata": {},
   "source": [
    "## Simple Instantiate"
   ]
  },
  {
   "cell_type": "code",
   "execution_count": 3,
   "metadata": {
    "collapsed": false
   },
   "outputs": [
    {
     "data": {
      "text/plain": [
       "[DLASystem: 00:00:00 00:00:00, 2.5, NHI=20.55, Z/H=0]"
      ]
     },
     "execution_count": 3,
     "metadata": {},
     "output_type": "execute_result"
    }
   ],
   "source": [
    "dla = DLASystem((0.*u.deg, 0.*u.deg), 2.5, None, NHI=20.55)\n",
    "dla"
   ]
  },
  {
   "cell_type": "markdown",
   "metadata": {},
   "source": [
    "## From a JXP .dat file \n",
    "\n",
    "(use of these .dat files is no longer recommended)"
   ]
  },
  {
   "cell_type": "code",
   "execution_count": 4,
   "metadata": {
    "collapsed": false
   },
   "outputs": [
    {
     "data": {
      "text/plain": [
       "[DLASystem: 01:03:11.38 13:16:16.7, 2.309, NHI=21.37, Z/H=-1.41]"
      ]
     },
     "execution_count": 4,
     "metadata": {},
     "output_type": "execute_result"
    }
   ],
   "source": [
    "dla = DLASystem.from_datfile('Data/PH957.z2309.dat', tree=os.environ.get('DLA'))\n",
    "dla"
   ]
  },
  {
   "cell_type": "code",
   "execution_count": 5,
   "metadata": {
    "collapsed": false
   },
   "outputs": [
    {
     "data": {
      "text/plain": [
       "OrderedDict([(u'QSO name', u'PH957'),\n",
       "             (u'RA (2000)', u'01:03:11.38'),\n",
       "             (u'DEC (2000)', u'+13:16:16.7'),\n",
       "             (u'QSO zem', u'2.690000'),\n",
       "             (u'flg_QSOmag', u'2'),\n",
       "             (u'QSO Mag', u'16.600000'),\n",
       "             (u'zabs', u'2.309000000'),\n",
       "             (u'NHI', u'21.370'),\n",
       "             (u'sig(NHI)', u'0.080 0.000'),\n",
       "             (u'Abund file', u'Abund/PH957.z2309.clm'),\n",
       "             (u'flg_Fe', u'1'),\n",
       "             (u'[Fe/H]', u'-1.849'),\n",
       "             (u'sig(Fe)', u'0.042'),\n",
       "             (u'flg_Zn', u'1'),\n",
       "             (u'[Zn/H]', u'-1.554'),\n",
       "             (u'sig(Zn)', u'0.021'),\n",
       "             (u'flg_Alpha', u'4'),\n",
       "             (u'[Alpha/H]', u'-1.410'),\n",
       "             (u'sig(Alpha)', u'0.010'),\n",
       "             (u'flg_low', u'1'),\n",
       "             (u'hi res file', u'/HIRES/RedData/PH957/PH957_f.fits'),\n",
       "             (u'low_wav', u'1741.5490'),\n",
       "             (u'low_vmn,vmx (2f7)', u'-25.0   80.0'),\n",
       "             (u'fdelv', u'56.00'),\n",
       "             (u'fmm', u'0.36'),\n",
       "             (u'fedg', u'0.36'),\n",
       "             (u'ftpk', u'0.56'),\n",
       "             (u'flg_CII', u'9'),\n",
       "             (u'N(CII*)', u'13.590'),\n",
       "             (u'sig(CII*)', u'0.050'),\n",
       "             (u'flg_civ', u'1'),\n",
       "             (u'civ hi res file', u'/HIRES/RedData/PH957/PH957_f.fits'),\n",
       "             (u'civ_wav', u'1548.1950'),\n",
       "             (u'civ_vmn,vmx (2f7)', u'-60.0  100.0'),\n",
       "             (u'civ fdelv', u'104.01'),\n",
       "             (u'civ fmm', u'0.23'),\n",
       "             (u'civ fedg', u'0.69'),\n",
       "             (u'civ ftpk', u'-0.62'),\n",
       "             (u'civ fdv', u'-1.86'),\n",
       "             (u'civ frto', u'1.93'),\n",
       "             (u'civ fnmm', u'-0.04'),\n",
       "             (u'civ ftvm', u'10.89'),\n",
       "             (u'E(B-V)', u'0.035'),\n",
       "             (u'Filt 124816', u'0'),\n",
       "             (u'Slit 0n1s2y', u'0'),\n",
       "             (u'QSO Survey', u'3'),\n",
       "             (u'Survey Mag', u'16.60'),\n",
       "             (u'References', u'W94, PW99, P01, WPRR08'),\n",
       "             (u'flg_mtl', u'4'),\n",
       "             (u'[M/H]', u'-1.410'),\n",
       "             (u'sig([M/H])', u'0.081'),\n",
       "             (u'SDSS plt,fib,mjd', u'0,    0,     0'),\n",
       "             (u'VPFIT FILE', u''),\n",
       "             (u'flg_CI', u'0'),\n",
       "             (u'N(CI)', u''),\n",
       "             (u'sig(CI)', u''),\n",
       "             (u'flg_H2', u'0'),\n",
       "             (u'N(H2)', u''),\n",
       "             (u'sig(H2)', u'')])"
      ]
     },
     "execution_count": 5,
     "metadata": {},
     "output_type": "execute_result"
    }
   ],
   "source": [
    "dla._datdict"
   ]
  },
  {
   "cell_type": "markdown",
   "metadata": {},
   "source": [
    "### Load up ions"
   ]
  },
  {
   "cell_type": "code",
   "execution_count": 6,
   "metadata": {
    "collapsed": false
   },
   "outputs": [
    {
     "data": {
      "text/plain": [
       "'/u/xavier/DLA/'"
      ]
     },
     "execution_count": 6,
     "metadata": {},
     "output_type": "execute_result"
    }
   ],
   "source": [
    "dla.tree"
   ]
  },
  {
   "cell_type": "code",
   "execution_count": 14,
   "metadata": {
    "collapsed": false
   },
   "outputs": [
    {
     "name": "stdout",
     "output_type": "stream",
     "text": [
      "/u/xavier/DLA/Abund/PH957.z2309.clm\n",
      "WARNING: Using 1467.2590 Angstrom for your input 1466.2120 Angstrom\n",
      "WARNING: Using 1703.4119 Angstrom for your input 1703.4050 Angstrom\n",
      "WARNING: Using 1910.6123 Angstrom for your input 1910.6000 Angstrom\n"
     ]
    }
   ],
   "source": [
    "clm_fil = dla.tree+dla._datdict['Abund file']\n",
    "print(clm_fil)\n",
    "dla.get_ions(use_Nfile=True)"
   ]
  },
  {
   "cell_type": "code",
   "execution_count": 8,
   "metadata": {
    "collapsed": false
   },
   "outputs": [
    {
     "data": {
      "text/html": [
       "&lt;QTable length=13&gt;\n",
       "<table id=\"table4554630672\">\n",
       "<thead><tr><th>Z</th><th>ion</th><th>A</th><th>Ej</th><th>z</th><th>vmin</th><th>vmax</th><th>flag_N</th><th>logN</th><th>sig_logN</th></tr></thead>\n",
       "<thead><tr><th></th><th></th><th></th><th></th><th></th><th>km / s</th><th>km / s</th><th></th><th></th><th></th></tr></thead>\n",
       "<thead><tr><th>int64</th><th>int64</th><th>int64</th><th>float64</th><th>float64</th><th>float64</th><th>float64</th><th>int64</th><th>float64</th><th>float64</th></tr></thead>\n",
       "<tr><td>6</td><td>1</td><td>0</td><td>0.0</td><td>2.309</td><td>-30.0</td><td>40.0</td><td>3</td><td>12.35</td><td>0.0</td></tr>\n",
       "<tr><td>6</td><td>2</td><td>0</td><td>63.42</td><td>2.309</td><td>0.0</td><td>0.0</td><td>0</td><td>0.0</td><td>0.0</td></tr>\n",
       "<tr><td>6</td><td>4</td><td>0</td><td>0.0</td><td>2.309</td><td>-50.0</td><td>120.0</td><td>1</td><td>13.255</td><td>0.028</td></tr>\n",
       "<tr><td>8</td><td>1</td><td>0</td><td>0.0</td><td>2.309</td><td>-20.0</td><td>80.0</td><td>3</td><td>17.644</td><td>0.0</td></tr>\n",
       "<tr><td>12</td><td>1</td><td>0</td><td>0.0</td><td>2.309</td><td>-20.0</td><td>40.0</td><td>1</td><td>12.338</td><td>0.132</td></tr>\n",
       "<tr><td>13</td><td>3</td><td>0</td><td>0.0</td><td>2.309</td><td>-20.0</td><td>80.0</td><td>1</td><td>12.653</td><td>0.019</td></tr>\n",
       "<tr><td>14</td><td>2</td><td>0</td><td>0.0</td><td>2.309</td><td>-33.0</td><td>90.0</td><td>2</td><td>14.595</td><td>0.247</td></tr>\n",
       "<tr><td>14</td><td>4</td><td>0</td><td>0.0</td><td>2.309</td><td>-50.0</td><td>100.0</td><td>1</td><td>13.133</td><td>0.015</td></tr>\n",
       "<tr><td>22</td><td>2</td><td>0</td><td>0.0</td><td>2.309</td><td>-40.0</td><td>40.0</td><td>3</td><td>12.508</td><td>0.0</td></tr>\n",
       "<tr><td>24</td><td>2</td><td>0</td><td>0.0</td><td>2.309</td><td>-20.0</td><td>40.0</td><td>1</td><td>13.389</td><td>0.015</td></tr>\n",
       "<tr><td>26</td><td>2</td><td>0</td><td>0.0</td><td>2.309</td><td>-20.0</td><td>90.0</td><td>1</td><td>14.971</td><td>0.042</td></tr>\n",
       "<tr><td>28</td><td>2</td><td>0</td><td>0.0</td><td>2.309</td><td>-20.0</td><td>50.0</td><td>1</td><td>13.844</td><td>0.012</td></tr>\n",
       "<tr><td>30</td><td>2</td><td>0</td><td>0.0</td><td>2.309</td><td>-20.0</td><td>30.0</td><td>1</td><td>12.446</td><td>0.021</td></tr>\n",
       "</table>"
      ],
      "text/plain": [
       "<QTable length=13>\n",
       "  Z    ion    A      Ej      z      vmin    vmax  flag_N   logN  sig_logN\n",
       "                                   km / s  km / s                        \n",
       "int64 int64 int64 float64 float64 float64 float64 int64  float64 float64 \n",
       "----- ----- ----- ------- ------- ------- ------- ------ ------- --------\n",
       "    6     1     0     0.0   2.309   -30.0    40.0      3   12.35      0.0\n",
       "    6     2     0   63.42   2.309     0.0     0.0      0     0.0      0.0\n",
       "    6     4     0     0.0   2.309   -50.0   120.0      1  13.255    0.028\n",
       "    8     1     0     0.0   2.309   -20.0    80.0      3  17.644      0.0\n",
       "   12     1     0     0.0   2.309   -20.0    40.0      1  12.338    0.132\n",
       "   13     3     0     0.0   2.309   -20.0    80.0      1  12.653    0.019\n",
       "   14     2     0     0.0   2.309   -33.0    90.0      2  14.595    0.247\n",
       "   14     4     0     0.0   2.309   -50.0   100.0      1  13.133    0.015\n",
       "   22     2     0     0.0   2.309   -40.0    40.0      3  12.508      0.0\n",
       "   24     2     0     0.0   2.309   -20.0    40.0      1  13.389    0.015\n",
       "   26     2     0     0.0   2.309   -20.0    90.0      1  14.971    0.042\n",
       "   28     2     0     0.0   2.309   -20.0    50.0      1  13.844    0.012\n",
       "   30     2     0     0.0   2.309   -20.0    30.0      1  12.446    0.021"
      ]
     },
     "execution_count": 8,
     "metadata": {},
     "output_type": "execute_result"
    }
   ],
   "source": [
    "dla._ionN"
   ]
  },
  {
   "cell_type": "markdown",
   "metadata": {
    "collapsed": true
   },
   "source": [
    "## Survey"
   ]
  },
  {
   "cell_type": "code",
   "execution_count": 9,
   "metadata": {
    "collapsed": false
   },
   "outputs": [
    {
     "name": "stdout",
     "output_type": "stream",
     "text": [
      "Read 100 files from Lists/Neeleman13.lst in the tree /u/xavier/DLA/\n"
     ]
    }
   ],
   "source": [
    "dlas = DLASurvey.default_sample()"
   ]
  },
  {
   "cell_type": "code",
   "execution_count": 10,
   "metadata": {
    "collapsed": false
   },
   "outputs": [
    {
     "data": {
      "image/png": "[encoded data removed]",
      "text/plain": [
       "<matplotlib.figure.Figure at 0x10f7acd90>"
      ]
     },
     "metadata": {},
     "output_type": "display_data"
    }
   ],
   "source": [
    "xdb.xhist(dlas.NHI)"
   ]
  },
  {
   "cell_type": "code",
   "execution_count": 13,
   "metadata": {
    "collapsed": false
   },
   "outputs": [
    {
     "name": "stdout",
     "output_type": "stream",
     "text": [
      "WARNING: Using 2056.2569 Angstrom for your input 2056.2539 Angstrom\n",
      "WARNING: Using 1532.5330 Angstrom for your input 1533.4312 Angstrom\n",
      "WARNING: Using 1250.5780 Angstrom for your input 1250.5840 Angstrom\n",
      "WARNING: Using 1253.8050 Angstrom for your input 1253.8110 Angstrom\n",
      "WARNING: Using 1467.2590 Angstrom for your input 1466.2120 Angstrom\n",
      "WARNING: Using 1560.6820 Angstrom for your input 1574.5503 Angstrom\n",
      "WARNING: Using 1250.5780 Angstrom for your input 1250.5840 Angstrom\n",
      "WARNING: Using 1253.8050 Angstrom for your input 1253.8110 Angstrom\n",
      "WARNING: Using 1703.4119 Angstrom for your input 1703.4050 Angstrom\n",
      "WARNING: Using 1910.6123 Angstrom for your input 1910.6000 Angstrom\n",
      "WARNING: Using 2056.2569 Angstrom for your input 2056.2539 Angstrom\n",
      "WARNING: Using 1532.5330 Angstrom for your input 1533.4312 Angstrom\n",
      "WARNING: Using 1703.4119 Angstrom for your input 1703.4050 Angstrom\n",
      "WARNING: Using 1532.5330 Angstrom for your input 1533.4312 Angstrom\n",
      "WARNING: Using 1083.9937 Angstrom for your input 1083.9900 Angstrom\n",
      "WARNING: Using 1122.5240 Angstrom for your input 1122.5260 Angstrom\n",
      "WARNING: Using 1253.8050 Angstrom for your input 1253.8110 Angstrom\n",
      "WARNING: Using 1910.6123 Angstrom for your input 1910.6000 Angstrom\n",
      "WARNING: Using 2056.2569 Angstrom for your input 2056.2539 Angstrom\n",
      "WARNING: Using 1532.5330 Angstrom for your input 1533.4312 Angstrom\n",
      "WARNING: Using 1703.4119 Angstrom for your input 1703.4050 Angstrom\n",
      "WARNING: Using 1910.6123 Angstrom for your input 1910.6000 Angstrom\n",
      "WARNING: Using 2056.2569 Angstrom for your input 2056.2539 Angstrom\n",
      "WARNING: Using 1467.2590 Angstrom for your input 1466.2120 Angstrom\n",
      "WARNING: Using 1532.5330 Angstrom for your input 1533.4312 Angstrom\n",
      "WARNING: Using 1560.6820 Angstrom for your input 1574.5503 Angstrom\n",
      "WARNING: Using 2056.2569 Angstrom for your input 2056.2539 Angstrom\n",
      "WARNING: Using 1560.6820 Angstrom for your input 1574.5503 Angstrom\n",
      "WARNING: Using 1910.6123 Angstrom for your input 1910.7500 Angstrom\n",
      "WARNING: Using 2056.2569 Angstrom for your input 2056.2539 Angstrom\n",
      "WARNING: Using 1560.6820 Angstrom for your input 1574.5503 Angstrom\n",
      "WARNING: Using 1703.4119 Angstrom for your input 1703.4050 Angstrom\n",
      "WARNING: Using 1910.6123 Angstrom for your input 1910.7500 Angstrom\n",
      "WARNING: Using 2056.2569 Angstrom for your input 2056.2539 Angstrom\n",
      "WARNING: Using 1532.5330 Angstrom for your input 1533.4312 Angstrom\n",
      "WARNING: Using 2056.2569 Angstrom for your input 2056.2539 Angstrom\n",
      "WARNING: Using 1910.6123 Angstrom for your input 1910.7500 Angstrom\n",
      "WARNING: Using 1012.4950 Angstrom for your input 1012.5020 Angstrom\n",
      "WARNING: Using 1083.9937 Angstrom for your input 1083.9900 Angstrom\n",
      "WARNING: Using 1122.5240 Angstrom for your input 1122.5260 Angstrom\n",
      "WARNING: Using 2056.2569 Angstrom for your input 2056.2539 Angstrom\n",
      "WARNING: Using 1532.5330 Angstrom for your input 1533.4312 Angstrom\n",
      "WARNING: Using 1467.2590 Angstrom for your input 1466.2120 Angstrom\n",
      "WARNING: Using 1703.4119 Angstrom for your input 1703.4050 Angstrom\n",
      "WARNING: Using 1910.6123 Angstrom for your input 1910.6000 Angstrom\n",
      "WARNING: Using 1532.5330 Angstrom for your input 1533.4312 Angstrom\n",
      "WARNING: Using 1703.4119 Angstrom for your input 1703.4050 Angstrom\n",
      "WARNING: Using 1910.6123 Angstrom for your input 1910.6000 Angstrom\n",
      "WARNING: Using 2056.2569 Angstrom for your input 2056.2539 Angstrom\n",
      "WARNING: Using 1467.2590 Angstrom for your input 1466.2120 Angstrom\n",
      "WARNING: Using 1910.6123 Angstrom for your input 1910.7500 Angstrom\n",
      "WARNING: Using 1250.5780 Angstrom for your input 1250.5840 Angstrom\n",
      "WARNING: Using 1253.8050 Angstrom for your input 1253.8110 Angstrom\n",
      "WARNING: Using 1560.6820 Angstrom for your input 1574.5503 Angstrom\n",
      "WARNING: Using 1083.9937 Angstrom for your input 1083.9900 Angstrom\n",
      "WARNING: Using 1122.5240 Angstrom for your input 1122.5260 Angstrom\n",
      "WARNING: Using 1123.1350 Angstrom for your input 1125.4478 Angstrom\n",
      "WARNING: Using 1190.2030 Angstrom for your input 1190.2080 Angstrom\n",
      "WARNING: Using 1250.5780 Angstrom for your input 1250.5840 Angstrom\n",
      "WARNING: Using 1012.4950 Angstrom for your input 1012.5020 Angstrom\n",
      "WARNING: Using 1122.5240 Angstrom for your input 1122.5260 Angstrom\n",
      "WARNING: Using 1123.1350 Angstrom for your input 1125.4478 Angstrom\n",
      "WARNING: Using 1277.1900 Angstrom for your input 1277.2450 Angstrom\n",
      "WARNING: Using 1532.5330 Angstrom for your input 1533.4312 Angstrom\n",
      "WARNING: Using 1560.6820 Angstrom for your input 1574.5503 Angstrom\n",
      "WARNING: Using 1083.9937 Angstrom for your input 1083.9900 Angstrom\n",
      "WARNING: Using 1122.5240 Angstrom for your input 1122.5260 Angstrom\n",
      "WARNING: Using 1190.2030 Angstrom for your input 1190.2080 Angstrom\n",
      "WARNING: Using 1560.6820 Angstrom for your input 1574.5503 Angstrom\n",
      "WARNING: Using 1682.1274 Angstrom for your input 1682.1500 Angstrom\n",
      "WARNING: Using 1703.4119 Angstrom for your input 1703.4050 Angstrom\n",
      "WARNING: Using 1910.6123 Angstrom for your input 1910.6000 Angstrom\n",
      "WARNING: Using 1910.9538 Angstrom for your input 1910.9380 Angstrom\n",
      "WARNING: Using 2056.2569 Angstrom for your input 2056.2539 Angstrom\n",
      "WARNING: Using 1253.8050 Angstrom for your input 1253.8110 Angstrom\n",
      "WARNING: Using 1467.2590 Angstrom for your input 1466.2120 Angstrom\n",
      "WARNING: Using 1560.6820 Angstrom for your input 1574.5503 Angstrom\n",
      "WARNING: Using 1703.4119 Angstrom for your input 1703.4050 Angstrom\n",
      "WARNING: Using 1910.6123 Angstrom for your input 1910.6000 Angstrom\n",
      "WARNING: Using 2056.2569 Angstrom for your input 2056.2539 Angstrom\n",
      "WARNING: Using 2056.2569 Angstrom for your input 2056.2539 Angstrom\n",
      "WARNING: Using 1467.2590 Angstrom for your input 1466.2120 Angstrom\n",
      "WARNING: Using 2056.2569 Angstrom for your input 2056.2539 Angstrom\n",
      "WARNING: Using 1250.5780 Angstrom for your input 1250.5840 Angstrom\n",
      "WARNING: Using 1190.2030 Angstrom for your input 1190.2080 Angstrom\n",
      "WARNING: Using 1277.1900 Angstrom for your input 1277.2450 Angstrom\n",
      "WARNING: Using 1532.5330 Angstrom for your input 1533.4312 Angstrom\n",
      "WARNING: Using 1467.2590 Angstrom for your input 1466.2120 Angstrom\n",
      "WARNING: Using 1560.6820 Angstrom for your input 1574.5503 Angstrom\n",
      "WARNING: Using 2056.2569 Angstrom for your input 2056.2539 Angstrom\n",
      "WARNING: Using 1253.8050 Angstrom for your input 1253.8110 Angstrom\n",
      "WARNING: Using 1355.5977 Angstrom for your input 1347.2400 Angstrom\n",
      "WARNING: Using 1400.4400 Angstrom for your input 1400.4000 Angstrom\n",
      "WARNING: Using 1703.4119 Angstrom for your input 1703.4050 Angstrom\n",
      "WARNING: Using 1910.6123 Angstrom for your input 1910.6000 Angstrom\n",
      "WARNING: Using 2056.2569 Angstrom for your input 2056.2539 Angstrom\n",
      "WARNING: Using 1560.6820 Angstrom for your input 1574.5503 Angstrom\n",
      "WARNING: Using 1703.4119 Angstrom for your input 1703.4050 Angstrom\n",
      "WARNING: Using 2056.2569 Angstrom for your input 2056.2539 Angstrom\n",
      "WARNING: Using 1083.9937 Angstrom for your input 1083.9900 Angstrom\n",
      "WARNING: Using 1122.5240 Angstrom for your input 1122.5260 Angstrom\n",
      "WARNING: Using 1467.2590 Angstrom for your input 1466.2120 Angstrom\n",
      "WARNING: Using 1560.6820 Angstrom for your input 1574.5503 Angstrom\n",
      "WARNING: Using 1703.4119 Angstrom for your input 1703.4050 Angstrom\n",
      "WARNING: Using 1910.6123 Angstrom for your input 1910.7500 Angstrom\n",
      "WARNING: Using 2056.2569 Angstrom for your input 2056.2539 Angstrom\n",
      "WARNING: Using 1122.5240 Angstrom for your input 1122.5260 Angstrom\n",
      "WARNING: Using 1123.1350 Angstrom for your input 1125.4478 Angstrom\n",
      "WARNING: Using 1532.5330 Angstrom for your input 1533.4312 Angstrom\n",
      "WARNING: Using 1560.6820 Angstrom for your input 1574.5503 Angstrom\n",
      "WARNING: Using 1253.8050 Angstrom for your input 1253.8110 Angstrom\n",
      "WARNING: Using 1277.1900 Angstrom for your input 1277.2450 Angstrom\n",
      "WARNING: Using 1560.6820 Angstrom for your input 1574.5503 Angstrom\n",
      "WARNING: Using 1012.4950 Angstrom for your input 1012.5020 Angstrom\n",
      "WARNING: Using 1062.6640 Angstrom for your input 1062.6620 Angstrom\n",
      "WARNING: Using 1083.9937 Angstrom for your input 1083.9900 Angstrom\n",
      "WARNING: Using 1122.5240 Angstrom for your input 1122.5260 Angstrom\n",
      "WARNING: Using 1250.5780 Angstrom for your input 1250.5840 Angstrom\n",
      "WARNING: Using 1253.8050 Angstrom for your input 1253.8110 Angstrom\n",
      "WARNING: Using 1467.2590 Angstrom for your input 1466.2120 Angstrom\n",
      "WARNING: Using 1467.2590 Angstrom for your input 1466.2120 Angstrom\n",
      "WARNING: Using 1560.6820 Angstrom for your input 1574.5503 Angstrom\n",
      "WARNING: Using 1703.4119 Angstrom for your input 1703.4050 Angstrom\n",
      "WARNING: Using 1910.6123 Angstrom for your input 1910.7500 Angstrom\n",
      "WARNING: Using 2056.2569 Angstrom for your input 2056.2539 Angstrom\n",
      "WARNING: Using 1122.5240 Angstrom for your input 1122.5260 Angstrom\n",
      "WARNING: Using 1250.5780 Angstrom for your input 1250.5840 Angstrom\n",
      "WARNING: Using 1253.8050 Angstrom for your input 1253.8110 Angstrom\n",
      "WARNING: Using 1355.5977 Angstrom for your input 1347.2400 Angstrom\n",
      "WARNING: Using 2056.2569 Angstrom for your input 2056.2539 Angstrom\n",
      "WARNING: Using 2056.2569 Angstrom for your input 2056.2539 Angstrom\n",
      "WARNING: Using 1190.2030 Angstrom for your input 1190.2080 Angstrom\n",
      "WARNING: Using 1532.5330 Angstrom for your input 1533.4312 Angstrom\n",
      "WARNING: Using 1560.6820 Angstrom for your input 1574.5503 Angstrom\n",
      "WARNING: Using 1703.4119 Angstrom for your input 1703.4050 Angstrom\n",
      "WARNING: Using 1910.6123 Angstrom for your input 1910.7500 Angstrom\n",
      "WARNING: Using 2056.2569 Angstrom for your input 2056.2539 Angstrom\n",
      "WARNING: Using 1703.4119 Angstrom for your input 1703.4050 Angstrom\n",
      "WARNING: Using 2056.2569 Angstrom for your input 2056.2539 Angstrom\n",
      "WARNING: Using 1532.5330 Angstrom for your input 1533.4312 Angstrom\n",
      "WARNING: Using 1250.5780 Angstrom for your input 1250.5840 Angstrom\n",
      "WARNING: Using 1253.8050 Angstrom for your input 1253.8110 Angstrom\n",
      "WARNING: Using 1703.4119 Angstrom for your input 1703.4050 Angstrom\n",
      "WARNING: Using 2056.2569 Angstrom for your input 2056.2539 Angstrom\n",
      "WARNING: Using 1532.5330 Angstrom for your input 1533.4312 Angstrom\n",
      "WARNING: Using 1532.5330 Angstrom for your input 1533.4312 Angstrom\n",
      "WARNING: Using 1250.5780 Angstrom for your input 1250.5840 Angstrom\n",
      "WARNING: Using 2056.2569 Angstrom for your input 2056.2539 Angstrom\n",
      "WARNING: Using 1532.5330 Angstrom for your input 1533.4312 Angstrom\n",
      "WARNING: Using 1532.5330 Angstrom for your input 1533.4312 Angstrom\n",
      "WARNING: Using 1250.5780 Angstrom for your input 1250.5840 Angstrom\n",
      "WARNING: Using 1253.8050 Angstrom for your input 1253.8110 Angstrom\n",
      "WARNING: Using 2056.2569 Angstrom for your input 2056.2539 Angstrom\n",
      "WARNING: Using 1250.5780 Angstrom for your input 1250.5840 Angstrom\n",
      "WARNING: Using 1253.8050 Angstrom for your input 1253.8110 Angstrom\n",
      "WARNING: Using 2056.2569 Angstrom for your input 2056.2539 Angstrom\n",
      "WARNING: Using 1250.5780 Angstrom for your input 1250.5840 Angstrom\n",
      "WARNING: Using 1253.8050 Angstrom for your input 1253.8110 Angstrom\n",
      "WARNING: Using 2056.2569 Angstrom for your input 2056.2539 Angstrom\n",
      "WARNING: Using 1250.5780 Angstrom for your input 1250.5840 Angstrom\n",
      "WARNING: Using 1532.5330 Angstrom for your input 1533.4312 Angstrom\n",
      "WARNING: Using 2056.2569 Angstrom for your input 2056.2539 Angstrom\n",
      "WARNING: Using 1532.5330 Angstrom for your input 1533.4312 Angstrom\n",
      "WARNING: Using 1250.5780 Angstrom for your input 1250.5840 Angstrom\n",
      "WARNING: Using 1532.5330 Angstrom for your input 1533.4312 Angstrom\n",
      "WARNING: Using 2056.2569 Angstrom for your input 2056.2539 Angstrom\n",
      "WARNING: Using 1253.8050 Angstrom for your input 1253.8110 Angstrom\n",
      "WARNING: Using 2056.2569 Angstrom for your input 2056.2539 Angstrom\n",
      "WARNING: Using 1253.8050 Angstrom for your input 1253.8110 Angstrom\n",
      "WARNING: Using 1703.4119 Angstrom for your input 1703.4050 Angstrom\n",
      "WARNING: Using 1532.5330 Angstrom for your input 1533.4312 Angstrom\n",
      "WARNING: Using 2056.2569 Angstrom for your input 2056.2539 Angstrom\n",
      "WARNING: Using 2056.2569 Angstrom for your input 2056.2539 Angstrom\n",
      "WARNING: Using 1250.5780 Angstrom for your input 1250.5840 Angstrom\n",
      "WARNING: Using 1253.8050 Angstrom for your input 1253.8110 Angstrom\n",
      "WARNING: Using 1532.5330 Angstrom for your input 1533.4312 Angstrom\n",
      "WARNING: Using 2056.2569 Angstrom for your input 2056.2539 Angstrom\n",
      "WARNING: Using 1122.5240 Angstrom for your input 1122.5260 Angstrom\n",
      "WARNING: Using 1253.8050 Angstrom for your input 1253.8110 Angstrom\n",
      "WARNING: Using 1253.8050 Angstrom for your input 1253.8110 Angstrom\n",
      "WARNING: Using 1532.5330 Angstrom for your input 1533.4312 Angstrom\n",
      "WARNING: Using 1253.8050 Angstrom for your input 1253.8110 Angstrom\n",
      "WARNING: Using 1012.4950 Angstrom for your input 1012.5020 Angstrom\n",
      "WARNING: Using 1083.9937 Angstrom for your input 1083.9900 Angstrom\n",
      "WARNING: Using 1122.5240 Angstrom for your input 1122.5260 Angstrom\n",
      "WARNING: Using 1250.5780 Angstrom for your input 1250.5840 Angstrom\n",
      "WARNING: Using 1532.5330 Angstrom for your input 1533.4312 Angstrom\n",
      "WARNING: Using 2056.2569 Angstrom for your input 2056.2539 Angstrom\n",
      "WARNING: Using 1122.5240 Angstrom for your input 1122.5260 Angstrom\n",
      "WARNING: Using 1253.8050 Angstrom for your input 1253.8110 Angstrom\n",
      "WARNING: Using 1532.5330 Angstrom for your input 1533.4312 Angstrom\n",
      "WARNING: Using 1012.4950 Angstrom for your input 1012.5020 Angstrom\n",
      "WARNING: Using 1083.9937 Angstrom for your input 1083.9900 Angstrom\n",
      "WARNING: Using 1122.5240 Angstrom for your input 1122.5260 Angstrom\n",
      "WARNING: Using 1190.2030 Angstrom for your input 1190.2080 Angstrom\n",
      "WARNING: Using 1250.5780 Angstrom for your input 1250.5840 Angstrom\n",
      "WARNING: Using 1253.8050 Angstrom for your input 1253.8110 Angstrom\n",
      "WARNING: Using 1532.5330 Angstrom for your input 1533.4312 Angstrom\n",
      "WARNING: Using 1122.5240 Angstrom for your input 1122.5260 Angstrom\n",
      "WARNING: Using 1250.5780 Angstrom for your input 1250.5840 Angstrom\n",
      "WARNING: Using 1253.8050 Angstrom for your input 1253.8110 Angstrom\n"
     ]
    }
   ],
   "source": [
    "dlas.fill_ions(use_Nfile=True)"
   ]
  },
  {
   "cell_type": "code",
   "execution_count": 12,
   "metadata": {
    "collapsed": false
   },
   "outputs": [
    {
     "data": {
      "text/html": [
       "&lt;Table length=100&gt;\n",
       "<table id=\"table4632599824\">\n",
       "<thead><tr><th>name</th><th>Z</th><th>ion</th><th>A</th><th>Ej</th><th>z</th><th>vmin</th><th>vmax</th><th>flag_N</th><th>logN</th><th>sig_logN</th></tr></thead>\n",
       "<thead><tr><th></th><th></th><th></th><th></th><th></th><th></th><th>km / s</th><th>km / s</th><th></th><th></th><th></th></tr></thead>\n",
       "<thead><tr><th>unicode32</th><th>int64</th><th>int64</th><th>int64</th><th>float64</th><th>float64</th><th>float64</th><th>float64</th><th>int64</th><th>float64</th><th>float64</th></tr></thead>\n",
       "<tr><td>PSS0209+05_z3.666</td><td>6</td><td>4</td><td>0</td><td>0.0</td><td>3.6662</td><td>-100.0</td><td>10.0</td><td>1</td><td>13.385</td><td>0.02</td></tr>\n",
       "<tr><td>PSS0209+05_z3.864</td><td>0</td><td>0</td><td>0</td><td>0.0</td><td>0.0</td><td>0.0</td><td>0.0</td><td>0</td><td>0.0</td><td>0.0</td></tr>\n",
       "<tr><td>PSS0957+33_z3.280</td><td>6</td><td>4</td><td>0</td><td>0.0</td><td>3.27958</td><td>-200.280207364</td><td>79.7197926357</td><td>1</td><td>13.974</td><td>0.009</td></tr>\n",
       "<tr><td>PSS0957+33_z4.180</td><td>0</td><td>0</td><td>0</td><td>0.0</td><td>0.0</td><td>0.0</td><td>0.0</td><td>0</td><td>0.0</td><td>0.0</td></tr>\n",
       "<tr><td>HS1132+2243_z2.783</td><td>6</td><td>4</td><td>0</td><td>0.0</td><td>2.78347</td><td>-70.0</td><td>30.0</td><td>1</td><td>13.019</td><td>0.044</td></tr>\n",
       "<tr><td>Q1209+0919_z2.584</td><td>6</td><td>4</td><td>0</td><td>0.0</td><td>2.5841</td><td>-300.0</td><td>300.0</td><td>2</td><td>14.999</td><td>0.066</td></tr>\n",
       "<tr><td>Q1337+11_z2.796</td><td>6</td><td>4</td><td>0</td><td>0.0</td><td>2.79585</td><td>-90.0</td><td>20.0</td><td>1</td><td>13.387</td><td>0.026</td></tr>\n",
       "<tr><td>PKS1354-17_z2.780</td><td>0</td><td>0</td><td>0</td><td>0.0</td><td>0.0</td><td>0.0</td><td>0.0</td><td>0</td><td>0.0</td><td>0.0</td></tr>\n",
       "<tr><td>PSS1506+522_z3.224</td><td>0</td><td>0</td><td>0</td><td>0.0</td><td>0.0</td><td>0.0</td><td>0.0</td><td>0</td><td>0.0</td><td>0.0</td></tr>\n",
       "<tr><td>...</td><td>...</td><td>...</td><td>...</td><td>...</td><td>...</td><td>...</td><td>...</td><td>...</td><td>...</td><td>...</td></tr>\n",
       "<tr><td>Q1055+46_z3.317</td><td>0</td><td>0</td><td>0</td><td>0.0</td><td>0.0</td><td>0.0</td><td>0.0</td><td>0</td><td>0.0</td><td>0.0</td></tr>\n",
       "<tr><td>Q1104-18_z1.661</td><td>0</td><td>0</td><td>0</td><td>0.0</td><td>0.0</td><td>0.0</td><td>0.0</td><td>0</td><td>0.0</td><td>0.0</td></tr>\n",
       "<tr><td>Q2223+20_z3.119</td><td>6</td><td>4</td><td>0</td><td>0.0</td><td>3.1192</td><td>-54.555858322</td><td>105.444141678</td><td>1</td><td>13.626</td><td>0.02</td></tr>\n",
       "<tr><td>Q2343+125_z2.431</td><td>6</td><td>4</td><td>0</td><td>0.0</td><td>2.4313</td><td>-400.0</td><td>200.0</td><td>1</td><td>14.714</td><td>0.001</td></tr>\n",
       "<tr><td>Q2344+12_z2.538</td><td>0</td><td>0</td><td>0</td><td>0.0</td><td>0.0</td><td>0.0</td><td>0.0</td><td>0</td><td>0.0</td><td>0.0</td></tr>\n",
       "<tr><td>Q0913+072_z2.618</td><td>6</td><td>4</td><td>0</td><td>0.0</td><td>2.6184</td><td>-25.0</td><td>240.0</td><td>1</td><td>14.106</td><td>0.012</td></tr>\n",
       "<tr><td>J1202+3235_z5.065</td><td>0</td><td>0</td><td>0</td><td>0.0</td><td>0.0</td><td>0.0</td><td>0.0</td><td>0</td><td>0.0</td><td>0.0</td></tr>\n",
       "<tr><td>Q0450-13_z2.067</td><td>6</td><td>4</td><td>0</td><td>0.0</td><td>2.0666</td><td>-140.0</td><td>160.0</td><td>2</td><td>14.946</td><td>0.067</td></tr>\n",
       "<tr><td>J1155+0530_z2.608</td><td>6</td><td>4</td><td>0</td><td>0.0</td><td>2.6077</td><td>-60.0</td><td>100.0</td><td>1</td><td>13.631</td><td>0.01</td></tr>\n",
       "<tr><td>J1435+5359_z2.343</td><td>6</td><td>4</td><td>0</td><td>0.0</td><td>2.3427</td><td>-100.0</td><td>80.0</td><td>1</td><td>13.847</td><td>0.004</td></tr>\n",
       "</table>"
      ],
      "text/plain": [
       "<Table length=100>\n",
       "       name          Z    ion    A   ...      vmax     flag_N   logN  sig_logN\n",
       "                                     ...     km / s                           \n",
       "    unicode32      int64 int64 int64 ...    float64    int64  float64 float64 \n",
       "------------------ ----- ----- ----- ... ------------- ------ ------- --------\n",
       " PSS0209+05_z3.666     6     4     0 ...          10.0      1  13.385     0.02\n",
       " PSS0209+05_z3.864     0     0     0 ...           0.0      0     0.0      0.0\n",
       " PSS0957+33_z3.280     6     4     0 ... 79.7197926357      1  13.974    0.009\n",
       " PSS0957+33_z4.180     0     0     0 ...           0.0      0     0.0      0.0\n",
       "HS1132+2243_z2.783     6     4     0 ...          30.0      1  13.019    0.044\n",
       " Q1209+0919_z2.584     6     4     0 ...         300.0      2  14.999    0.066\n",
       "   Q1337+11_z2.796     6     4     0 ...          20.0      1  13.387    0.026\n",
       " PKS1354-17_z2.780     0     0     0 ...           0.0      0     0.0      0.0\n",
       "PSS1506+522_z3.224     0     0     0 ...           0.0      0     0.0      0.0\n",
       "               ...   ...   ...   ... ...           ...    ...     ...      ...\n",
       "   Q1055+46_z3.317     0     0     0 ...           0.0      0     0.0      0.0\n",
       "   Q1104-18_z1.661     0     0     0 ...           0.0      0     0.0      0.0\n",
       "   Q2223+20_z3.119     6     4     0 ... 105.444141678      1  13.626     0.02\n",
       "  Q2343+125_z2.431     6     4     0 ...         200.0      1  14.714    0.001\n",
       "   Q2344+12_z2.538     0     0     0 ...           0.0      0     0.0      0.0\n",
       "  Q0913+072_z2.618     6     4     0 ...         240.0      1  14.106    0.012\n",
       " J1202+3235_z5.065     0     0     0 ...           0.0      0     0.0      0.0\n",
       "   Q0450-13_z2.067     6     4     0 ...         160.0      2  14.946    0.067\n",
       " J1155+0530_z2.608     6     4     0 ...         100.0      1  13.631     0.01\n",
       " J1435+5359_z2.343     6     4     0 ...          80.0      1  13.847    0.004"
      ]
     },
     "execution_count": 12,
     "metadata": {},
     "output_type": "execute_result"
    }
   ],
   "source": [
    "CII_clms = dlas.ions((6,4))\n",
    "CII_clms"
   ]
  },
  {
   "cell_type": "code",
   "execution_count": 15,
   "metadata": {
    "collapsed": true
   },
   "outputs": [],
   "source": [
    "t = Table()"
   ]
  },
  {
   "cell_type": "code",
   "execution_count": 19,
   "metadata": {
    "collapsed": false
   },
   "outputs": [],
   "source": [
    "t2 = CII_clms[0:1].copy()"
   ]
  },
  {
   "cell_type": "code",
   "execution_count": 20,
   "metadata": {
    "collapsed": false
   },
   "outputs": [
    {
     "data": {
      "text/html": [
       "&lt;Table length=1&gt;\n",
       "<table id=\"table4629374864\">\n",
       "<thead><tr><th>name</th><th>Z</th><th>ion</th><th>A</th><th>Ej</th><th>z</th><th>vmin</th><th>vmax</th><th>flag_N</th><th>logN</th><th>sig_logN</th></tr></thead>\n",
       "<thead><tr><th></th><th></th><th></th><th></th><th></th><th></th><th>km / s</th><th>km / s</th><th></th><th></th><th></th></tr></thead>\n",
       "<thead><tr><th>unicode32</th><th>int64</th><th>int64</th><th>int64</th><th>float64</th><th>float64</th><th>float64</th><th>float64</th><th>int64</th><th>float64</th><th>float64</th></tr></thead>\n",
       "<tr><td>PSS0209+05_z3.666</td><td>6</td><td>4</td><td>0</td><td>0.0</td><td>3.6662</td><td>-100.0</td><td>10.0</td><td>1</td><td>13.385</td><td>0.02</td></tr>\n",
       "</table>"
      ],
      "text/plain": [
       "<Table length=1>\n",
       "       name         Z    ion    A      Ej   ...   vmax  flag_N   logN  sig_logN\n",
       "                                            ...  km / s                        \n",
       "    unicode32     int64 int64 int64 float64 ... float64 int64  float64 float64 \n",
       "----------------- ----- ----- ----- ------- ... ------- ------ ------- --------\n",
       "PSS0209+05_z3.666     6     4     0     0.0 ...    10.0      1  13.385     0.02"
      ]
     },
     "execution_count": 20,
     "metadata": {},
     "output_type": "execute_result"
    }
   ],
   "source": [
    "t2"
   ]
  },
  {
   "cell_type": "code",
   "execution_count": 21,
   "metadata": {
    "collapsed": true
   },
   "outputs": [],
   "source": [
    "from linetools import utils as ltu"
   ]
  },
  {
   "cell_type": "code",
   "execution_count": 22,
   "metadata": {
    "collapsed": false
   },
   "outputs": [
    {
     "ename": "NameError",
     "evalue": "global name 'const' is not defined",
     "output_type": "error",
     "traceback": [
      "\u001b[0;31m---------------------------------------------------------------------------\u001b[0m",
      "\u001b[0;31mNameError\u001b[0m                                 Traceback (most recent call last)",
      "\u001b[0;32m<ipython-input-22-6d32cf185c68>\u001b[0m in \u001b[0;36m<module>\u001b[0;34m()\u001b[0m\n\u001b[0;32m----> 1\u001b[0;31m \u001b[0mltu\u001b[0m\u001b[0;34m.\u001b[0m\u001b[0mv_from_z\u001b[0m\u001b[0;34m(\u001b[0m\u001b[0;36m1.\u001b[0m\u001b[0;34m,\u001b[0m \u001b[0;36m1.1\u001b[0m\u001b[0;34m)\u001b[0m\u001b[0;34m\u001b[0m\u001b[0m\n\u001b[0m",
      "\u001b[0;32m/Users/xavier/local/Python/linetools/linetools/utils.pyc\u001b[0m in \u001b[0;36mv_from_z\u001b[0;34m(z1, z2)\u001b[0m\n\u001b[1;32m    124\u001b[0m     \"\"\"\n\u001b[1;32m    125\u001b[0m     \u001b[0mR\u001b[0m \u001b[0;34m=\u001b[0m \u001b[0;34m(\u001b[0m\u001b[0;36m1\u001b[0m\u001b[0;34m+\u001b[0m\u001b[0mz1\u001b[0m\u001b[0;34m)\u001b[0m \u001b[0;34m/\u001b[0m \u001b[0;34m(\u001b[0m\u001b[0;36m1\u001b[0m\u001b[0;34m+\u001b[0m\u001b[0mz2\u001b[0m\u001b[0;34m)\u001b[0m\u001b[0;34m\u001b[0m\u001b[0m\n\u001b[0;32m--> 126\u001b[0;31m     \u001b[0mv\u001b[0m \u001b[0;34m=\u001b[0m \u001b[0mconst\u001b[0m\u001b[0;34m.\u001b[0m\u001b[0mc\u001b[0m \u001b[0;34m*\u001b[0m \u001b[0;34m(\u001b[0m\u001b[0mR\u001b[0m\u001b[0;34m**\u001b[0m\u001b[0;36m2\u001b[0m \u001b[0;34m-\u001b[0m \u001b[0;36m1\u001b[0m\u001b[0;34m)\u001b[0m\u001b[0;34m/\u001b[0m\u001b[0;34m(\u001b[0m\u001b[0;36m1\u001b[0m\u001b[0;34m+\u001b[0m\u001b[0mR\u001b[0m\u001b[0;34m**\u001b[0m\u001b[0;36m2\u001b[0m\u001b[0;34m)\u001b[0m\u001b[0;34m\u001b[0m\u001b[0m\n\u001b[0m\u001b[1;32m    127\u001b[0m \u001b[0;34m\u001b[0m\u001b[0m\n\u001b[1;32m    128\u001b[0m     \u001b[0;32mreturn\u001b[0m \u001b[0mv\u001b[0m\u001b[0;34m.\u001b[0m\u001b[0mto\u001b[0m\u001b[0;34m(\u001b[0m\u001b[0;34m'km/s'\u001b[0m\u001b[0;34m)\u001b[0m\u001b[0;34m\u001b[0m\u001b[0m\n",
      "\u001b[0;31mNameError\u001b[0m: global name 'const' is not defined"
     ]
    }
   ],
   "source": [
    "ltu.v_from_z(1., 1.1)"
   ]
  },
  {
   "cell_type": "code",
   "execution_count": null,
   "metadata": {
    "collapsed": true
   },
   "outputs": [],
   "source": []
  }
 ],
 "metadata": {
  "kernelspec": {
   "display_name": "Python 2",
   "language": "python",
   "name": "python2"
  },
  "language_info": {
   "codemirror_mode": {
    "name": "ipython",
    "version": 2
   },
   "file_extension": ".py",
   "mimetype": "text/x-python",
   "name": "python",
   "nbconvert_exporter": "python",
   "pygments_lexer": "ipython2",
   "version": "2.7.10"
  }
 },
 "nbformat": 4,
 "nbformat_minor": 0
}
