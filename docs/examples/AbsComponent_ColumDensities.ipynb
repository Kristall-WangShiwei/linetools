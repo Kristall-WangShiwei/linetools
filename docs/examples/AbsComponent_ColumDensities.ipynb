{
 "cells": [
  {
   "cell_type": "markdown",
   "metadata": {},
   "source": [
    "# Column Densities with AbsComponent"
   ]
  },
  {
   "cell_type": "code",
   "execution_count": 14,
   "metadata": {
    "collapsed": true
   },
   "outputs": [],
   "source": [
    "%matplotlib inline"
   ]
  },
  {
   "cell_type": "code",
   "execution_count": 16,
   "metadata": {
    "collapsed": false
   },
   "outputs": [],
   "source": [
    "# imports\n",
    "try:\n",
    "    import seaborn as sns; sns.set_style(\"white\")\n",
    "except:\n",
    "    pass\n",
    "\n",
    "from scipy import integrate\n",
    "\n",
    "from linetools.isgm import abscomponent as lt_abscomp\n",
    "from linetools.spectralline import AbsLine\n",
    "from linetools.spectra import io as lsio\n",
    "#\n",
    "import imp\n",
    "lt_path = imp.find_module('linetools')[1]"
   ]
  },
  {
   "cell_type": "markdown",
   "metadata": {},
   "source": [
    "## Read Spec"
   ]
  },
  {
   "cell_type": "code",
   "execution_count": 2,
   "metadata": {
    "collapsed": true
   },
   "outputs": [],
   "source": [
    "xspec = lsio.readspec(lt_path+'/spectra/tests/files/UM184_nF.fits')"
   ]
  },
  {
   "cell_type": "markdown",
   "metadata": {},
   "source": [
    "## Generate a few AbsLines"
   ]
  },
  {
   "cell_type": "code",
   "execution_count": 3,
   "metadata": {
    "collapsed": false
   },
   "outputs": [],
   "source": [
    "SiIItrans = ['SiII 1260', 'SiII 1304', 'SiII 1526', 'SiII 1808']"
   ]
  },
  {
   "cell_type": "code",
   "execution_count": 4,
   "metadata": {
    "collapsed": false
   },
   "outputs": [
    {
     "name": "stderr",
     "output_type": "stream",
     "text": [
      "WARNING: UnitsWarning: The unit 'Angstrom' has been deprecated in the FITS standard. Suggested: 10**-1 nm. [astropy.units.format.utils]\n",
      "WARNING:astropy:UnitsWarning: The unit 'Angstrom' has been deprecated in the FITS standard. Suggested: 10**-1 nm.\n"
     ]
    },
    {
     "name": "stdout",
     "output_type": "stream",
     "text": [
      "linetools.lists.parse: Reading linelist --- \n",
      "   /Users/xavier/local/Python/linetools/linetools/data/lines/morton03_table2.fits.gz\n",
      "linetools.lists.parse: Reading linelist --- \n",
      "   /Users/xavier/local/Python/linetools/linetools/data/lines/morton00_table2.fits.gz\n",
      "linetools.lists.parse: Reading linelist --- \n",
      "   /Users/xavier/local/Python/linetools/linetools/data/lines/verner94_tab6.fits"
     ]
    },
    {
     "name": "stderr",
     "output_type": "stream",
     "text": [
      "WARNING: UnitsWarning: '0.1nm' did not parse as fits unit: Numeric factor not supported by FITS [astropy.units.core]\n",
      "WARNING:astropy:UnitsWarning: '0.1nm' did not parse as fits unit: Numeric factor not supported by FITS\n"
     ]
    },
    {
     "name": "stdout",
     "output_type": "stream",
     "text": [
      "\n",
      "linetools.lists.parse: Reading linelist --- \n",
      "   /Users/xavier/local/Python/linetools/linetools/data/lines/EUV_lines.ascii\n",
      "read_sets: Using set file -- \n",
      "  /Users/xavier/local/Python/linetools/linetools/lists/sets/llist_v0.3.ascii\n"
     ]
    },
    {
     "data": {
      "text/plain": [
       "[[AbsLine: SiII 1260, wrest=1260.4221 Angstrom],\n",
       " [AbsLine: SiII 1304, wrest=1304.3702 Angstrom],\n",
       " [AbsLine: SiII 1526, wrest=1526.7070 Angstrom],\n",
       " [AbsLine: SiII 1808, wrest=1808.0129 Angstrom]]"
      ]
     },
     "execution_count": 4,
     "metadata": {},
     "output_type": "execute_result"
    }
   ],
   "source": [
    "abslines = []\n",
    "for trans in SiIItrans:\n",
    "    iline = AbsLine(trans)\n",
    "    iline.attrib['z'] = 2.92939\n",
    "    iline.analy['vlim'] = [-250.,80.]*u.km/u.s\n",
    "    iline.analy['spec'] = xspec\n",
    "    abslines.append(iline)\n",
    "#\n",
    "abslines"
   ]
  },
  {
   "cell_type": "markdown",
   "metadata": {},
   "source": [
    "## Generate the Component"
   ]
  },
  {
   "cell_type": "code",
   "execution_count": 24,
   "metadata": {
    "collapsed": false
   },
   "outputs": [],
   "source": [
    "reload(lt_abscomp)\n",
    "abscomp = lt_abscomp.AbsComponent.from_abslines(abslines)"
   ]
  },
  {
   "cell_type": "code",
   "execution_count": 6,
   "metadata": {
    "collapsed": false
   },
   "outputs": [],
   "source": [
    "abscomp.stack_plot()"
   ]
  },
  {
   "cell_type": "markdown",
   "metadata": {},
   "source": [
    "----"
   ]
  },
  {
   "cell_type": "markdown",
   "metadata": {},
   "source": [
    "## Synthesize/Measure AODM Column Densities"
   ]
  },
  {
   "cell_type": "code",
   "execution_count": 25,
   "metadata": {
    "collapsed": false
   },
   "outputs": [],
   "source": [
    "abscomp.synthesize_colm(redo_aodm=True)"
   ]
  },
  {
   "cell_type": "code",
   "execution_count": 26,
   "metadata": {
    "collapsed": false
   },
   "outputs": [
    {
     "data": {
      "text/plain": [
       "[AbsComponent: 00:00:00 +00:00:00, Zion=(14,2), z=2.92939, logN=13.5944, sigN=0.0144997]"
      ]
     },
     "execution_count": 26,
     "metadata": {},
     "output_type": "execute_result"
    }
   ],
   "source": [
    "abscomp"
   ]
  },
  {
   "cell_type": "code",
   "execution_count": 9,
   "metadata": {
    "collapsed": false
   },
   "outputs": [
    {
     "name": "stdout",
     "output_type": "stream",
     "text": [
      "(<Quantity 1260.4221 Angstrom>, 1, 13.588374631008852, 0.015074558585718052)\n",
      "(<Quantity 1304.3702 Angstrom>, 1, 13.770868841899777, 0.086201339463221296)\n",
      "(<Quantity 1526.707 Angstrom>, 1, 13.670736035998091, 0.064085769638602866)\n",
      "(<Quantity 1808.0129 Angstrom>, 3, 0.0, 0.50977321571018408)\n"
     ]
    }
   ],
   "source": [
    "for iline in abscomp._abslines:\n",
    "    print(iline.wrest, iline.attrib['flagN'], iline.attrib['logN'], iline.attrib['sig_logN'])"
   ]
  },
  {
   "cell_type": "markdown",
   "metadata": {},
   "source": [
    "----"
   ]
  },
  {
   "cell_type": "markdown",
   "metadata": {},
   "source": [
    "## COG"
   ]
  },
  {
   "cell_type": "markdown",
   "metadata": {},
   "source": [
    "### $F(\\tau_0)$\n",
    "\n",
    "Definition\n",
    "$F(\\tau_0) = \\int_0^\\infty dx \\, [1- \\rm e^{-\\tau_0 \\rm e^{-x^2}}]$"
   ]
  },
  {
   "cell_type": "code",
   "execution_count": 10,
   "metadata": {
    "collapsed": true
   },
   "outputs": [],
   "source": [
    "def ftau_intgrnd(x,tau0=0.1):\n",
    "    return 1 - np.exp(-tau0 * np.exp(-x**2))"
   ]
  },
  {
   "cell_type": "code",
   "execution_count": null,
   "metadata": {
    "collapsed": false
   },
   "outputs": [],
   "source": [
    "neval = 10000\n",
    "lgt = np.linspace(-3, 9, neval)\n",
    "all_tau0 = 10.**lgt\n",
    "Ftau = np.zeros(neval)\n",
    "for jj,tau0 in enumerate(all_tau0):\n",
    "    Ftau[jj], ferr = integrate.quad(ftau_intgrnd, 0, np.inf, args=(tau0,))"
   ]
  },
  {
   "cell_type": "code",
   "execution_count": null,
   "metadata": {
    "collapsed": true
   },
   "outputs": [],
   "source": [
    "# Damped limit (not accurate enough)\n",
    "damp_lgt = np.linspace(6, 10, 100)\n",
    "damp_tau0 = 10.**damp_lgt\n",
    "damp_Ftau = np.sqrt(np.log(damp_tau0))"
   ]
  },
  {
   "cell_type": "code",
   "execution_count": null,
   "metadata": {
    "collapsed": false
   },
   "outputs": [],
   "source": [
    "xdb.xplot(lgt,Ftau, xtwo=damp_lgt, ytwo=1.015*damp_Ftau)"
   ]
  },
  {
   "cell_type": "markdown",
   "metadata": {},
   "source": [
    "### Perform and Plot"
   ]
  },
  {
   "cell_type": "code",
   "execution_count": 30,
   "metadata": {
    "collapsed": false
   },
   "outputs": [
    {
     "data": {
      "image/png": "[encoded data removed]",
      "text/plain": [
       "<matplotlib.figure.Figure at 0x1168ff150>"
      ]
     },
     "metadata": {},
     "output_type": "display_data"
    }
   ],
   "source": [
    "reload(lt_abscomp)\n",
    "abscomp = lt_abscomp.AbsComponent.from_abslines(abslines)\n",
    "COG_dict = abscomp.cog(redo_indiv=True, show_plot=True)"
   ]
  },
  {
   "cell_type": "code",
   "execution_count": 31,
   "metadata": {
    "collapsed": false
   },
   "outputs": [
    {
     "data": {
      "text/plain": [
       "{'EW': <Quantity [ 0.43129915, 0.06810455, 0.11137664,-0.01950807] Angstrom>,\n",
       " 'b': <Quantity 49.22868767597288 km / s>,\n",
       " 'f': array([ 1.18   ,  0.0863 ,  0.127  ,  0.00208]),\n",
       " 'logN': 13.693355878125537,\n",
       " 'parm': <single_cog_model(logN=13.693355878125537, b=49.22868767597288)>,\n",
       " 'redEW': array([  3.42186280e-04,   5.22125891e-05,   7.29522068e-05,\n",
       "         -1.07897867e-05]),\n",
       " 'sigEW': <Quantity [ 0.0129661 , 0.01440996, 0.01686854, 0.02102034] Angstrom>,\n",
       " 'wrest': <Quantity [ 1260.4221, 1304.3702, 1526.707 , 1808.0129] Angstrom>}"
      ]
     },
     "execution_count": 31,
     "metadata": {},
     "output_type": "execute_result"
    }
   ],
   "source": [
    "# Output\n",
    "COG_dict"
   ]
  },
  {
   "cell_type": "code",
   "execution_count": null,
   "metadata": {
    "collapsed": true
   },
   "outputs": [],
   "source": []
  }
 ],
 "metadata": {
  "kernelspec": {
   "display_name": "Python 2",
   "language": "python",
   "name": "python2"
  },
  "language_info": {
   "codemirror_mode": {
    "name": "ipython",
    "version": 2
   },
   "file_extension": ".py",
   "mimetype": "text/x-python",
   "name": "python",
   "nbconvert_exporter": "python",
   "pygments_lexer": "ipython2",
   "version": "2.7.10"
  }
 },
 "nbformat": 4,
 "nbformat_minor": 0
}
