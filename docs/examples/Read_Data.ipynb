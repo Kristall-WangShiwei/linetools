{
 "cells": [
  {
   "cell_type": "markdown",
   "metadata": {},
   "source": [
    "# Read Data Tables"
   ]
  },
  {
   "cell_type": "markdown",
   "metadata": {},
   "source": [
    "## Read VO"
   ]
  },
  {
   "cell_type": "code",
   "execution_count": 1,
   "metadata": {
    "collapsed": true
   },
   "outputs": [],
   "source": [
    "# imports\n",
    "from astropy.io.votable import parse\n",
    "from linetools.lists import parse as lparse\n",
    "from linetools.lists.linelist import LineList"
   ]
  },
  {
   "cell_type": "code",
   "execution_count": 4,
   "metadata": {
    "collapsed": false
   },
   "outputs": [],
   "source": [
    "vot = parse('verner94_data.vot')\n",
    "#vott = vot.get_first_table()\n",
    "tbl_1 = vot.get_first_table().to_table(use_names_over_ids=True)\n",
    "tbl_2 = vot.get_table_by_index(5).to_table(use_names_over_ids=True)"
   ]
  },
  {
   "cell_type": "code",
   "execution_count": 7,
   "metadata": {
    "collapsed": false
   },
   "outputs": [
    {
     "data": {
      "text/html": [
       "&lt;Table masked=True length=2249&gt;\n",
       "<table id=\"table4558949456\">\n",
       "<thead><tr><th>lambda</th><th>Species</th><th>P</th><th>Gi</th><th>Gk</th><th>Fik</th><th>Z</th><th>N</th></tr></thead>\n",
       "<thead><tr><th>0.1 nm</th><th></th><th></th><th></th><th></th><th></th><th></th><th></th></tr></thead>\n",
       "<thead><tr><th>float64</th><th>string56</th><th>float32</th><th>int16</th><th>int16</th><th>float32</th><th>int16</th><th>int16</th></tr></thead>\n",
       "<tr><td>228.3010</td><td>V V</td><td>6.20</td><td>4</td><td>2</td><td>0.67</td><td>23</td><td>19</td></tr>\n",
       "<tr><td>228.6280</td><td>CaVI</td><td>7.70</td><td>4</td><td>6</td><td>0.1</td><td>20</td><td>15</td></tr>\n",
       "<tr><td>228.8250</td><td>O III</td><td>8.97</td><td>1</td><td>3</td><td>0.0048</td><td>8</td><td>6</td></tr>\n",
       "<tr><td>228.8520</td><td>NeIII</td><td>7.35</td><td>5</td><td>3</td><td>0.0008</td><td>10</td><td>8</td></tr>\n",
       "<tr><td>228.8760</td><td>NeIII</td><td>8.53</td><td>5</td><td>5</td><td>0.012</td><td>10</td><td>8</td></tr>\n",
       "<tr><td>228.9090</td><td>TiV</td><td>6.28</td><td>1</td><td>3</td><td>0.097</td><td>22</td><td>18</td></tr>\n",
       "<tr><td>228.9160</td><td>NeIII</td><td>9.28</td><td>5</td><td>7</td><td>0.067</td><td>10</td><td>8</td></tr>\n",
       "<tr><td>229.4310</td><td>HeII</td><td>10.31</td><td>2</td><td>6</td><td>0.00092</td><td>2</td><td>1</td></tr>\n",
       "<tr><td>229.7340</td><td>CaVI</td><td>7.52</td><td>4</td><td>4</td><td>0.067</td><td>20</td><td>15</td></tr>\n",
       "<tr><td>...</td><td>...</td><td>...</td><td>...</td><td>...</td><td>...</td><td>...</td><td>...</td></tr>\n",
       "<tr><td>6193.4400</td><td>Y I</td><td>4.44</td><td>4</td><td>4</td><td>0.027</td><td>39</td><td>39</td></tr>\n",
       "<tr><td>6224.3100</td><td>Y I</td><td>3.73</td><td>4</td><td>6</td><td>0.0051</td><td>39</td><td>39</td></tr>\n",
       "<tr><td>6574.5950</td><td>CaI</td><td>5.86</td><td>1</td><td>3</td><td>5.1e-05</td><td>20</td><td>20</td></tr>\n",
       "<tr><td>6709.6130</td><td>LiI</td><td>6.83</td><td>2</td><td>4</td><td>0.5</td><td>3</td><td>3</td></tr>\n",
       "<tr><td>6709.7640</td><td>LiI</td><td>6.53</td><td>2</td><td>2</td><td>0.25</td><td>3</td><td>3</td></tr>\n",
       "<tr><td>7667.0210</td><td>K I</td><td>8.85</td><td>2</td><td>4</td><td>0.68</td><td>19</td><td>19</td></tr>\n",
       "<tr><td>7701.0930</td><td>K I</td><td>8.55</td><td>2</td><td>2</td><td>0.34</td><td>19</td><td>19</td></tr>\n",
       "<tr><td>7802.3740</td><td>RbI</td><td>6.12</td><td>2</td><td>4</td><td>0.68</td><td>37</td><td>37</td></tr>\n",
       "<tr><td>7913.5140</td><td>BaI</td><td>4.03</td><td>1</td><td>3</td><td>0.0084</td><td>56</td><td>56</td></tr>\n",
       "<tr><td>7949.7900</td><td>RbI</td><td>5.81</td><td>2</td><td>2</td><td>0.32</td><td>37</td><td>37</td></tr>\n",
       "</table>"
      ],
      "text/plain": [
       "<Table masked=True length=2249>\n",
       "  lambda  Species     P      Gi    Gk     Fik      Z     N  \n",
       "  0.1 nm                                                    \n",
       " float64  string56 float32 int16 int16  float32  int16 int16\n",
       "--------- -------- ------- ----- ----- --------- ----- -----\n",
       " 228.3010      V V    6.20     4     2      0.67    23    19\n",
       " 228.6280     CaVI    7.70     4     6       0.1    20    15\n",
       " 228.8250    O III    8.97     1     3    0.0048     8     6\n",
       " 228.8520    NeIII    7.35     5     3    0.0008    10     8\n",
       " 228.8760    NeIII    8.53     5     5     0.012    10     8\n",
       " 228.9090      TiV    6.28     1     3     0.097    22    18\n",
       " 228.9160    NeIII    9.28     5     7     0.067    10     8\n",
       " 229.4310     HeII   10.31     2     6   0.00092     2     1\n",
       " 229.7340     CaVI    7.52     4     4     0.067    20    15\n",
       "      ...      ...     ...   ...   ...       ...   ...   ...\n",
       "6193.4400      Y I    4.44     4     4     0.027    39    39\n",
       "6224.3100      Y I    3.73     4     6    0.0051    39    39\n",
       "6574.5950      CaI    5.86     1     3   5.1e-05    20    20\n",
       "6709.6130      LiI    6.83     2     4       0.5     3     3\n",
       "6709.7640      LiI    6.53     2     2      0.25     3     3\n",
       "7667.0210      K I    8.85     2     4      0.68    19    19\n",
       "7701.0930      K I    8.55     2     2      0.34    19    19\n",
       "7802.3740      RbI    6.12     2     4      0.68    37    37\n",
       "7913.5140      BaI    4.03     1     3    0.0084    56    56\n",
       "7949.7900      RbI    5.81     2     2      0.32    37    37"
      ]
     },
     "execution_count": 7,
     "metadata": {},
     "output_type": "execute_result"
    }
   ],
   "source": [
    "tbl_2"
   ]
  },
  {
   "cell_type": "markdown",
   "metadata": {
    "collapsed": true
   },
   "source": [
    "## Read Morton00"
   ]
  },
  {
   "cell_type": "code",
   "execution_count": 48,
   "metadata": {
    "collapsed": false
   },
   "outputs": [
    {
     "name": "stdout",
     "output_type": "stream",
     "text": [
      "linetools.lists.parse: Reading linelist --- \n",
      "   /Users/xavier/local/Python/linetools/linetools/data/lines/morton00_table2.dat\n"
     ]
    },
    {
     "name": "stderr",
     "output_type": "stream",
     "text": [
      "/Users/xavier/local/Python/linetools/linetools/lists/parse.py:293: UnicodeWarning: Unicode equal comparison failed to convert both arguments to Unicode - interpreting them as being unequal\n",
      "  tmp = line[23] == '.'\n"
     ]
    }
   ],
   "source": [
    "reload(lparse)\n",
    "m00 = lparse.parse_morton00()"
   ]
  },
  {
   "cell_type": "code",
   "execution_count": 51,
   "metadata": {
    "collapsed": false
   },
   "outputs": [
    {
     "data": {
      "text/html": [
       "&lt;Table masked=False length=2697&gt;\n",
       "<table id=\"table4565537936\">\n",
       "<thead><tr><th>A</th><th>el</th><th>nj</th><th>nk</th><th>group</th><th>name</th><th>Ek</th><th>f</th><th>wrest</th><th>Ref</th><th>mol</th><th>Ej</th><th>ion</th><th>Ex</th><th>Jj</th><th>Jk</th><th>Z</th><th>gk</th><th>gj</th><th>gamma</th></tr></thead>\n",
       "<thead><tr><th>1 / s</th><th></th><th></th><th></th><th></th><th></th><th>1 / cm</th><th></th><th>Angstrom</th><th></th><th></th><th>1 / cm</th><th></th><th>1 / cm</th><th></th><th></th><th></th><th></th><th></th><th>1 / s</th></tr></thead>\n",
       "<thead><tr><th>float64</th><th>int64</th><th>int64</th><th>int64</th><th>int64</th><th>unicode640</th><th>float64</th><th>float64</th><th>float64</th><th>unicode1600</th><th>unicode320</th><th>float64</th><th>int64</th><th>float64</th><th>float64</th><th>float64</th><th>int64</th><th>int64</th><th>int64</th><th>float64</th></tr></thead>\n",
       "<tr><td>79200000.0</td><td>0</td><td>0</td><td>0</td><td>1</td><td>GeI 2755</td><td>37702.3054</td><td>0.0541</td><td>2755.402</td><td>Morton2000</td><td></td><td>1409.96</td><td>0</td><td>0.0</td><td>0.0</td><td>0.0</td><td>32</td><td>3</td><td>5</td><td>214000000.0</td></tr>\n",
       "<tr><td>208000000.0</td><td>0</td><td>0</td><td>0</td><td>1</td><td>GeI 2710</td><td>37451.6893</td><td>0.0764</td><td>2710.427</td><td>Morton2000</td><td></td><td>557.134</td><td>0</td><td>0.0</td><td>0.0</td><td>0.0</td><td>32</td><td>1</td><td>3</td><td>208000000.0</td></tr>\n",
       "<tr><td>47300000.0</td><td>0</td><td>0</td><td>0</td><td>1</td><td>GeI 2692</td><td>37702.3054</td><td>0.0514</td><td>2692.14</td><td>Morton2000</td><td></td><td>557.134</td><td>0</td><td>0.0</td><td>0.0</td><td>0.0</td><td>32</td><td>3</td><td>3</td><td>214000000.0</td></tr>\n",
       "<tr><td>69400000.0</td><td>0</td><td>0</td><td>0</td><td>1</td><td>GeI 2652</td><td>37702.3054</td><td>0.22</td><td>2652.3577</td><td>Morton2000</td><td></td><td>0.0</td><td>0</td><td>0.0</td><td>0.0</td><td>0.0</td><td>32</td><td>3</td><td>1</td><td>214000000.0</td></tr>\n",
       "<tr><td>160000000.0</td><td>0</td><td>0</td><td>0</td><td>1</td><td>GeI 2651</td><td>39117.9021</td><td>0.169</td><td>2651.9612</td><td>Morton2000</td><td></td><td>1409.96</td><td>0</td><td>0.0</td><td>0.0</td><td>0.0</td><td>32</td><td>5</td><td>5</td><td>222000000.0</td></tr>\n",
       "<tr><td>60400000.0</td><td>0</td><td>0</td><td>0</td><td>1</td><td>GeI 2593</td><td>39117.9021</td><td>0.101</td><td>2593.3093</td><td>Morton2000</td><td></td><td>557.134</td><td>0</td><td>0.0</td><td>0.0</td><td>0.0</td><td>32</td><td>5</td><td>3</td><td>222000000.0</td></tr>\n",
       "<tr><td>3970000.0</td><td>0</td><td>0</td><td>0</td><td>1</td><td>GeI 2589</td><td>40020.5604</td><td>0.0024</td><td>2589.9623</td><td>Morton2000</td><td></td><td>1409.96</td><td>0</td><td>0.0</td><td>0.0</td><td>0.0</td><td>32</td><td>3</td><td>5</td><td>236000000.0</td></tr>\n",
       "<tr><td>8560000.0</td><td>0</td><td>0</td><td>0</td><td>1</td><td>GeI 2533</td><td>40020.5604</td><td>0.00824</td><td>2533.9918</td><td>Morton2000</td><td></td><td>557.134</td><td>0</td><td>0.0</td><td>0.0</td><td>0.0</td><td>32</td><td>3</td><td>3</td><td>236000000.0</td></tr>\n",
       "<tr><td>11000000.0</td><td>0</td><td>0</td><td>0</td><td>1</td><td>GeI 2498</td><td>40020.5604</td><td>0.0309</td><td>2498.7156</td><td>Morton2000</td><td></td><td>0.0</td><td>0</td><td>0.0</td><td>0.0</td><td>0.0</td><td>32</td><td>3</td><td>1</td><td>236000000.0</td></tr>\n",
       "<tr><td>...</td><td>...</td><td>...</td><td>...</td><td>...</td><td>...</td><td>...</td><td>...</td><td>...</td><td>...</td><td>...</td><td>...</td><td>...</td><td>...</td><td>...</td><td>...</td><td>...</td><td>...</td><td>...</td><td>...</td></tr>\n",
       "<tr><td>4300000.0</td><td>0</td><td>0</td><td>0</td><td>1</td><td>ThI 3455</td><td>29558.85</td><td>0.0091</td><td>3455.601</td><td>Morton2000</td><td></td><td>620.323</td><td>0</td><td>0.0</td><td>0.0</td><td>0.0</td><td>90</td><td>3</td><td>11</td><td>0.0</td></tr>\n",
       "<tr><td>785000.0</td><td>0</td><td>0</td><td>0</td><td>1</td><td>ThI 3450</td><td>29605.145</td><td>0.0014</td><td>3450.082</td><td>Morton2000</td><td></td><td>620.323</td><td>0</td><td>0.0</td><td>0.0</td><td>0.0</td><td>90</td><td>1</td><td>11</td><td>0.0</td></tr>\n",
       "<tr><td>754000.0</td><td>0</td><td>0</td><td>0</td><td>1</td><td>ThI 3449</td><td>29610.133</td><td>0.0011</td><td>3449.488</td><td>Morton2000</td><td></td><td>620.323</td><td>0</td><td>0.0</td><td>0.0</td><td>0.0</td><td>90</td><td>9</td><td>11</td><td>0.0</td></tr>\n",
       "<tr><td>894000.0</td><td>0</td><td>0</td><td>0</td><td>1</td><td>ThI 3442</td><td>29665.37</td><td>0.0013</td><td>3442.928</td><td>Morton2000</td><td></td><td>620.323</td><td>0</td><td>0.0</td><td>0.0</td><td>0.0</td><td>90</td><td>9</td><td>11</td><td>0.0</td></tr>\n",
       "<tr><td>530000.0</td><td>0</td><td>0</td><td>0</td><td>1</td><td>ThI 3440</td><td>29682.727</td><td>0.00077</td><td>3440.872</td><td>Morton2000</td><td></td><td>620.323</td><td>0</td><td>0.0</td><td>0.0</td><td>0.0</td><td>90</td><td>9</td><td>11</td><td>0.0</td></tr>\n",
       "<tr><td>358000.0</td><td>0</td><td>0</td><td>0</td><td>1</td><td>ThI 3428</td><td>29790.731</td><td>0.00063</td><td>3428.132</td><td>Morton2000</td><td></td><td>620.323</td><td>0</td><td>0.0</td><td>0.0</td><td>0.0</td><td>90</td><td>1</td><td>11</td><td>0.0</td></tr>\n",
       "<tr><td>131000.0</td><td>0</td><td>0</td><td>0</td><td>1</td><td>ThI 3427</td><td>29799.464</td><td>0.00023</td><td>3427.106</td><td>Morton2000</td><td></td><td>620.323</td><td>0</td><td>0.0</td><td>0.0</td><td>0.0</td><td>90</td><td>1</td><td>11</td><td>0.0</td></tr>\n",
       "<tr><td>2980000.0</td><td>0</td><td>0</td><td>0</td><td>1</td><td>ThI 3426</td><td>29801.906</td><td>0.0062</td><td>3426.819</td><td>Morton2000</td><td></td><td>620.323</td><td>0</td><td>0.0</td><td>0.0</td><td>0.0</td><td>90</td><td>3</td><td>11</td><td>0.0</td></tr>\n",
       "<tr><td>8600000.0</td><td>0</td><td>0</td><td>0</td><td>1</td><td>ThII 4051</td><td>24684.135</td><td>0.0212</td><td>4051.185</td><td>Morton2000</td><td></td><td>0.0</td><td>1</td><td>0.0</td><td>0.0</td><td>0.0</td><td>90</td><td>0</td><td>10</td><td>22700000.0</td></tr>\n",
       "<tr><td>20000000.0</td><td>0</td><td>0</td><td>0</td><td>1</td><td>ThII 3860</td><td>26191.312</td><td>0.0521</td><td>3860.665</td><td>Morton2000</td><td></td><td>289.041</td><td>1</td><td>0.0</td><td>0.0</td><td>0.0</td><td>90</td><td>4</td><td>12</td><td>50000000.0</td></tr>\n",
       "</table>"
      ],
      "text/plain": [
       "<Table masked=False length=2697>\n",
       "     A        el    nj    nk  group ...    Jk     Z     gk    gj     gamma   \n",
       "   1 / s                            ...                              1 / s   \n",
       "  float64   int64 int64 int64 int64 ... float64 int64 int64 int64   float64  \n",
       "----------- ----- ----- ----- ----- ... ------- ----- ----- ----- -----------\n",
       " 79200000.0     0     0     0     1 ...     0.0    32     3     5 214000000.0\n",
       "208000000.0     0     0     0     1 ...     0.0    32     1     3 208000000.0\n",
       " 47300000.0     0     0     0     1 ...     0.0    32     3     3 214000000.0\n",
       " 69400000.0     0     0     0     1 ...     0.0    32     3     1 214000000.0\n",
       "160000000.0     0     0     0     1 ...     0.0    32     5     5 222000000.0\n",
       " 60400000.0     0     0     0     1 ...     0.0    32     5     3 222000000.0\n",
       "  3970000.0     0     0     0     1 ...     0.0    32     3     5 236000000.0\n",
       "  8560000.0     0     0     0     1 ...     0.0    32     3     3 236000000.0\n",
       " 11000000.0     0     0     0     1 ...     0.0    32     3     1 236000000.0\n",
       "        ...   ...   ...   ...   ... ...     ...   ...   ...   ...         ...\n",
       "  4300000.0     0     0     0     1 ...     0.0    90     3    11         0.0\n",
       "   785000.0     0     0     0     1 ...     0.0    90     1    11         0.0\n",
       "   754000.0     0     0     0     1 ...     0.0    90     9    11         0.0\n",
       "   894000.0     0     0     0     1 ...     0.0    90     9    11         0.0\n",
       "   530000.0     0     0     0     1 ...     0.0    90     9    11         0.0\n",
       "   358000.0     0     0     0     1 ...     0.0    90     1    11         0.0\n",
       "   131000.0     0     0     0     1 ...     0.0    90     1    11         0.0\n",
       "  2980000.0     0     0     0     1 ...     0.0    90     3    11         0.0\n",
       "  8600000.0     0     0     0     1 ...     0.0    90     0    10  22700000.0\n",
       " 20000000.0     0     0     0     1 ...     0.0    90     4    12  50000000.0"
      ]
     },
     "execution_count": 51,
     "metadata": {},
     "output_type": "execute_result"
    }
   ],
   "source": [
    "m00"
   ]
  },
  {
   "cell_type": "markdown",
   "metadata": {},
   "source": [
    "## Morton 2003"
   ]
  },
  {
   "cell_type": "code",
   "execution_count": 44,
   "metadata": {
    "collapsed": false
   },
   "outputs": [
    {
     "name": "stdout",
     "output_type": "stream",
     "text": [
      "linetools.lists.parse: Reading linelist --- \n",
      "   /Users/xavier/local/Python/linetools/linetools/data/lines/morton03_table2.dat\n",
      "> /Users/xavier/local/Python/linetools/linetools/lists/parse.py(287)parse_morton03()\n",
      "-> ldict, tbl = line_data(nrows=len(lines))\n",
      "(Pdb) ionv\n",
      "['I', 'I', 'I', 'I', 'I', 'II', 'II', 'I', 'II', 'III', 'I', 'II', 'III', 'IV', 'I', 'I', 'I', 'I', 'II', 'III', 'IV', 'V', 'I', 'I', 'I', 'I', 'I', 'I', 'I', 'II', 'III', 'IV', 'V', 'VI', 'I', 'I', 'III', 'IV', 'V', 'VI', 'VII', 'I', 'I', 'I', 'I', 'I', 'II', 'III', 'IV', 'V', 'VI', 'VII', 'I', 'II', 'III', 'IV', 'V', 'VI', 'VII', 'I', 'II', 'III', 'IV', 'V', 'VI', 'VII', 'II', 'III', 'I', 'I', 'II', 'II', 'III', 'IV', 'II', 'III', 'IV', 'V', 'I', 'I', 'I', 'I', 'I', 'II', 'II', 'III', 'IV', 'V', 'VI', 'I', 'I', 'II', 'II', 'III', 'IV', 'V', 'VI', 'VII', 'I', 'I', 'I', 'I', 'II', 'III', 'IV', 'V', 'VI', 'VII', 'I', 'I', 'II', 'III', 'IV', 'V', 'VI', 'VII', 'I', 'II', 'III', 'IV', 'V', 'VI', 'VII', 'I', 'II', 'III', 'I', 'I', 'II', 'III', 'IV', 'V', 'I', 'I', 'I', 'I', 'II', 'II', 'II', 'III', 'IV', 'V', 'I', 'I', 'I', 'I', 'I', 'I', 'II', 'II', 'II', 'III', 'IV', 'V', 'I', 'I', 'II', 'II', 'III', 'III', 'IV', 'V', 'I', 'I', 'I', 'II', 'III', 'IV', 'I', 'I', 'I', 'I', 'I', 'I', 'I', 'I', 'II', 'II', 'II', 'II', 'II', 'II', 'II', 'II', 'II', 'II', 'III', 'IV', 'V', 'I', 'I', 'I', 'I', 'I', 'I', 'II', 'II', 'II', 'II', 'III', 'III', 'IV', 'V', 'I', 'I', 'I', 'I', 'I', 'II', 'II', 'II', 'III', 'IV', 'I', 'I', 'II', 'III', 'IV', 'I', 'II', 'III', 'IV', 'II', 'III', 'IV']\n",
      "(Pdb) c\n"
     ]
    }
   ],
   "source": [
    "reload(lparse)\n",
    "m03 = lparse.parse_morton03(orig=True)"
   ]
  },
  {
   "cell_type": "code",
   "execution_count": 45,
   "metadata": {
    "collapsed": false
   },
   "outputs": [
    {
     "data": {
      "text/html": [
       "&lt;Table masked=False length=3423&gt;\n",
       "<table id=\"table4558678160\">\n",
       "<thead><tr><th>A</th><th>el</th><th>nj</th><th>nk</th><th>group</th><th>name</th><th>Ek</th><th>f</th><th>wrest</th><th>Ref</th><th>mol</th><th>Ej</th><th>ion</th><th>Ex</th><th>Jj</th><th>Jk</th><th>Z</th><th>gk</th><th>gj</th><th>gamma</th></tr></thead>\n",
       "<thead><tr><th>1 / s</th><th></th><th></th><th></th><th></th><th></th><th>1 / cm</th><th></th><th>Angstrom</th><th></th><th></th><th>1 / cm</th><th></th><th>1 / cm</th><th></th><th></th><th></th><th></th><th></th><th>1 / s</th></tr></thead>\n",
       "<thead><tr><th>float64</th><th>int64</th><th>int64</th><th>int64</th><th>int64</th><th>unicode640</th><th>float64</th><th>float64</th><th>float64</th><th>unicode1600</th><th>unicode320</th><th>float64</th><th>int64</th><th>float64</th><th>float64</th><th>float64</th><th>int64</th><th>int64</th><th>int64</th><th>float64</th></tr></thead>\n",
       "<tr><td>626500000.0</td><td>0</td><td>0</td><td>0</td><td>1</td><td>HI 1215</td><td>2259.163</td><td>0.4164</td><td>1215.67</td><td>Morton2003</td><td></td><td>0.0</td><td>0</td><td>0.0</td><td>0.0</td><td>0.0</td><td>1</td><td>6</td><td>2</td><td>0.0</td></tr>\n",
       "<tr><td>626500000.0</td><td>0</td><td>0</td><td>0</td><td>1</td><td>HI 1215</td><td>2258.91907</td><td>0.1388</td><td>1215.6736</td><td>Morton2003</td><td></td><td>0.0</td><td>0</td><td>0.0</td><td>0.0</td><td>0.0</td><td>1</td><td>2</td><td>2</td><td>626500000.0</td></tr>\n",
       "<tr><td>626500000.0</td><td>0</td><td>0</td><td>0</td><td>1</td><td>HI 1215</td><td>2259.28496</td><td>0.2776</td><td>1215.6682</td><td>Morton2003</td><td></td><td>0.0</td><td>0</td><td>0.0</td><td>0.0</td><td>0.0</td><td>1</td><td>4</td><td>2</td><td>626500000.0</td></tr>\n",
       "<tr><td>167300000.0</td><td>0</td><td>0</td><td>0</td><td>1</td><td>HI 1025</td><td>7492.28344</td><td>0.07914</td><td>1025.7222</td><td>Morton2003</td><td></td><td>0.0</td><td>0</td><td>0.0</td><td>0.0</td><td>0.0</td><td>1</td><td>6</td><td>2</td><td>0.0</td></tr>\n",
       "<tr><td>167300000.0</td><td>0</td><td>0</td><td>0</td><td>1</td><td>HI 1025</td><td>7492.21117</td><td>0.02638</td><td>1025.723</td><td>Morton2003</td><td></td><td>0.0</td><td>0</td><td>0.0</td><td>0.0</td><td>0.0</td><td>1</td><td>2</td><td>2</td><td>189700000.0</td></tr>\n",
       "<tr><td>167300000.0</td><td>0</td><td>0</td><td>0</td><td>1</td><td>HI 1025</td><td>7492.31958</td><td>0.05276</td><td>1025.7218</td><td>Morton2003</td><td></td><td>0.0</td><td>0</td><td>0.0</td><td>0.0</td><td>0.0</td><td>1</td><td>4</td><td>2</td><td>189700000.0</td></tr>\n",
       "<tr><td>68190000.0</td><td>0</td><td>0</td><td>0</td><td>1</td><td>HI 972</td><td>2823.879</td><td>0.02901</td><td>972.5367</td><td>Morton2003</td><td></td><td>0.0</td><td>0</td><td>0.0</td><td>0.0</td><td>0.0</td><td>1</td><td>6</td><td>2</td><td>0.0</td></tr>\n",
       "<tr><td>68190000.0</td><td>0</td><td>0</td><td>0</td><td>1</td><td>HI 972</td><td>2823.8485</td><td>0.009669</td><td>972.537</td><td>Morton2003</td><td></td><td>0.0</td><td>0</td><td>0.0</td><td>0.0</td><td>0.0</td><td>1</td><td>2</td><td>2</td><td>81270000.0</td></tr>\n",
       "<tr><td>68190000.0</td><td>0</td><td>0</td><td>0</td><td>1</td><td>HI 972</td><td>2823.8943</td><td>0.01934</td><td>972.5366</td><td>Morton2003</td><td></td><td>0.0</td><td>0</td><td>0.0</td><td>0.0</td><td>0.0</td><td>1</td><td>4</td><td>2</td><td>81270000.0</td></tr>\n",
       "<tr><td>...</td><td>...</td><td>...</td><td>...</td><td>...</td><td>...</td><td>...</td><td>...</td><td>...</td><td>...</td><td>...</td><td>...</td><td>...</td><td>...</td><td>...</td><td>...</td><td>...</td><td>...</td><td>...</td><td>...</td></tr>\n",
       "<tr><td>4000000.0</td><td>0</td><td>0</td><td>0</td><td>1</td><td>GaIV 2236</td><td>45536.66</td><td>0.0015</td><td>2236.61</td><td>Morton2003</td><td></td><td>826.19</td><td>3</td><td>0.0</td><td>0.0</td><td>0.0</td><td>31</td><td>2</td><td>4</td><td>0.0</td></tr>\n",
       "<tr><td>1940000.0</td><td>0</td><td>0</td><td>0</td><td>1</td><td>GaIV 2196</td><td>45536.66</td><td>0.0014</td><td>2196.03</td><td>Morton2003</td><td></td><td>0.0</td><td>3</td><td>0.0</td><td>0.0</td><td>0.0</td><td>31</td><td>2</td><td>2</td><td>0.0</td></tr>\n",
       "<tr><td>530000.0</td><td>0</td><td>0</td><td>0</td><td>1</td><td>GaIV 2215</td><td>45969.2</td><td>0.00039</td><td>2215.18</td><td>Morton2003</td><td></td><td>826.19</td><td>3</td><td>0.0</td><td>0.0</td><td>0.0</td><td>31</td><td>4</td><td>4</td><td>0.0</td></tr>\n",
       "<tr><td>3170000.0</td><td>0</td><td>0</td><td>0</td><td>1</td><td>GaIV 2215</td><td>45972.0</td><td>0.0035</td><td>2215.04</td><td>Morton2003</td><td></td><td>826.19</td><td>3</td><td>0.0</td><td>0.0</td><td>0.0</td><td>31</td><td>6</td><td>4</td><td>0.0</td></tr>\n",
       "<tr><td>3110000.0</td><td>0</td><td>0</td><td>0</td><td>1</td><td>GaIV 2200</td><td>46273.9</td><td>0.00113</td><td>2200.33</td><td>Morton2003</td><td></td><td>826.19</td><td>3</td><td>0.0</td><td>0.0</td><td>0.0</td><td>31</td><td>2</td><td>4</td><td>0.0</td></tr>\n",
       "<tr><td>409000.0</td><td>0</td><td>0</td><td>0</td><td>1</td><td>GaII 2091</td><td>47814.113</td><td>0.000805</td><td>2091.4327</td><td>Morton2003</td><td></td><td>0.0</td><td>1</td><td>0.0</td><td>0.0</td><td>0.0</td><td>31</td><td>3</td><td>1</td><td>409000.0</td></tr>\n",
       "<tr><td>1970000000.0</td><td>0</td><td>0</td><td>0</td><td>1</td><td>GaII 1414</td><td>70701.27</td><td>1.77</td><td>1414.402</td><td>Morton2003</td><td></td><td>0.0</td><td>1</td><td>0.0</td><td>0.0</td><td>0.0</td><td>31</td><td>3</td><td>1</td><td>1970000000.0</td></tr>\n",
       "<tr><td>783000000.0</td><td>0</td><td>0</td><td>0</td><td>1</td><td>GaIII 1507</td><td>66314.89</td><td>0.801</td><td>1507.957</td><td>Morton2003</td><td></td><td>0.0</td><td>2</td><td>0.0</td><td>0.0</td><td>0.0</td><td>31</td><td>6</td><td>2</td><td>0.0</td></tr>\n",
       "<tr><td>742000000.0</td><td>0</td><td>0</td><td>0</td><td>1</td><td>GaIII 1534</td><td>65169.4</td><td>0.262</td><td>1534.462</td><td>Morton2003</td><td></td><td>0.0</td><td>2</td><td>0.0</td><td>0.0</td><td>0.0</td><td>31</td><td>2</td><td>2</td><td>742000000.0</td></tr>\n",
       "<tr><td>805000000.0</td><td>0</td><td>0</td><td>0</td><td>1</td><td>GaIII 1495</td><td>66887.63</td><td>0.539</td><td>1495.045</td><td>Morton2003</td><td></td><td>0.0</td><td>2</td><td>0.0</td><td>0.0</td><td>0.0</td><td>31</td><td>4</td><td>2</td><td>805000000.0</td></tr>\n",
       "</table>"
      ],
      "text/plain": [
       "<Table masked=False length=3423>\n",
       "     A         el    nj    nk  group ...    Jk     Z     gk    gj     gamma    \n",
       "   1 / s                             ...                              1 / s    \n",
       "  float64    int64 int64 int64 int64 ... float64 int64 int64 int64   float64   \n",
       "------------ ----- ----- ----- ----- ... ------- ----- ----- ----- ------------\n",
       " 626500000.0     0     0     0     1 ...     0.0     1     6     2          0.0\n",
       " 626500000.0     0     0     0     1 ...     0.0     1     2     2  626500000.0\n",
       " 626500000.0     0     0     0     1 ...     0.0     1     4     2  626500000.0\n",
       " 167300000.0     0     0     0     1 ...     0.0     1     6     2          0.0\n",
       " 167300000.0     0     0     0     1 ...     0.0     1     2     2  189700000.0\n",
       " 167300000.0     0     0     0     1 ...     0.0     1     4     2  189700000.0\n",
       "  68190000.0     0     0     0     1 ...     0.0     1     6     2          0.0\n",
       "  68190000.0     0     0     0     1 ...     0.0     1     2     2   81270000.0\n",
       "  68190000.0     0     0     0     1 ...     0.0     1     4     2   81270000.0\n",
       "         ...   ...   ...   ...   ... ...     ...   ...   ...   ...          ...\n",
       "   4000000.0     0     0     0     1 ...     0.0    31     2     4          0.0\n",
       "   1940000.0     0     0     0     1 ...     0.0    31     2     2          0.0\n",
       "    530000.0     0     0     0     1 ...     0.0    31     4     4          0.0\n",
       "   3170000.0     0     0     0     1 ...     0.0    31     6     4          0.0\n",
       "   3110000.0     0     0     0     1 ...     0.0    31     2     4          0.0\n",
       "    409000.0     0     0     0     1 ...     0.0    31     3     1     409000.0\n",
       "1970000000.0     0     0     0     1 ...     0.0    31     3     1 1970000000.0\n",
       " 783000000.0     0     0     0     1 ...     0.0    31     6     2          0.0\n",
       " 742000000.0     0     0     0     1 ...     0.0    31     2     2  742000000.0\n",
       " 805000000.0     0     0     0     1 ...     0.0    31     4     2  805000000.0"
      ]
     },
     "execution_count": 45,
     "metadata": {},
     "output_type": "execute_result"
    }
   ],
   "source": [
    "m03"
   ]
  },
  {
   "cell_type": "code",
   "execution_count": 47,
   "metadata": {
    "collapsed": false
   },
   "outputs": [
    {
     "data": {
      "text/plain": [
       "1025.7218"
      ]
     },
     "execution_count": 47,
     "metadata": {},
     "output_type": "execute_result"
    }
   ],
   "source": [
    "m03['wrest'][5]"
   ]
  },
  {
   "cell_type": "markdown",
   "metadata": {},
   "source": [
    "## Line checks"
   ]
  },
  {
   "cell_type": "code",
   "execution_count": 2,
   "metadata": {
    "collapsed": false
   },
   "outputs": [
    {
     "name": "stderr",
     "output_type": "stream",
     "text": [
      "WARNING: UnitsWarning: The unit 'Angstrom' has been deprecated in the FITS standard. Suggested: nm (with data multiplied by 0.1). [astropy.units.format.utils]\n",
      "WARNING:astropy:UnitsWarning: The unit 'Angstrom' has been deprecated in the FITS standard. Suggested: nm (with data multiplied by 0.1).\n"
     ]
    },
    {
     "name": "stdout",
     "output_type": "stream",
     "text": [
      "linetools.lists.parse: Reading linelist --- \n",
      "   /Users/xavier/local/Python/linetools/linetools/data/lines/morton03_table2.fits.gz\n",
      "linetools.lists.parse: Reading linelist --- \n",
      "   /Users/xavier/local/Python/linetools/linetools/data/lines/morton00_table2.fits.gz\n",
      "linetools.lists.parse: Reading linelist --- \n",
      "   /Users/xavier/local/Python/linetools/linetools/data/lines/verner94_tab6.fits\n",
      "set_lines: Did not find HI 912c in data Tables\n",
      "set_lines: Did not find NII 915 in data Tables\n",
      "set_lines: Did not find NII 1083 in data Tables\n",
      "set_lines: Did not find FeIII 1122 in data Tables\n",
      "set_lines: Did not find SIII 1190 in data Tables\n",
      "set_lines: Did not find SeII 1192 in data Tables\n",
      "set_lines: Did not find CI* 1192 in data Tables\n",
      "set_lines: Did not find CI** 1192 in data Tables\n",
      "set_lines: Did not find SII 1250 in data Tables\n",
      "set_lines: Did not find SII 1253 in data Tables\n",
      "set_lines: Did not find COI 10-0 in data Tables\n",
      "set_lines: Did not find COI 9-0 in data Tables\n",
      "set_lines: Did not find SI 1316 in data Tables\n",
      "set_lines: Did not find COI 8-0 in data Tables\n",
      "set_lines: Did not find CCI 1341 in data Tables\n",
      "set_lines: Did not find COI 7-0 in data Tables\n",
      "set_lines: Did not find AsII 1355 in data Tables\n",
      "set_lines: Did not find COI 1367 in data Tables\n",
      "set_lines: Did not find SnII 1400 in data Tables\n",
      "set_lines: Did not find COI 1419 in data Tables\n",
      "set_lines: Did not find HH 1436 in data Tables\n",
      "set_lines: Did not find COI 1447 in data Tables\n",
      "set_lines: Did not find COI 1447 in data Tables\n",
      "set_lines: Did not find COI 1447 in data Tables\n",
      "set_lines: Did not find COI 1447 in data Tables\n",
      "set_lines: Did not find HH 1460 in data Tables\n",
      "set_lines: Did not find XeI 1469 in data Tables\n",
      "set_lines: Did not find COI 1477 in data Tables\n",
      "set_lines: Did not find COI 1477 in data Tables\n",
      "set_lines: Did not find COI 1477 in data Tables\n",
      "set_lines: Did not find HH 1487 in data Tables\n",
      "set_lines: Did not find COI 1509 in data Tables\n",
      "set_lines: Did not find COI 1509 in data Tables\n",
      "set_lines: Did not find COI 1509 in data Tables\n",
      "set_lines: Did not find COI 1510 in data Tables\n",
      "set_lines: Did not find COI 1510 in data Tables\n",
      "set_lines: Did not find COI 1510 in data Tables\n",
      "set_lines: Did not find HH 1517 in data Tables\n",
      "set_lines: Did not find COI 1544 in data Tables\n",
      "set_lines: Did not find COI 1544 in data Tables\n",
      "set_lines: Did not find COI 1544 in data Tables\n",
      "set_lines: Did not find COI 1544 in data Tables\n",
      "set_lines: Did not find FeII* 1566 in data Tables\n",
      "set_lines: Did not find HH 1578 in data Tables\n",
      "set_lines: Did not find SiI 1595 in data Tables\n",
      "set_lines: Did not find HH 1607 in data Tables\n",
      "set_lines: Did not find FeII* 1612 in data Tables\n",
      "set_lines: Did not find FeII* 1637 in data Tables\n",
      "set_lines: Did not find PbII 1682 in data Tables\n",
      "set_lines: Did not find FeII* 1702 in data Tables\n",
      "set_lines: Did not find HH 1704 in data Tables\n",
      "set_lines: Did not find TiII 1910a in data Tables\n",
      "set_lines: Did not find TiII 1910a in data Tables\n",
      "set_lines: Did not find NiII* 2166 in data Tables\n",
      "set_lines: Did not find NiII* 2169 in data Tables\n",
      "set_lines: Did not find NiII* 2217 in data Tables\n",
      "set_lines: Did not find NiII* 2223 in data Tables\n",
      "set_lines: Did not find NiII* 2175 in data Tables\n",
      "set_lines: Did not find NiII* 2316 in data Tables\n",
      "set_lines: Did not find FeII* 2740 in data Tables\n",
      "set_lines: Did not find FeII* 2747 in data Tables\n",
      "set_lines: Did not find FeII* 2747 in data Tables\n",
      "set_lines: Did not find FeII* 2750 in data Tables\n",
      "set_lines: Did not find FeII* 2756 in data Tables\n",
      "set_lines: Did not find TiII* 3239 in data Tables\n"
     ]
    }
   ],
   "source": [
    "ism = LineList('ISM')"
   ]
  },
  {
   "cell_type": "code",
   "execution_count": 20,
   "metadata": {
    "collapsed": false
   },
   "outputs": [
    {
     "data": {
      "text/plain": [
       "<Row 0 of table\n",
       " values=(23000000.0, 0, 0, 0, 1, 'NiII 1467b', 68131.21, 0.0099, 1467.756, 'Morton2003', '', 0.0, 2, 0.0, 0.0, 0.0, 28, 8, 6, 0.0)\n",
       " dtype=[('A', '<f8'), ('el', '<i8'), ('nj', '<i8'), ('nk', '<i8'), ('group', '<i8'), ('name', 'S80'), ('Ek', '<f8'), ('f', '<f8'), ('wrest', '<f8'), ('Ref', 'S200'), ('mol', 'S40'), ('Ej', '<f8'), ('ion', '<i8'), ('Ex', '<f8'), ('Jj', '<f8'), ('Jk', '<f8'), ('Z', '<i8'), ('gk', '<i8'), ('gj', '<i8'), ('gamma', '<f8')]>"
      ]
     },
     "execution_count": 20,
     "metadata": {},
     "output_type": "execute_result"
    }
   ],
   "source": [
    "ism['NiII 1467b']"
   ]
  },
  {
   "cell_type": "code",
   "execution_count": 17,
   "metadata": {
    "collapsed": false
   },
   "outputs": [
    {
     "data": {
      "text/html": [
       "&lt;QTable masked=True length=1&gt;\n",
       "<table id=\"table4543980048\">\n",
       "<thead><tr><th>A</th><th>el</th><th>nj</th><th>nk</th><th>group</th><th>name</th><th>Ek</th><th>f</th><th>wrest</th><th>Ref</th><th>mol</th><th>Ej</th><th>ion</th><th>Ex</th><th>Jj</th><th>Jk</th><th>Z</th><th>gk</th><th>gj</th><th>gamma</th></tr></thead>\n",
       "<thead><tr><th>1 / s</th><th></th><th></th><th></th><th></th><th></th><th>1 / cm</th><th></th><th>Angstrom</th><th></th><th></th><th>1 / cm</th><th></th><th>1 / cm</th><th></th><th></th><th></th><th></th><th></th><th>1 / s</th></tr></thead>\n",
       "<thead><tr><th>float64</th><th>int64</th><th>int64</th><th>int64</th><th>int64</th><th>string640</th><th>float64</th><th>float64</th><th>float64</th><th>string1600</th><th>string320</th><th>float64</th><th>int64</th><th>float64</th><th>float64</th><th>float64</th><th>int64</th><th>int64</th><th>int64</th><th>float64</th></tr></thead>\n",
       "<tr><td>174000000.0</td><td>0</td><td>0</td><td>0</td><td>1</td><td>FeII* 2607</td><td>39013.206</td><td>0.118</td><td>2607.8664</td><td>Morton2003</td><td></td><td>667.683</td><td>2</td><td>0.0</td><td>0.0</td><td>0.0</td><td>26</td><td>4</td><td>6</td><td>261000000.0</td></tr>\n",
       "</table>"
      ],
      "text/plain": [
       "<QTable masked=True length=1>\n",
       "     A        el    nj    nk  group ...    Jk     Z     gk    gj     gamma   \n",
       "   1 / s                            ...                              1 / s   \n",
       "  float64   int64 int64 int64 int64 ... float64 int64 int64 int64   float64  \n",
       "----------- ----- ----- ----- ----- ... ------- ----- ----- ----- -----------\n",
       "174000000.0     0     0     0     1 ...     0.0    26     4     6 261000000.0"
      ]
     },
     "execution_count": 17,
     "metadata": {},
     "output_type": "execute_result"
    }
   ],
   "source": [
    "ism._fulltable[tmp]"
   ]
  },
  {
   "cell_type": "markdown",
   "metadata": {
    "collapsed": true
   },
   "source": [
    "## Murphy & B 2014"
   ]
  },
  {
   "cell_type": "code",
   "execution_count": 4,
   "metadata": {
    "collapsed": true
   },
   "outputs": [],
   "source": [
    "mpth = os.getenv('DROPBOX_DIR')+'/Atomic/MMatomdat/'"
   ]
  },
  {
   "cell_type": "code",
   "execution_count": 8,
   "metadata": {
    "collapsed": false
   },
   "outputs": [],
   "source": [
    "AlII = ascii.read(mpth+'MMatomdat_AlII.csv', format='csv', fast_reader=False)"
   ]
  },
  {
   "cell_type": "code",
   "execution_count": 12,
   "metadata": {
    "collapsed": false
   },
   "outputs": [
    {
     "data": {
      "text/html": [
       "&lt;Table masked=True length=14&gt;\n",
       "<table id=\"table4607595152\">\n",
       "<thead><tr><th>Updated</th><th>09/11/2013</th><th>col2</th><th>col3</th><th>col4</th><th>col5</th><th>col6</th><th>col7</th><th>col8</th><th>col9</th><th>col10</th><th>col11</th><th>col12</th><th>col13</th><th>col14</th><th>col15</th><th>col16</th><th>col17</th><th>col18</th><th>col19</th><th>col20</th></tr></thead>\n",
       "<thead><tr><th>string168</th><th>string392</th><th>string64</th><th>string152</th><th>string72</th><th>string64</th><th>string152</th><th>string152</th><th>string104</th><th>string112</th><th>string64</th><th>string160</th><th>string264</th><th>string48</th><th>string64</th><th>string64</th><th>string48</th><th>string80</th><th>string56</th><th>string64</th><th>string328</th></tr></thead>\n",
       "<tr><td>--</td><td>--</td><td>--</td><td>--</td><td>--</td><td>--</td><td>--</td><td>--</td><td>--</td><td>--</td><td>--</td><td>--</td><td>--</td><td>--</td><td>--</td><td>--</td><td>--</td><td>--</td><td>--</td><td>--</td><td>--</td></tr>\n",
       "<tr><td>Summary</td><td>--</td><td>--</td><td>--</td><td>--</td><td>--</td><td>--</td><td>--</td><td>--</td><td>--</td><td>--</td><td>--</td><td>--</td><td>--</td><td>--</td><td>--</td><td>--</td><td>--</td><td>--</td><td>--</td><td>--</td></tr>\n",
       "<tr><td>Ion</td><td>Tran.</td><td>Type</td><td>A</td><td>w [/cm]</td><td>dw [/cm]</td><td>X</td><td>Ref.</td><td>l [Angstroms]</td><td>dl [Angstroms]</td><td>dv [m/s]</td><td>Lower state</td><td>Upper state</td><td>ID</td><td>IP- [eV]</td><td>IP+ [eV]</td><td>f or %</td><td>Gamma [/s]</td><td>q [/cm]</td><td>dq [/cm]</td><td>q ref.</td></tr>\n",
       "<tr><td>AlII</td><td>1670</td><td>ALL</td><td>26.9815</td><td>59851.976</td><td>0.004</td><td>0</td><td>Griesmann:2000:L113</td><td>1670.78861</td><td>0.00011</td><td>20.0</td><td>3\\rm{s}^2~^1\\rm{S}_0</td><td>3\\rm{s}3\\rm{p}~^1\\rm{P}_1^{\\rm o}</td><td>Al^2_1</td><td>5.99</td><td>18.83</td><td>1.74</td><td>1.39E+09</td><td>270</td><td>10</td><td>Angstmann:2004:014102,Savukov:2008:042501</td></tr>\n",
       "<tr><td>END</td><td>--</td><td>--</td><td>--</td><td>--</td><td>--</td><td>--</td><td>--</td><td>--</td><td>--</td><td>--</td><td>--</td><td>--</td><td>--</td><td>--</td><td>--</td><td>--</td><td>--</td><td>--</td><td>--</td><td>--</td></tr>\n",
       "<tr><td>--</td><td>--</td><td>--</td><td>--</td><td>--</td><td>--</td><td>--</td><td>--</td><td>--</td><td>--</td><td>--</td><td>--</td><td>--</td><td>--</td><td>--</td><td>--</td><td>--</td><td>--</td><td>--</td><td>--</td><td>--</td></tr>\n",
       "<tr><td>Measurements</td><td>--</td><td>--</td><td>--</td><td>--</td><td>--</td><td>--</td><td>--</td><td>--</td><td>--</td><td>--</td><td>--</td><td>--</td><td>--</td><td>--</td><td>--</td><td>--</td><td>--</td><td>--</td><td>--</td><td>--</td></tr>\n",
       "<tr><td>Transition</td><td>w [/cm]</td><td>dw [/cm]</td><td>Reference</td><td>w [/cm]</td><td>dw [/cm]</td><td>Reference/Note</td><td>l [Ang.]</td><td>dl [Ang.]</td><td>--</td><td>--</td><td>--</td><td>--</td><td>--</td><td>--</td><td>--</td><td>--</td><td>--</td><td>--</td><td>--</td><td>--</td></tr>\n",
       "<tr><td>1670</td><td>59851.976</td><td>0.004</td><td>Griesmann:2000:L113</td><td>59851.976</td><td>0.004</td><td>Griesmann:2000:L113</td><td>1670.78861</td><td>0.00011</td><td>--</td><td>--</td><td>--</td><td>--</td><td>--</td><td>--</td><td>--</td><td>--</td><td>--</td><td>--</td><td>--</td><td>--</td></tr>\n",
       "<tr><td>--</td><td>--</td><td>--</td><td>--</td><td>--</td><td>--</td><td>--</td><td>--</td><td>--</td><td>--</td><td>--</td><td>--</td><td>--</td><td>--</td><td>--</td><td>--</td><td>--</td><td>--</td><td>--</td><td>--</td><td>--</td></tr>\n",
       "<tr><td>References</td><td>--</td><td>--</td><td>--</td><td>--</td><td>--</td><td>--</td><td>--</td><td>--</td><td>--</td><td>--</td><td>--</td><td>--</td><td>--</td><td>--</td><td>--</td><td>--</td><td>--</td><td>--</td><td>--</td><td>--</td></tr>\n",
       "<tr><td>Angstmann:2004:014102</td><td>http://adsabs.harvard.edu/abs/2004PhRvA..70a4102A</td><td>--</td><td>--</td><td>--</td><td>--</td><td>--</td><td>--</td><td>--</td><td>--</td><td>--</td><td>--</td><td>--</td><td>--</td><td>--</td><td>--</td><td>--</td><td>--</td><td>--</td><td>--</td><td>--</td></tr>\n",
       "<tr><td>Griesmann:2000:L113</td><td>http://adsabs.harvard.edu/abs/2000ApJ...536L.113G</td><td>--</td><td>--</td><td>--</td><td>--</td><td>--</td><td>--</td><td>--</td><td>--</td><td>--</td><td>--</td><td>--</td><td>--</td><td>--</td><td>--</td><td>--</td><td>--</td><td>--</td><td>--</td><td>--</td></tr>\n",
       "<tr><td>Savukov:2008:042501</td><td>http://adsabs.harvard.edu/abs/2008PhRvA..77d2501S</td><td>--</td><td>--</td><td>--</td><td>--</td><td>--</td><td>--</td><td>--</td><td>--</td><td>--</td><td>--</td><td>--</td><td>--</td><td>--</td><td>--</td><td>--</td><td>--</td><td>--</td><td>--</td><td>--</td></tr>\n",
       "</table>"
      ],
      "text/plain": [
       "<Table masked=True length=14>\n",
       "       Updated        ...                   col20                  \n",
       "      string168       ...                 string328                \n",
       "--------------------- ... -----------------------------------------\n",
       "                   -- ...                                        --\n",
       "              Summary ...                                        --\n",
       "                  Ion ...                                    q ref.\n",
       "                 AlII ... Angstmann:2004:014102,Savukov:2008:042501\n",
       "                  END ...                                        --\n",
       "                   -- ...                                        --\n",
       "         Measurements ...                                        --\n",
       "           Transition ...                                        --\n",
       "                 1670 ...                                        --\n",
       "                   -- ...                                        --\n",
       "           References ...                                        --\n",
       "Angstmann:2004:014102 ...                                        --\n",
       "  Griesmann:2000:L113 ...                                        --\n",
       "  Savukov:2008:042501 ...                                        --"
      ]
     },
     "execution_count": 12,
     "metadata": {},
     "output_type": "execute_result"
    }
   ],
   "source": [
    "AlII"
   ]
  },
  {
   "cell_type": "code",
   "execution_count": 13,
   "metadata": {
    "collapsed": false
   },
   "outputs": [
    {
     "data": {
      "text/html": [
       "&lt;Table masked=True length=10&gt;\n",
       "<table id=\"table4635422608\">\n",
       "<thead><tr><th>Summary</th><th>col1</th><th>col2</th><th>col3</th><th>col4</th><th>col5</th><th>col6</th><th>col7</th><th>col8</th><th>col9</th><th>col10</th><th>col11</th><th>col12</th><th>col13</th><th>col14</th><th>col15</th><th>col16</th><th>col17</th><th>col18</th><th>col19</th><th>col20</th></tr></thead>\n",
       "<thead><tr><th>string40</th><th>string40</th><th>string32</th><th>string104</th><th>string80</th><th>string64</th><th>string8</th><th>string152</th><th>string104</th><th>string112</th><th>string64</th><th>string176</th><th>string264</th><th>string48</th><th>string64</th><th>string64</th><th>string48</th><th>string80</th><th>string56</th><th>string64</th><th>string328</th></tr></thead>\n",
       "<tr><td>Ion</td><td>Tran.</td><td>Type</td><td>A</td><td>w [/cm]</td><td>dw [/cm]</td><td>X</td><td>Ref.</td><td>l [Angstroms]</td><td>dl [Angstroms]</td><td>dv [m/s]</td><td>Lower state</td><td>Upper state</td><td>ID</td><td>IP- [eV]</td><td>IP+ [eV]</td><td>f or %</td><td>Gamma [/s]</td><td>q [/cm]</td><td>dq [/cm]</td><td>q ref.</td></tr>\n",
       "<tr><td>AlII</td><td>1670</td><td>ALL</td><td>26.9815</td><td>59851.976</td><td>0.004</td><td>0</td><td>Griesmann:2000:L113</td><td>1670.78861</td><td>0.00011</td><td>20.0</td><td>3\\rm{s}^2~^1\\rm{S}_0</td><td>3\\rm{s}3\\rm{p}~^1\\rm{P}_1^{\\rm o}</td><td>Al^2_1</td><td>5.99</td><td>18.83</td><td>1.74</td><td>1.39E+09</td><td>270</td><td>10</td><td>Angstmann:2004:014102,Savukov:2008:042501</td></tr>\n",
       "<tr><td>Ion</td><td>Tran.</td><td>--</td><td>A</td><td>w [/cm]</td><td>dw [/cm]</td><td>X</td><td>Ref.</td><td>l [Angstroms]</td><td>dl [Angstroms]</td><td>dv [m/s]</td><td>Lower state</td><td>Upper state</td><td>ID</td><td>IP- [eV]</td><td>IP+ [eV]</td><td>f or %</td><td>Gamma [/s]</td><td>q [/cm]</td><td>dq [/cm]</td><td>q ref.</td></tr>\n",
       "<tr><td>AlIII</td><td>1854</td><td>CMP</td><td>26.9815</td><td>53916.5480</td><td>0.0011</td><td>1</td><td>--</td><td>1854.718146</td><td>0.000039</td><td>6.3</td><td>3\\rm{s}~^2\\rm{S}_{1/2}</td><td>3\\rm{p}~^2\\rm{P}_{3/2}^{\\rm o}</td><td>Al^3_1</td><td>18.83</td><td>28.45</td><td>0.559</td><td>5.42E+08</td><td>458</td><td>6</td><td>Dzuba:2007:062510</td></tr>\n",
       "<tr><td>--</td><td>--</td><td>HYP</td><td>27; 26.981538</td><td>53916.8149</td><td>0.0008</td><td>0</td><td>Griesmann:2000:L113</td><td>1854.708966</td><td>0.000028</td><td>4.4</td><td>F=2</td><td>F=1,2,3</td><td>--</td><td>--</td><td>--</td><td>41.67%</td><td>--</td><td>--</td><td>--</td><td>--</td></tr>\n",
       "<tr><td>--</td><td>--</td><td>HYP</td><td>27; 26.981538</td><td>53916.3574</td><td>0.0008</td><td>0</td><td>Griesmann:2000:L113</td><td>1854.724704</td><td>0.000028</td><td>4.4</td><td>F=3</td><td>F=2,3,4</td><td>--</td><td>--</td><td>--</td><td>58.33%</td><td>--</td><td>--</td><td>--</td><td>--</td></tr>\n",
       "<tr><td>--</td><td>1862</td><td>CMP</td><td>26.9815</td><td>53682.8884</td><td>0.0011</td><td>1</td><td>--</td><td>1862.790974</td><td>0.000039</td><td>6.3</td><td>--</td><td>3\\rm{p}~^2\\rm{P}_{1/2}^{\\rm o}</td><td>Al^3_2</td><td>--</td><td>--</td><td>0.278</td><td>5.34E+08</td><td>224</td><td>8</td><td>Dzuba:2007:062510</td></tr>\n",
       "<tr><td>--</td><td>--</td><td>HYP</td><td>27; 26.981538</td><td>53683.1953</td><td>0.0008</td><td>0</td><td>Griesmann:2000:L113</td><td>1862.780325</td><td>0.000028</td><td>4.5</td><td>F=2</td><td>F=2,3</td><td>--</td><td>--</td><td>--</td><td>41.67%</td><td>--</td><td>--</td><td>--</td><td>--</td></tr>\n",
       "<tr><td>--</td><td>--</td><td>HYP</td><td>27; 26.981538</td><td>53682.6692</td><td>0.0008</td><td>0</td><td>Griesmann:2000:L113</td><td>1862.798581</td><td>0.000028</td><td>4.5</td><td>F=3</td><td>F=2,3</td><td>--</td><td>--</td><td>--</td><td>58.33%</td><td>--</td><td>--</td><td>--</td><td>--</td></tr>\n",
       "<tr><td>END</td><td>--</td><td>--</td><td>--</td><td>--</td><td>--</td><td>--</td><td>--</td><td>--</td><td>--</td><td>--</td><td>--</td><td>--</td><td>--</td><td>--</td><td>--</td><td>--</td><td>--</td><td>--</td><td>--</td><td>--</td></tr>\n",
       "</table>"
      ],
      "text/plain": [
       "<Table masked=True length=10>\n",
       "Summary    col1   ...  col19                     col20                  \n",
       "string40 string40 ... string64                 string328                \n",
       "-------- -------- ... -------- -----------------------------------------\n",
       "     Ion    Tran. ... dq [/cm]                                    q ref.\n",
       "    AlII     1670 ...       10 Angstmann:2004:014102,Savukov:2008:042501\n",
       "     Ion    Tran. ... dq [/cm]                                    q ref.\n",
       "   AlIII     1854 ...        6                         Dzuba:2007:062510\n",
       "      --       -- ...       --                                        --\n",
       "      --       -- ...       --                                        --\n",
       "      --     1862 ...        8                         Dzuba:2007:062510\n",
       "      --       -- ...       --                                        --\n",
       "      --       -- ...       --                                        --\n",
       "     END       -- ...       --                                        --"
      ]
     },
     "execution_count": 13,
     "metadata": {},
     "output_type": "execute_result"
    }
   ],
   "source": [
    "Al"
   ]
  },
  {
   "cell_type": "code",
   "execution_count": null,
   "metadata": {
    "collapsed": true
   },
   "outputs": [],
   "source": []
  }
 ],
 "metadata": {
  "kernelspec": {
   "display_name": "Python 2",
   "language": "python",
   "name": "python2"
  },
  "language_info": {
   "codemirror_mode": {
    "name": "ipython",
    "version": 2
   },
   "file_extension": ".py",
   "mimetype": "text/x-python",
   "name": "python",
   "nbconvert_exporter": "python",
   "pygments_lexer": "ipython2",
   "version": "2.7.9"
  }
 },
 "nbformat": 4,
 "nbformat_minor": 0
}
