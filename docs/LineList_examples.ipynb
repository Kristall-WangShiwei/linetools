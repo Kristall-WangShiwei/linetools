{
 "cells": [
  {
   "cell_type": "markdown",
   "metadata": {},
   "source": [
    "# Example usage of LineList (v1.0)"
   ]
  },
  {
   "cell_type": "code",
   "execution_count": 1,
   "metadata": {
    "collapsed": true
   },
   "outputs": [],
   "source": [
    "#import\n",
    "from linetools.lists.linelist import LineList"
   ]
  },
  {
   "cell_type": "markdown",
   "metadata": {},
   "source": [
    "## Initialize\n",
    "### Lists currently include:\n",
    "* ISM\n",
    "* Strong\n",
    "* H2"
   ]
  },
  {
   "cell_type": "code",
   "execution_count": 2,
   "metadata": {
    "collapsed": false
   },
   "outputs": [
    {
     "name": "stdout",
     "output_type": "stream",
     "text": [
      "linetools.lists.parse: Reading linelist --- \n",
      "   /Users/xavier/local/Python/linetools/linetools/data/lines/morton03_table2.vot\n",
      "linetools.lists.parse: Reading linelist --- \n",
      "   /Users/xavier/local/Python/linetools/linetools/data/lines/verner94_tables.vot"
     ]
    },
    {
     "name": "stderr",
     "output_type": "stream",
     "text": [
      "WARNING: W06: /Users/xavier/local/Python/linetools/linetools/data/lines/verner94_tables.vot:234:4: W06: Invalid UCD 'phys.atmol.level': Secondary word 'phys.atmol.level' is not valid as a primary word [astropy.io.votable.exceptions]\n",
      "WARNING:astropy:W06: /Users/xavier/local/Python/linetools/linetools/data/lines/verner94_tables.vot:234:4: W06: Invalid UCD 'phys.atmol.level': Secondary word 'phys.atmol.level' is not valid as a primary word\n",
      "WARNING: W06: /Users/xavier/local/Python/linetools/linetools/data/lines/verner94_tables.vot:927:4: W06: Invalid UCD 'phys.atmol.level': Secondary word 'phys.atmol.level' is not valid as a primary word [astropy.io.votable.exceptions]\n",
      "WARNING:astropy:W06: /Users/xavier/local/Python/linetools/linetools/data/lines/verner94_tables.vot:927:4: W06: Invalid UCD 'phys.atmol.level': Secondary word 'phys.atmol.level' is not valid as a primary word\n"
     ]
    },
    {
     "name": "stdout",
     "output_type": "stream",
     "text": [
      "\n"
     ]
    }
   ],
   "source": [
    "ism = LineList('ISM',verbose=False)"
   ]
  },
  {
   "cell_type": "markdown",
   "metadata": {},
   "source": [
    "## Check Tables"
   ]
  },
  {
   "cell_type": "code",
   "execution_count": 6,
   "metadata": {
    "collapsed": false
   },
   "outputs": [
    {
     "data": {
      "text/html": [
       "&lt;QTable masked=True length=5&gt;\n",
       "<table id=\"table4567764816\">\n",
       "<thead><tr><th>A</th><th>el</th><th>nj</th><th>nk</th><th>group</th><th>name</th><th>Ek</th><th>f</th><th>wrest</th><th>Ref</th><th>mol</th><th>Ej</th><th>ion</th><th>Ex</th><th>Jj</th><th>Jk</th><th>Z</th><th>gk</th><th>gj</th><th>gamma</th></tr></thead>\n",
       "<thead><tr><th>1 / s</th><th></th><th></th><th></th><th></th><th></th><th>1 / cm</th><th></th><th>Angstrom</th><th></th><th></th><th>1 / cm</th><th></th><th>1 / cm</th><th></th><th></th><th></th><th></th><th></th><th>1 / s</th></tr></thead>\n",
       "<thead><tr><th>float64</th><th>int64</th><th>int64</th><th>int64</th><th>int64</th><th>unicode640</th><th>float64</th><th>float64</th><th>float64</th><th>unicode1600</th><th>unicode320</th><th>float64</th><th>int64</th><th>float64</th><th>float64</th><th>float64</th><th>int64</th><th>int64</th><th>int64</th><th>float64</th></tr></thead>\n",
       "<tr><td>&lt;Quantity 626500000.0 1 / s&gt;</td><td>0</td><td>0</td><td>0</td><td>1</td><td>HI 1215</td><td>&lt;Quantity 2259.163 1 / cm&gt;</td><td>0.41639999999999999</td><td>&lt;Quantity 1215.67 Angstrom&gt;</td><td>Morton2003</td><td></td><td>&lt;Quantity 0.0 1 / cm&gt;</td><td>1</td><td>&lt;Quantity 0.0 1 / cm&gt;</td><td>0.0</td><td>0.0</td><td>1</td><td>6</td><td>2</td><td>&lt;Quantity 0.0 1 / s&gt;</td></tr>\n",
       "<tr><td>&lt;Quantity 626500000.0 1 / s&gt;</td><td>0</td><td>0</td><td>0</td><td>1</td><td>HI 1215</td><td>&lt;Quantity 2258.91907 1 / cm&gt;</td><td>0.13880000000000001</td><td>&lt;Quantity 1215.6736 Angstrom&gt;</td><td>Morton2003</td><td></td><td>&lt;Quantity 0.0 1 / cm&gt;</td><td>1</td><td>&lt;Quantity 0.0 1 / cm&gt;</td><td>0.0</td><td>0.0</td><td>1</td><td>2</td><td>2</td><td>&lt;Quantity 626500000.0 1 / s&gt;</td></tr>\n",
       "<tr><td>&lt;Quantity 626500000.0 1 / s&gt;</td><td>0</td><td>0</td><td>0</td><td>1</td><td>HI 1215</td><td>&lt;Quantity 2259.28496 1 / cm&gt;</td><td>0.27760000000000001</td><td>&lt;Quantity 1215.6682 Angstrom&gt;</td><td>Morton2003</td><td></td><td>&lt;Quantity 0.0 1 / cm&gt;</td><td>1</td><td>&lt;Quantity 0.0 1 / cm&gt;</td><td>0.0</td><td>0.0</td><td>1</td><td>4</td><td>2</td><td>&lt;Quantity 626500000.0 1 / s&gt;</td></tr>\n",
       "<tr><td>&lt;Quantity 167300000.0 1 / s&gt;</td><td>0</td><td>0</td><td>0</td><td>1</td><td>HI 1025</td><td>&lt;Quantity 7492.28344 1 / cm&gt;</td><td>0.079140000000000002</td><td>&lt;Quantity 1025.7222 Angstrom&gt;</td><td>Morton2003</td><td></td><td>&lt;Quantity 0.0 1 / cm&gt;</td><td>1</td><td>&lt;Quantity 0.0 1 / cm&gt;</td><td>0.0</td><td>0.0</td><td>1</td><td>6</td><td>2</td><td>&lt;Quantity 0.0 1 / s&gt;</td></tr>\n",
       "<tr><td>&lt;Quantity 167300000.0 1 / s&gt;</td><td>0</td><td>0</td><td>0</td><td>1</td><td>HI 1025</td><td>&lt;Quantity 7492.21117 1 / cm&gt;</td><td>0.026380000000000001</td><td>&lt;Quantity 1025.723 Angstrom&gt;</td><td>Morton2003</td><td></td><td>&lt;Quantity 0.0 1 / cm&gt;</td><td>1</td><td>&lt;Quantity 0.0 1 / cm&gt;</td><td>0.0</td><td>0.0</td><td>1</td><td>2</td><td>2</td><td>&lt;Quantity 189700000.0 1 / s&gt;</td></tr>\n",
       "</table>"
      ],
      "text/plain": [
       "<QTable masked=True length=5>\n",
       "             A                 el    nj  ...   gj             gamma            \n",
       "           1 / s                         ...                  1 / s            \n",
       "          float64            int64 int64 ... int64           float64           \n",
       "---------------------------- ----- ----- ... ----- ----------------------------\n",
       "<Quantity 626500000.0 1 / s>     0     0 ...     2         <Quantity 0.0 1 / s>\n",
       "<Quantity 626500000.0 1 / s>     0     0 ...     2 <Quantity 626500000.0 1 / s>\n",
       "<Quantity 626500000.0 1 / s>     0     0 ...     2 <Quantity 626500000.0 1 / s>\n",
       "<Quantity 167300000.0 1 / s>     0     0 ...     2         <Quantity 0.0 1 / s>\n",
       "<Quantity 167300000.0 1 / s>     0     0 ...     2 <Quantity 189700000.0 1 / s>"
      ]
     },
     "execution_count": 6,
     "metadata": {},
     "output_type": "execute_result"
    }
   ],
   "source": [
    "# Full set of Data ingested\n",
    "ism._fulltable[0:5]"
   ]
  },
  {
   "cell_type": "code",
   "execution_count": 7,
   "metadata": {
    "collapsed": false
   },
   "outputs": [
    {
     "data": {
      "text/html": [
       "&lt;QTable masked=True length=5&gt;\n",
       "<table id=\"table4567764752\">\n",
       "<thead><tr><th>A</th><th>el</th><th>nj</th><th>nk</th><th>group</th><th>name</th><th>Ek</th><th>f</th><th>wrest</th><th>Ref</th><th>mol</th><th>Ej</th><th>ion</th><th>Ex</th><th>Jj</th><th>Jk</th><th>Z</th><th>gk</th><th>gj</th><th>gamma</th></tr></thead>\n",
       "<thead><tr><th>1 / s</th><th></th><th></th><th></th><th></th><th></th><th>1 / cm</th><th></th><th>Angstrom</th><th></th><th></th><th>1 / cm</th><th></th><th>1 / cm</th><th></th><th></th><th></th><th></th><th></th><th>1 / s</th></tr></thead>\n",
       "<thead><tr><th>float64</th><th>int64</th><th>int64</th><th>int64</th><th>int64</th><th>unicode640</th><th>float64</th><th>float64</th><th>float64</th><th>unicode1600</th><th>unicode320</th><th>float64</th><th>int64</th><th>float64</th><th>float64</th><th>float64</th><th>int64</th><th>int64</th><th>int64</th><th>float64</th></tr></thead>\n",
       "<tr><td>&lt;Quantity 0.0 1 / s&gt;</td><td>0</td><td>0</td><td>0</td><td>1</td><td>NeVI 401</td><td>&lt;Quantity 0.0 1 / cm&gt;</td><td>0.1679999977350235</td><td>&lt;Quantity 401.14 Angstrom&gt;</td><td>Verner1994</td><td></td><td>&lt;Quantity 0.0 1 / cm&gt;</td><td>6</td><td>&lt;Quantity 0.0 1 / cm&gt;</td><td>0.0</td><td>0.0</td><td>0</td><td>2</td><td>2</td><td>&lt;Quantity 0.0 1 / s&gt;</td></tr>\n",
       "<tr><td>&lt;Quantity 0.0 1 / s&gt;</td><td>0</td><td>0</td><td>0</td><td>1</td><td>NeII 405</td><td>&lt;Quantity 0.0 1 / cm&gt;</td><td>0.058600001037120819</td><td>&lt;Quantity 405.8538 Angstrom&gt;</td><td>Verner1994</td><td></td><td>&lt;Quantity 0.0 1 / cm&gt;</td><td>2</td><td>&lt;Quantity 0.0 1 / cm&gt;</td><td>0.0</td><td>0.0</td><td>0</td><td>6</td><td>4</td><td>&lt;Quantity 0.0 1 / s&gt;</td></tr>\n",
       "<tr><td>&lt;Quantity 0.0 1 / s&gt;</td><td>0</td><td>0</td><td>0</td><td>1</td><td>OII 418</td><td>&lt;Quantity 0.0 1 / cm&gt;</td><td>0.0073400000110268593</td><td>&lt;Quantity 418.598 Angstrom&gt;</td><td>Verner1994</td><td></td><td>&lt;Quantity 0.0 1 / cm&gt;</td><td>2</td><td>&lt;Quantity 0.0 1 / cm&gt;</td><td>0.0</td><td>0.0</td><td>0</td><td>6</td><td>4</td><td>&lt;Quantity 0.0 1 / s&gt;</td></tr>\n",
       "<tr><td>&lt;Quantity 0.0 1 / s&gt;</td><td>0</td><td>0</td><td>0</td><td>1</td><td>OII 429</td><td>&lt;Quantity 0.0 1 / cm&gt;</td><td>0.061799999326467514</td><td>&lt;Quantity 429.918 Angstrom&gt;</td><td>Verner1994</td><td></td><td>&lt;Quantity 0.0 1 / cm&gt;</td><td>2</td><td>&lt;Quantity 0.0 1 / cm&gt;</td><td>0.0</td><td>0.0</td><td>0</td><td>2</td><td>4</td><td>&lt;Quantity 0.0 1 / s&gt;</td></tr>\n",
       "<tr><td>&lt;Quantity 0.0 1 / s&gt;</td><td>0</td><td>0</td><td>0</td><td>1</td><td>OII 430a</td><td>&lt;Quantity 0.0 1 / cm&gt;</td><td>0.12399999797344208</td><td>&lt;Quantity 430.041 Angstrom&gt;</td><td>Verner1994</td><td></td><td>&lt;Quantity 0.0 1 / cm&gt;</td><td>2</td><td>&lt;Quantity 0.0 1 / cm&gt;</td><td>0.0</td><td>0.0</td><td>0</td><td>4</td><td>4</td><td>&lt;Quantity 0.0 1 / s&gt;</td></tr>\n",
       "</table>"
      ],
      "text/plain": [
       "<QTable masked=True length=5>\n",
       "         A             el    nj    nk  ...   gk    gj         gamma        \n",
       "       1 / s                           ...                    1 / s        \n",
       "      float64        int64 int64 int64 ... int64 int64       float64       \n",
       "-------------------- ----- ----- ----- ... ----- ----- --------------------\n",
       "<Quantity 0.0 1 / s>     0     0     0 ...     2     2 <Quantity 0.0 1 / s>\n",
       "<Quantity 0.0 1 / s>     0     0     0 ...     6     4 <Quantity 0.0 1 / s>\n",
       "<Quantity 0.0 1 / s>     0     0     0 ...     6     4 <Quantity 0.0 1 / s>\n",
       "<Quantity 0.0 1 / s>     0     0     0 ...     2     4 <Quantity 0.0 1 / s>\n",
       "<Quantity 0.0 1 / s>     0     0     0 ...     4     4 <Quantity 0.0 1 / s>"
      ]
     },
     "execution_count": 7,
     "metadata": {},
     "output_type": "execute_result"
    }
   ],
   "source": [
    "# Subset of data to be used\n",
    "ism._data[0:5]"
   ]
  },
  {
   "cell_type": "markdown",
   "metadata": {},
   "source": [
    "## Calling specific lines"
   ]
  },
  {
   "cell_type": "code",
   "execution_count": 8,
   "metadata": {
    "collapsed": false
   },
   "outputs": [
    {
     "data": {
      "text/plain": [
       "<Row 0 of table\n",
       " values=(626500000.0, 0, 0, 0, 1, u'HI 1215', 2259.163, 0.4164, 1215.67, u'Morton2003', u'', 0.0, 1, 0.0, 0.0, 0.0, 1, 6, 2, 0.0)\n",
       " dtype=[('A', '<f8'), ('el', '<i8'), ('nj', '<i8'), ('nk', '<i8'), ('group', '<i8'), ('name', '<U20'), ('Ek', '<f8'), ('f', '<f8'), ('wrest', '<f8'), ('Ref', '<U50'), ('mol', '<U10'), ('Ej', '<f8'), ('ion', '<i8'), ('Ex', '<f8'), ('Jj', '<f8'), ('Jk', '<f8'), ('Z', '<i8'), ('gk', '<i8'), ('gj', '<i8'), ('gamma', '<f8')]>"
      ]
     },
     "execution_count": 8,
     "metadata": {},
     "output_type": "execute_result"
    }
   ],
   "source": [
    "ism['HI 1215']"
   ]
  },
  {
   "cell_type": "code",
   "execution_count": 9,
   "metadata": {
    "collapsed": false
   },
   "outputs": [
    {
     "data": {
      "text/plain": [
       "0.41639999999999999"
      ]
     },
     "execution_count": 9,
     "metadata": {},
     "output_type": "execute_result"
    }
   ],
   "source": [
    "ism['HI 1215']['f']"
   ]
  },
  {
   "cell_type": "markdown",
   "metadata": {},
   "source": [
    "## Parsing entire fields"
   ]
  },
  {
   "cell_type": "code",
   "execution_count": null,
   "metadata": {
    "collapsed": true
   },
   "outputs": [],
   "source": [
    "FUV = np.where( (ism.wrest > 912.*u.AA) & (ism.wrest < 1200.*u.AA))"
   ]
  }
 ],
 "metadata": {
  "kernelspec": {
   "display_name": "Python 2",
   "language": "python",
   "name": "python2"
  },
  "language_info": {
   "codemirror_mode": {
    "name": "ipython",
    "version": 2
   },
   "file_extension": ".py",
   "mimetype": "text/x-python",
   "name": "python",
   "nbconvert_exporter": "python",
   "pygments_lexer": "ipython2",
   "version": "2.7.9"
  }
 },
 "nbformat": 4,
 "nbformat_minor": 0
}
