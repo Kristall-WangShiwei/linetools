{
 "cells": [
  {
   "cell_type": "markdown",
   "metadata": {},
   "source": [
    "# Example usage of LineList (v1.0)"
   ]
  },
  {
   "cell_type": "code",
   "execution_count": 1,
   "metadata": {
    "collapsed": true
   },
   "outputs": [],
   "source": [
    "#import\n",
    "from linetools.lists.linelist import LineList"
   ]
  },
  {
   "cell_type": "markdown",
   "metadata": {},
   "source": [
    "## Initialize\n",
    "### Lists currently include (more to come):\n",
    "* ISM\n",
    "* Strong\n",
    "* H2"
   ]
  },
  {
   "cell_type": "code",
   "execution_count": 2,
   "metadata": {
    "collapsed": false
   },
   "outputs": [
    {
     "name": "stdout",
     "output_type": "stream",
     "text": [
      "linetools.lists.parse: Reading linelist --- \n",
      "   /Users/xavier/local/Python/linetools/linetools/data/lines/morton03_table2.vot\n",
      "linetools.lists.parse: Reading linelist --- \n",
      "   /Users/xavier/local/Python/linetools/linetools/data/lines/verner94_tables.vot"
     ]
    },
    {
     "name": "stderr",
     "output_type": "stream",
     "text": [
      "WARNING: W06: /Users/xavier/local/Python/linetools/linetools/data/lines/verner94_tables.vot:234:4: W06: Invalid UCD 'phys.atmol.level': Secondary word 'phys.atmol.level' is not valid as a primary word [astropy.io.votable.exceptions]\n",
      "WARNING:astropy:W06: /Users/xavier/local/Python/linetools/linetools/data/lines/verner94_tables.vot:234:4: W06: Invalid UCD 'phys.atmol.level': Secondary word 'phys.atmol.level' is not valid as a primary word\n",
      "WARNING: W06: /Users/xavier/local/Python/linetools/linetools/data/lines/verner94_tables.vot:927:4: W06: Invalid UCD 'phys.atmol.level': Secondary word 'phys.atmol.level' is not valid as a primary word [astropy.io.votable.exceptions]\n",
      "WARNING:astropy:W06: /Users/xavier/local/Python/linetools/linetools/data/lines/verner94_tables.vot:927:4: W06: Invalid UCD 'phys.atmol.level': Secondary word 'phys.atmol.level' is not valid as a primary word\n"
     ]
    },
    {
     "name": "stdout",
     "output_type": "stream",
     "text": [
      "\n"
     ]
    }
   ],
   "source": [
    "ism = LineList('ISM',verbose=False)"
   ]
  },
  {
   "cell_type": "markdown",
   "metadata": {},
   "source": [
    "## Check Tables"
   ]
  },
  {
   "cell_type": "code",
   "execution_count": 6,
   "metadata": {
    "collapsed": false
   },
   "outputs": [
    {
     "data": {
      "text/html": [
       "&lt;QTable masked=True length=5&gt;\n",
       "<table id=\"table4567764816\">\n",
       "<thead><tr><th>A</th><th>el</th><th>nj</th><th>nk</th><th>group</th><th>name</th><th>Ek</th><th>f</th><th>wrest</th><th>Ref</th><th>mol</th><th>Ej</th><th>ion</th><th>Ex</th><th>Jj</th><th>Jk</th><th>Z</th><th>gk</th><th>gj</th><th>gamma</th></tr></thead>\n",
       "<thead><tr><th>1 / s</th><th></th><th></th><th></th><th></th><th></th><th>1 / cm</th><th></th><th>Angstrom</th><th></th><th></th><th>1 / cm</th><th></th><th>1 / cm</th><th></th><th></th><th></th><th></th><th></th><th>1 / s</th></tr></thead>\n",
       "<thead><tr><th>float64</th><th>int64</th><th>int64</th><th>int64</th><th>int64</th><th>unicode640</th><th>float64</th><th>float64</th><th>float64</th><th>unicode1600</th><th>unicode320</th><th>float64</th><th>int64</th><th>float64</th><th>float64</th><th>float64</th><th>int64</th><th>int64</th><th>int64</th><th>float64</th></tr></thead>\n",
       "<tr><td>&lt;Quantity 626500000.0 1 / s&gt;</td><td>0</td><td>0</td><td>0</td><td>1</td><td>HI 1215</td><td>&lt;Quantity 2259.163 1 / cm&gt;</td><td>0.41639999999999999</td><td>&lt;Quantity 1215.67 Angstrom&gt;</td><td>Morton2003</td><td></td><td>&lt;Quantity 0.0 1 / cm&gt;</td><td>1</td><td>&lt;Quantity 0.0 1 / cm&gt;</td><td>0.0</td><td>0.0</td><td>1</td><td>6</td><td>2</td><td>&lt;Quantity 0.0 1 / s&gt;</td></tr>\n",
       "<tr><td>&lt;Quantity 626500000.0 1 / s&gt;</td><td>0</td><td>0</td><td>0</td><td>1</td><td>HI 1215</td><td>&lt;Quantity 2258.91907 1 / cm&gt;</td><td>0.13880000000000001</td><td>&lt;Quantity 1215.6736 Angstrom&gt;</td><td>Morton2003</td><td></td><td>&lt;Quantity 0.0 1 / cm&gt;</td><td>1</td><td>&lt;Quantity 0.0 1 / cm&gt;</td><td>0.0</td><td>0.0</td><td>1</td><td>2</td><td>2</td><td>&lt;Quantity 626500000.0 1 / s&gt;</td></tr>\n",
       "<tr><td>&lt;Quantity 626500000.0 1 / s&gt;</td><td>0</td><td>0</td><td>0</td><td>1</td><td>HI 1215</td><td>&lt;Quantity 2259.28496 1 / cm&gt;</td><td>0.27760000000000001</td><td>&lt;Quantity 1215.6682 Angstrom&gt;</td><td>Morton2003</td><td></td><td>&lt;Quantity 0.0 1 / cm&gt;</td><td>1</td><td>&lt;Quantity 0.0 1 / cm&gt;</td><td>0.0</td><td>0.0</td><td>1</td><td>4</td><td>2</td><td>&lt;Quantity 626500000.0 1 / s&gt;</td></tr>\n",
       "<tr><td>&lt;Quantity 167300000.0 1 / s&gt;</td><td>0</td><td>0</td><td>0</td><td>1</td><td>HI 1025</td><td>&lt;Quantity 7492.28344 1 / cm&gt;</td><td>0.079140000000000002</td><td>&lt;Quantity 1025.7222 Angstrom&gt;</td><td>Morton2003</td><td></td><td>&lt;Quantity 0.0 1 / cm&gt;</td><td>1</td><td>&lt;Quantity 0.0 1 / cm&gt;</td><td>0.0</td><td>0.0</td><td>1</td><td>6</td><td>2</td><td>&lt;Quantity 0.0 1 / s&gt;</td></tr>\n",
       "<tr><td>&lt;Quantity 167300000.0 1 / s&gt;</td><td>0</td><td>0</td><td>0</td><td>1</td><td>HI 1025</td><td>&lt;Quantity 7492.21117 1 / cm&gt;</td><td>0.026380000000000001</td><td>&lt;Quantity 1025.723 Angstrom&gt;</td><td>Morton2003</td><td></td><td>&lt;Quantity 0.0 1 / cm&gt;</td><td>1</td><td>&lt;Quantity 0.0 1 / cm&gt;</td><td>0.0</td><td>0.0</td><td>1</td><td>2</td><td>2</td><td>&lt;Quantity 189700000.0 1 / s&gt;</td></tr>\n",
       "</table>"
      ],
      "text/plain": [
       "<QTable masked=True length=5>\n",
       "             A                 el    nj  ...   gj             gamma            \n",
       "           1 / s                         ...                  1 / s            \n",
       "          float64            int64 int64 ... int64           float64           \n",
       "---------------------------- ----- ----- ... ----- ----------------------------\n",
       "<Quantity 626500000.0 1 / s>     0     0 ...     2         <Quantity 0.0 1 / s>\n",
       "<Quantity 626500000.0 1 / s>     0     0 ...     2 <Quantity 626500000.0 1 / s>\n",
       "<Quantity 626500000.0 1 / s>     0     0 ...     2 <Quantity 626500000.0 1 / s>\n",
       "<Quantity 167300000.0 1 / s>     0     0 ...     2         <Quantity 0.0 1 / s>\n",
       "<Quantity 167300000.0 1 / s>     0     0 ...     2 <Quantity 189700000.0 1 / s>"
      ]
     },
     "execution_count": 6,
     "metadata": {},
     "output_type": "execute_result"
    }
   ],
   "source": [
    "# Full set of Data ingested\n",
    "ism._fulltable[0:5]"
   ]
  },
  {
   "cell_type": "code",
   "execution_count": 7,
   "metadata": {
    "collapsed": false
   },
   "outputs": [
    {
     "data": {
      "text/html": [
       "&lt;QTable masked=True length=5&gt;\n",
       "<table id=\"table4567764752\">\n",
       "<thead><tr><th>A</th><th>el</th><th>nj</th><th>nk</th><th>group</th><th>name</th><th>Ek</th><th>f</th><th>wrest</th><th>Ref</th><th>mol</th><th>Ej</th><th>ion</th><th>Ex</th><th>Jj</th><th>Jk</th><th>Z</th><th>gk</th><th>gj</th><th>gamma</th></tr></thead>\n",
       "<thead><tr><th>1 / s</th><th></th><th></th><th></th><th></th><th></th><th>1 / cm</th><th></th><th>Angstrom</th><th></th><th></th><th>1 / cm</th><th></th><th>1 / cm</th><th></th><th></th><th></th><th></th><th></th><th>1 / s</th></tr></thead>\n",
       "<thead><tr><th>float64</th><th>int64</th><th>int64</th><th>int64</th><th>int64</th><th>unicode640</th><th>float64</th><th>float64</th><th>float64</th><th>unicode1600</th><th>unicode320</th><th>float64</th><th>int64</th><th>float64</th><th>float64</th><th>float64</th><th>int64</th><th>int64</th><th>int64</th><th>float64</th></tr></thead>\n",
       "<tr><td>&lt;Quantity 0.0 1 / s&gt;</td><td>0</td><td>0</td><td>0</td><td>1</td><td>NeVI 401</td><td>&lt;Quantity 0.0 1 / cm&gt;</td><td>0.1679999977350235</td><td>&lt;Quantity 401.14 Angstrom&gt;</td><td>Verner1994</td><td></td><td>&lt;Quantity 0.0 1 / cm&gt;</td><td>6</td><td>&lt;Quantity 0.0 1 / cm&gt;</td><td>0.0</td><td>0.0</td><td>0</td><td>2</td><td>2</td><td>&lt;Quantity 0.0 1 / s&gt;</td></tr>\n",
       "<tr><td>&lt;Quantity 0.0 1 / s&gt;</td><td>0</td><td>0</td><td>0</td><td>1</td><td>NeII 405</td><td>&lt;Quantity 0.0 1 / cm&gt;</td><td>0.058600001037120819</td><td>&lt;Quantity 405.8538 Angstrom&gt;</td><td>Verner1994</td><td></td><td>&lt;Quantity 0.0 1 / cm&gt;</td><td>2</td><td>&lt;Quantity 0.0 1 / cm&gt;</td><td>0.0</td><td>0.0</td><td>0</td><td>6</td><td>4</td><td>&lt;Quantity 0.0 1 / s&gt;</td></tr>\n",
       "<tr><td>&lt;Quantity 0.0 1 / s&gt;</td><td>0</td><td>0</td><td>0</td><td>1</td><td>OII 418</td><td>&lt;Quantity 0.0 1 / cm&gt;</td><td>0.0073400000110268593</td><td>&lt;Quantity 418.598 Angstrom&gt;</td><td>Verner1994</td><td></td><td>&lt;Quantity 0.0 1 / cm&gt;</td><td>2</td><td>&lt;Quantity 0.0 1 / cm&gt;</td><td>0.0</td><td>0.0</td><td>0</td><td>6</td><td>4</td><td>&lt;Quantity 0.0 1 / s&gt;</td></tr>\n",
       "<tr><td>&lt;Quantity 0.0 1 / s&gt;</td><td>0</td><td>0</td><td>0</td><td>1</td><td>OII 429</td><td>&lt;Quantity 0.0 1 / cm&gt;</td><td>0.061799999326467514</td><td>&lt;Quantity 429.918 Angstrom&gt;</td><td>Verner1994</td><td></td><td>&lt;Quantity 0.0 1 / cm&gt;</td><td>2</td><td>&lt;Quantity 0.0 1 / cm&gt;</td><td>0.0</td><td>0.0</td><td>0</td><td>2</td><td>4</td><td>&lt;Quantity 0.0 1 / s&gt;</td></tr>\n",
       "<tr><td>&lt;Quantity 0.0 1 / s&gt;</td><td>0</td><td>0</td><td>0</td><td>1</td><td>OII 430a</td><td>&lt;Quantity 0.0 1 / cm&gt;</td><td>0.12399999797344208</td><td>&lt;Quantity 430.041 Angstrom&gt;</td><td>Verner1994</td><td></td><td>&lt;Quantity 0.0 1 / cm&gt;</td><td>2</td><td>&lt;Quantity 0.0 1 / cm&gt;</td><td>0.0</td><td>0.0</td><td>0</td><td>4</td><td>4</td><td>&lt;Quantity 0.0 1 / s&gt;</td></tr>\n",
       "</table>"
      ],
      "text/plain": [
       "<QTable masked=True length=5>\n",
       "         A             el    nj    nk  ...   gk    gj         gamma        \n",
       "       1 / s                           ...                    1 / s        \n",
       "      float64        int64 int64 int64 ... int64 int64       float64       \n",
       "-------------------- ----- ----- ----- ... ----- ----- --------------------\n",
       "<Quantity 0.0 1 / s>     0     0     0 ...     2     2 <Quantity 0.0 1 / s>\n",
       "<Quantity 0.0 1 / s>     0     0     0 ...     6     4 <Quantity 0.0 1 / s>\n",
       "<Quantity 0.0 1 / s>     0     0     0 ...     6     4 <Quantity 0.0 1 / s>\n",
       "<Quantity 0.0 1 / s>     0     0     0 ...     2     4 <Quantity 0.0 1 / s>\n",
       "<Quantity 0.0 1 / s>     0     0     0 ...     4     4 <Quantity 0.0 1 / s>"
      ]
     },
     "execution_count": 7,
     "metadata": {},
     "output_type": "execute_result"
    }
   ],
   "source": [
    "# Subset of data to be used\n",
    "ism._data[0:5]"
   ]
  },
  {
   "cell_type": "markdown",
   "metadata": {},
   "source": [
    "## Calling specific lines"
   ]
  },
  {
   "cell_type": "code",
   "execution_count": 8,
   "metadata": {
    "collapsed": false
   },
   "outputs": [
    {
     "data": {
      "text/plain": [
       "<Row 0 of table\n",
       " values=(626500000.0, 0, 0, 0, 1, u'HI 1215', 2259.163, 0.4164, 1215.67, u'Morton2003', u'', 0.0, 1, 0.0, 0.0, 0.0, 1, 6, 2, 0.0)\n",
       " dtype=[('A', '<f8'), ('el', '<i8'), ('nj', '<i8'), ('nk', '<i8'), ('group', '<i8'), ('name', '<U20'), ('Ek', '<f8'), ('f', '<f8'), ('wrest', '<f8'), ('Ref', '<U50'), ('mol', '<U10'), ('Ej', '<f8'), ('ion', '<i8'), ('Ex', '<f8'), ('Jj', '<f8'), ('Jk', '<f8'), ('Z', '<i8'), ('gk', '<i8'), ('gj', '<i8'), ('gamma', '<f8')]>"
      ]
     },
     "execution_count": 8,
     "metadata": {},
     "output_type": "execute_result"
    }
   ],
   "source": [
    "ism['HI 1215']"
   ]
  },
  {
   "cell_type": "code",
   "execution_count": 9,
   "metadata": {
    "collapsed": false
   },
   "outputs": [
    {
     "data": {
      "text/plain": [
       "0.41639999999999999"
      ]
     },
     "execution_count": 9,
     "metadata": {},
     "output_type": "execute_result"
    }
   ],
   "source": [
    "ism['HI 1215']['f']"
   ]
  },
  {
   "cell_type": "markdown",
   "metadata": {},
   "source": [
    "## Parsing entire fields"
   ]
  },
  {
   "cell_type": "code",
   "execution_count": 11,
   "metadata": {
    "collapsed": false
   },
   "outputs": [
    {
     "data": {
      "text/latex": [
       "$[912.7032,~912.7676,~912.8389,~\\dots, 1198.2625,~1199.391,~1199.5496] \\; \\mathrm{\\overset{\\circ}{A}}$"
      ],
      "text/plain": [
       "<Quantity [  912.7032,  912.7676,  912.8389,  913.1042,  912.9179,\n",
       "             913.0059,  913.2146,  913.3391,  913.4803,  913.6411,\n",
       "             913.641 ,  913.641 ,  913.8256,  913.9683,  914.0385,\n",
       "             914.2861,  914.286 ,  914.285 ,  914.5762,  914.9192,\n",
       "             914.919 ,  915.0799,  915.3289,  915.5746,  915.8238,\n",
       "             916.1798,  916.4291,  917.1178,  916.931 ,  917.1805,\n",
       "             917.8796,  918.1293,  919.1013,  919.101 ,  919.3513,\n",
       "             920.7125,  920.7125,  920.7125,  920.963 ,  920.963 ,\n",
       "             920.963 ,  921.86  ,  921.86  ,  921.86  ,  922.2   ,\n",
       "             922.8992,  922.8992,  922.8992,  923.1503,  923.1503,\n",
       "             923.1503,  924.952 ,  924.952 ,  924.952 ,  925.442 ,\n",
       "             925.9737,  925.9737,  925.9737,  926.2256,  926.2257,\n",
       "             926.2256,  929.5168,  930.2566,  930.495 ,  930.4951,\n",
       "             930.495 ,  930.7482,  930.7482,  930.7482,  933.378 ,\n",
       "             936.6295,  937.5483,  937.5484,  937.5483,  937.8034,\n",
       "             937.8035,  937.8034,  944.523 ,  945.191 ,  945.338 ,\n",
       "             945.579 ,  948.6855,  949.4846,  949.4848,  949.4846,\n",
       "             949.743 ,  949.7431,  949.7429,  950.8846,  953.4152,\n",
       "             953.6549,  953.9699,  954.8267,  963.8005,  963.9903,\n",
       "             964.6256,  965.0413,  971.7382,  971.7376,  971.7371,\n",
       "             972.2722,  972.2725,  972.272 ,  972.5367,  972.537 ,\n",
       "             972.5366,  976.4481,  977.0201,  988.5778,  988.6549,\n",
       "             988.7734,  989.799 ,  989.8731,  997.9996, 1012.501 ,\n",
       "            1020.6989, 1025.4432, 1025.444 , 1025.4428, 1025.7222,\n",
       "            1025.723 , 1025.7218, 1025.7626, 1025.7616, 1025.9681,\n",
       "            1026.1134, 1031.9261, 1036.3367, 1037.0182, 1037.6167,\n",
       "            1039.2304, 1048.2199, 1055.2617, 1062.1517, 1062.662 ,\n",
       "            1063.1764, 1063.8311, 1063.9718, 1066.6598, 1071.0358,\n",
       "            1081.8748, 1096.8769, 1106.3596, 1112.048 , 1112.269 ,\n",
       "            1117.    , 1117.133 , 1117.205 , 1117.244 , 1117.338 ,\n",
       "            1117.393 , 1117.542 , 1117.581 , 1117.604 , 1117.6217,\n",
       "            1117.675 , 1117.73  , 1117.865 , 1117.9202, 1117.9774,\n",
       "            1118.07  , 1118.1254, 1118.3798, 1118.408 , 1118.4631,\n",
       "            1118.491 , 1118.7176, 1121.453 , 1121.5196, 1121.641 ,\n",
       "            1121.659 , 1121.7132, 1121.7261, 1121.758 , 1121.9198,\n",
       "            1121.9748, 1121.999 , 1122.004 , 1122.0659, 1122.098 ,\n",
       "            1122.1797, 1122.2597, 1122.327 , 1122.344 , 1122.437 ,\n",
       "            1122.5183, 1122.644 , 1122.7252, 1122.7729, 1122.795 ,\n",
       "            1122.985 , 1123.0656, 1123.107 , 1123.1192, 1123.135 ,\n",
       "            1123.4599, 1125.4477, 1128.0078, 1128.081 , 1128.1713,\n",
       "            1128.252 , 1128.29  , 1128.3803, 1128.408 , 1128.477 ,\n",
       "            1128.634 , 1128.6861, 1128.7241, 1128.752 , 1128.817 ,\n",
       "            1128.9028, 1129.0301, 1129.078 , 1129.141 , 1129.161 ,\n",
       "            1129.195 , 1129.3175, 1129.405 , 1129.4222, 1129.5269,\n",
       "            1129.5945, 1129.624 , 1129.749 , 1129.8714, 1129.925 ,\n",
       "            1129.969 , 1130.1708, 1130.5157, 1133.6654, 1134.1653,\n",
       "            1134.4149, 1134.9803, 1138.384 , 1138.557 , 1138.5609,\n",
       "            1138.597 , 1138.598 , 1138.743 , 1138.7738, 1138.947 ,\n",
       "            1139.0867, 1139.093 , 1139.124 , 1139.2998, 1139.4256,\n",
       "            1139.5145, 1139.6503, 1139.7659, 1139.7919, 1139.793 ,\n",
       "            1139.8121, 1139.8651, 1140.0053, 1140.0096, 1140.1167,\n",
       "            1140.223 , 1140.3165, 1140.3562, 1140.3576, 1140.5741,\n",
       "            1140.6415, 1140.7088, 1141.3267, 1141.6785, 1142.3656,\n",
       "            1143.226 , 1144.9379, 1149.958 , 1152.818 , 1155.8092,\n",
       "            1155.9793, 1156.0286, 1156.1842, 1156.1992, 1156.3895,\n",
       "            1156.4037, 1156.5603, 1156.7648, 1157.1857, 1157.33  ,\n",
       "            1157.4056, 1157.7674, 1157.7697, 1157.9097, 1158.0188,\n",
       "            1158.0349, 1158.1299, 1158.1317, 1158.324 , 1158.3971,\n",
       "            1158.4921, 1158.5443, 1158.6744, 1158.7321, 1158.9068,\n",
       "            1158.9668, 1159.0947, 1159.8168, 1160.5131, 1160.8768,\n",
       "            1160.9366, 1188.8329, 1188.9928, 1189.065 , 1189.2488,\n",
       "            1189.4468, 1189.6307, 1190.0209, 1190.2535, 1190.4158,\n",
       "            1190.636 , 1191.842 , 1192.2175, 1193.0085, 1193.03  ,\n",
       "            1193.2401, 1193.2637, 1193.2897, 1193.3928, 1193.6483,\n",
       "            1193.6786, 1193.9954, 1194.0634, 1194.2295, 1194.301 ,\n",
       "            1194.4055, 1194.4885, 1194.6146, 1194.6862, 1197.184 ,\n",
       "            1197.3938, 1197.875 , 1198.2625, 1199.391 , 1199.5496] Angstrom>"
      ]
     },
     "execution_count": 11,
     "metadata": {},
     "output_type": "execute_result"
    }
   ],
   "source": [
    "FUV = np.where( (ism.wrest > 912.*u.AA) & (ism.wrest < 1200.*u.AA))[0]\n",
    "ism.wrest[FUV]"
   ]
  },
  {
   "cell_type": "code",
   "execution_count": 13,
   "metadata": {
    "collapsed": false
   },
   "outputs": [
    {
     "data": {
      "text/plain": [
       "array([u'CII 1036', u'CII* 1037', u'CII 1334', u'CII* 1335', u'CII 2325'], \n",
       "      dtype='<U20')"
      ]
     },
     "execution_count": 13,
     "metadata": {},
     "output_type": "execute_result"
    }
   ],
   "source": [
    "CII_lines = np.where((ism.Z == 6) & (ism.ion == 2))[0]\n",
    "ism.name[CII_lines]"
   ]
  },
  {
   "cell_type": "code",
   "execution_count": null,
   "metadata": {
    "collapsed": true
   },
   "outputs": [],
   "source": []
  }
 ],
 "metadata": {
  "kernelspec": {
   "display_name": "Python 2",
   "language": "python",
   "name": "python2"
  },
  "language_info": {
   "codemirror_mode": {
    "name": "ipython",
    "version": 2
   },
   "file_extension": ".py",
   "mimetype": "text/x-python",
   "name": "python",
   "nbconvert_exporter": "python",
   "pygments_lexer": "ipython2",
   "version": "2.7.9"
  }
 },
 "nbformat": 4,
 "nbformat_minor": 0
}
